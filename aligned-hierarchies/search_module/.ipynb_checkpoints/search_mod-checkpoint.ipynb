{
 "cells": [
  {
   "cell_type": "markdown",
   "metadata": {},
   "source": [
    "# search "
   ]
  },
  {
   "cell_type": "markdown",
   "metadata": {},
   "source": [
    "This journal runs examples for the following functions: \n",
    "\n",
    "* **find_add_erows**: Finds pairs of repeated structures, represented as diagonals of a certain length, k, that end at the same time step as previously found pairs of repeated structures of the same length.\n",
    "\n",
    "* **find_add_mrows** - Finds pairs of repeated structures, represented as diagonals of a certain length, k, that neither start nor end at the same time steps as previously found pairs of repeated structures of the same length. \n",
    "\n",
    "* **find_add_srows**: Finds pairs of repeated structures, represented as diagonals of a certain length, k, that start at the same time step as previously found pairs of repeated structures of the same length.  \n",
    "\n",
    "* **find_all_repeats**: Finds all the diagonals present in thresh_mat. This function is nearly identical to find_initial_repeats, with two crucial differences. First, we do not remove diagonals after we find them. Second, there is no smallest bandwidth size as we are looking for all diagonals.\n",
    "\n",
    "* **find_complete_list_anno_only**: Finds annotations for all pairs of repeats found in find_all_repeats. This list contains all the pairs of repeated structures with their start/end indices and lengths.    \n",
    "\n",
    "* **find_complete_list**: Finds all smaller diagonals (and the associated pairs of repeats) that are contained pair_list, which is composed of larger diagonals found in find_initial_repeats. \n",
    "\n",
    "Imported functions used from utilities include:  \n",
    "\n",
    "* stretch_diags\n",
    "* add_annotations \n",
    "* \\_\\_find_song_pattern\n",
    "\n",
    "<h3 align = \"left\"> Figure 1. Where are you? </h3>\n",
    "<img src=\"function_flow_chart.png\" alt=\"Chart\" style=\"width:250px;\" align = \"left\"/>\n",
    "\n",
    "- Figure 1 is a function flowchart of aligned hierarchies. This flowchart shows each function that is called when example.py is executed. This journal focuses on the functions highlighted in purple which together make up the search module. Few of the functions highlighted in yellow such as add_annotations.py and stretch_diags.py are called by certain search functions. Such functions belong to the utilities module. Hierarchical_structure.py is an assemble function which calls one of the search functions. Assemble functions are highlighted in red. In addition, hierarchical_structure calls remove_overlaps, highlighted in green. These functions are included in the transform module."
   ]
  },
  {
   "cell_type": "markdown",
   "metadata": {},
   "source": [
    "# Goals: \n",
    "- better understanding of what each function does \n",
    "- highlights places in the code where function checks for specific conditions that may alter output\n",
    "- ~~highlight where a function is called~~ \n",
    "- specify types of each arguments\n",
    "- include where each function is called in ah "
   ]
  },
  {
   "cell_type": "markdown",
   "metadata": {},
   "source": [
    "## Import Modules"
   ]
  },
  {
   "cell_type": "code",
   "execution_count": 1,
   "metadata": {},
   "outputs": [],
   "source": [
    "import numpy as np\n",
    "import search \n",
    "from search import *\n",
    "from utilities import stretch_diags\n",
    "from utilities import add_annotations\n",
    "from utilities import __find_song_pattern"
   ]
  },
  {
   "cell_type": "markdown",
   "metadata": {},
   "source": [
    "-------\n",
    "## 1. find_complete_list\n",
    "\n",
    "### About find_complete_list \n",
    "\n",
    "As seen in the flow chart, `find_intial_repeats` is called by `example` right before `find_complete_list`. In `find_complete_list`, smaller pairs of repeats are added to the original list of pairs of repeats made in `find_initial_repeats`. All of the pairs of repeats correspond to each repeated structure in another numpy array called thresh_mat. This array holds all the repeated structures in a sequential data stream and the repeated structures are represented as diagonals.     \n",
    "\n",
    "-------\n",
    "### Arguments:\n",
    "\n",
    "- pair_list : numpy array \n",
    "   - list of pairs of repeats found in find_initial_repeats.py\n",
    "   - each row represents a pair of a repeated structure found in a sequential data stream \n",
    "       - the first and and second column represnts the start and end indices  of a repeated structure \n",
    "       - the third and fourth column represents the start and end indices of the other repeated structure\n",
    "       - the fifth column represents the bandwidth of the repeated structure\n",
    "\n",
    "- song_length : integer \n",
    "    - the number of audio shingles or the length of the song \n",
    "\n",
    "--------\n",
    "### Returns: \n",
    "\n",
    "- lst_out : numpy array \n",
    "    - list of pairs of repeats with smaller repeats added  \n",
    "\n",
    "-------\n",
    "### How does `find_complete_list` work? \n",
    "\n",
    "\n",
    "Finds all smaller diagonals (and the associated pairs of repeats) \n",
    "that are contained in pair_list, which is composed of larger \n",
    "diagonals found in find_initial_repeats.\n",
    "\n",
    "The following functions get called to aggregate the added found rows of pairs of repeats. \n",
    "   * find_add_erows\n",
    "        * from utilities import\n",
    "            - add_annotions \n",
    "            - \\_\\_find_song_pattern\n",
    "   * find_add_srows\n",
    "       * from utilities import\n",
    "            - add_annotions \n",
    "            - \\_\\_find_song_pattern\n",
    "   * find_add_mrows\n",
    "        * from utilities import\n",
    "            - add_annotions \n",
    "            - \\_\\_find_song_pattern\n",
    "--------\n",
    "### MatLab¶\n",
    "\n",
    "Example 1:\n",
    "\n",
    "`ans =   \n",
    "           1  10  46  55  10  1 \n",
    "           1  40  46  55  10  1 \n",
    "           1  15  31  45  15  1 \n",
    "          10  20  40  50  15  2 `\n",
    "          \n",
    "------"
   ]
  },
  {
   "cell_type": "code",
   "execution_count": 2,
   "metadata": {},
   "outputs": [],
   "source": [
    "# Example 1\n",
    "# Inputs: \n",
    "pair_list = np.array([[1, 15, 31, 45, 15], \n",
    "                      [1, 10, 46, 55, 10], \n",
    "                      [31, 40, 46, 55, 10],\n",
    "                      [10, 20, 40, 50, 15]])\n",
    "song_length = 55"
   ]
  },
  {
   "cell_type": "code",
   "execution_count": 3,
   "metadata": {},
   "outputs": [
    {
     "ename": "IndexError",
     "evalue": "index 0 is out of bounds for axis 0 with size 0",
     "output_type": "error",
     "traceback": [
      "\u001b[0;31m---------------------------------------------------------------------------\u001b[0m",
      "\u001b[0;31mIndexError\u001b[0m                                Traceback (most recent call last)",
      "\u001b[0;32m<ipython-input-3-da646d80d504>\u001b[0m in \u001b[0;36m<module>\u001b[0;34m\u001b[0m\n\u001b[0;32m----> 1\u001b[0;31m \u001b[0mfind_complete_list\u001b[0m\u001b[0;34m(\u001b[0m\u001b[0mpair_list\u001b[0m\u001b[0;34m,\u001b[0m \u001b[0msong_length\u001b[0m\u001b[0;34m)\u001b[0m\u001b[0;34m\u001b[0m\u001b[0;34m\u001b[0m\u001b[0m\n\u001b[0m",
      "\u001b[0;32m~/Desktop/SURF/tinkerlab/ah/aligned-hierarchies/search_module/search.py\u001b[0m in \u001b[0;36mfind_complete_list\u001b[0;34m(pair_list, song_length)\u001b[0m\n\u001b[1;32m    779\u001b[0m \u001b[0;34m\u001b[0m\u001b[0m\n\u001b[1;32m    780\u001b[0m         \u001b[0;31m# Part C: Get annotation markers for this bandwidth\u001b[0m\u001b[0;34m\u001b[0m\u001b[0;34m\u001b[0m\u001b[0;34m\u001b[0m\u001b[0m\n\u001b[0;32m--> 781\u001b[0;31m         \u001b[0mtemp_anno_lst\u001b[0m \u001b[0;34m=\u001b[0m \u001b[0madd_annotations\u001b[0m\u001b[0;34m(\u001b[0m\u001b[0mtemp_anno_lst\u001b[0m\u001b[0;34m,\u001b[0m \u001b[0msong_length\u001b[0m\u001b[0;34m)\u001b[0m\u001b[0;34m\u001b[0m\u001b[0;34m\u001b[0m\u001b[0m\n\u001b[0m\u001b[1;32m    782\u001b[0m         \u001b[0mfull_lst\u001b[0m\u001b[0;34m.\u001b[0m\u001b[0mappend\u001b[0m\u001b[0;34m(\u001b[0m\u001b[0mtemp_anno_lst\u001b[0m\u001b[0;34m)\u001b[0m\u001b[0;34m\u001b[0m\u001b[0;34m\u001b[0m\u001b[0m\n\u001b[1;32m    783\u001b[0m         \u001b[0mfinal_lst\u001b[0m \u001b[0;34m=\u001b[0m \u001b[0mnp\u001b[0m\u001b[0;34m.\u001b[0m\u001b[0mvstack\u001b[0m\u001b[0;34m(\u001b[0m\u001b[0mfull_lst\u001b[0m\u001b[0;34m)\u001b[0m\u001b[0;34m\u001b[0m\u001b[0;34m\u001b[0m\u001b[0m\n",
      "\u001b[0;32m~/Desktop/SURF/tinkerlab/ah/aligned-hierarchies/search_module/utilities.py\u001b[0m in \u001b[0;36madd_annotations\u001b[0;34m(input_mat, song_length)\u001b[0m\n\u001b[1;32m     81\u001b[0m \u001b[0;34m\u001b[0m\u001b[0m\n\u001b[1;32m     82\u001b[0m     \u001b[0;31m# Stitches info from input_mat into a single row\u001b[0m\u001b[0;34m\u001b[0m\u001b[0;34m\u001b[0m\u001b[0;34m\u001b[0m\u001b[0m\n\u001b[0;32m---> 83\u001b[0;31m     \u001b[0msong_pattern\u001b[0m \u001b[0;34m=\u001b[0m \u001b[0m__find_song_pattern\u001b[0m\u001b[0;34m(\u001b[0m\u001b[0mfull_mat\u001b[0m\u001b[0;34m)\u001b[0m\u001b[0;34m\u001b[0m\u001b[0;34m\u001b[0m\u001b[0m\n\u001b[0m\u001b[1;32m     84\u001b[0m \u001b[0;34m\u001b[0m\u001b[0m\n\u001b[1;32m     85\u001b[0m     \u001b[0;31m# Restructures song_pattern\u001b[0m\u001b[0;34m\u001b[0m\u001b[0;34m\u001b[0m\u001b[0;34m\u001b[0m\u001b[0m\n",
      "\u001b[0;32m~/Desktop/SURF/tinkerlab/ah/aligned-hierarchies/search_module/utilities.py\u001b[0m in \u001b[0;36m__find_song_pattern\u001b[0;34m(thresh_diags)\u001b[0m\n\u001b[1;32m    593\u001b[0m                 \u001b[0;31m# Resets inds to c_inds with inds removed\u001b[0m\u001b[0;34m\u001b[0m\u001b[0;34m\u001b[0m\u001b[0;34m\u001b[0m\u001b[0m\n\u001b[1;32m    594\u001b[0m                 \u001b[0minds\u001b[0m \u001b[0;34m=\u001b[0m \u001b[0mnp\u001b[0m\u001b[0;34m.\u001b[0m\u001b[0msetdiff1d\u001b[0m\u001b[0;34m(\u001b[0m\u001b[0mc_inds\u001b[0m\u001b[0;34m,\u001b[0m \u001b[0minds\u001b[0m\u001b[0;34m)\u001b[0m\u001b[0;34m\u001b[0m\u001b[0;34m\u001b[0m\u001b[0m\n\u001b[0;32m--> 595\u001b[0;31m                 \u001b[0minds\u001b[0m \u001b[0;34m=\u001b[0m \u001b[0mnp\u001b[0m\u001b[0;34m.\u001b[0m\u001b[0mdelete\u001b[0m\u001b[0;34m(\u001b[0m\u001b[0minds\u001b[0m\u001b[0;34m,\u001b[0m\u001b[0;36m0\u001b[0m\u001b[0;34m)\u001b[0m\u001b[0;34m\u001b[0m\u001b[0;34m\u001b[0m\u001b[0m\n\u001b[0m\u001b[1;32m    596\u001b[0m \u001b[0;34m\u001b[0m\u001b[0m\n\u001b[1;32m    597\u001b[0m             \u001b[0;31m# Updates grouping number to prepare for next group\u001b[0m\u001b[0;34m\u001b[0m\u001b[0;34m\u001b[0m\u001b[0;34m\u001b[0m\u001b[0m\n",
      "\u001b[0;32m/anaconda3/lib/python3.7/site-packages/numpy/lib/function_base.py\u001b[0m in \u001b[0;36mdelete\u001b[0;34m(arr, obj, axis)\u001b[0m\n\u001b[1;32m   4374\u001b[0m             raise IndexError(\n\u001b[1;32m   4375\u001b[0m                 \u001b[0;34m\"index %i is out of bounds for axis %i with \"\u001b[0m\u001b[0;34m\u001b[0m\u001b[0;34m\u001b[0m\u001b[0m\n\u001b[0;32m-> 4376\u001b[0;31m                 \"size %i\" % (obj, axis, N))\n\u001b[0m\u001b[1;32m   4377\u001b[0m         \u001b[0;32mif\u001b[0m \u001b[0;34m(\u001b[0m\u001b[0mobj\u001b[0m \u001b[0;34m<\u001b[0m \u001b[0;36m0\u001b[0m\u001b[0;34m)\u001b[0m\u001b[0;34m:\u001b[0m\u001b[0;34m\u001b[0m\u001b[0;34m\u001b[0m\u001b[0m\n\u001b[1;32m   4378\u001b[0m             \u001b[0mobj\u001b[0m \u001b[0;34m+=\u001b[0m \u001b[0mN\u001b[0m\u001b[0;34m\u001b[0m\u001b[0;34m\u001b[0m\u001b[0m\n",
      "\u001b[0;31mIndexError\u001b[0m: index 0 is out of bounds for axis 0 with size 0"
     ]
    }
   ],
   "source": [
    "find_complete_list(pair_list, song_length)"
   ]
  },
  {
   "cell_type": "markdown",
   "metadata": {},
   "source": [
    "------\n",
    "When running `find_complete_list.py`, you may have noticed an IndexError on line 786 in `search.py` where add_annotations.py is called to find the annotations markers for the current pairs of repeated structures in the for loop and output as a numpy array called temp_anno_lst. \n",
    "\n",
    "Within `add_annotations.py`, `__find_song_pattern.py` is called which raises the original index error. \n",
    "\n",
    "To still see what `find_complete_list.py` outputs, we will import find_complete_list1 from search_mod. Here, temp_anno_lst is hard-coded with the output it would have had if `add_annotations.py` had worked. This output comes from Matlab*. \n",
    "\n",
    "---\n",
    "*Procedure of obtaining `temp_anno_lst` from `find_complete_list.m` in Matlab:\n",
    "- Download all files needed to run find_complete_lst.m from [kmkinnaird/ThesisCode](https://github.com/kmkinnaird/ThesisCode/tree/master/MATLABcode). \n",
    "    - find_complete_list.m \n",
    "    - find_add_srows_both_check_no_anno.m\n",
    "    - find_add_erows_both_check_no_anno.m\n",
    "    - find_add_mrows_both_check_no_anno.m\n",
    "    - add_annotations.m \n",
    "    - stitch_diags.m (this is equivalent to __find_song_pattern.py) \n",
    "- In Matlab\n",
    "    - run each file \n",
    "    - open find_complete_list \n",
    "    - under line 100, where add_annotations.m is called \n",
    "        `[temp_anno_lst] = add_annotations(temp_anno_lst, sn);`\n",
    "      add the following two lines, \n",
    "         `fprintf('temp_anno_lst');`\n",
    "         `disp(temp_anno_lst);`\n",
    "      and then save. \n",
    "    - in the console, initialize pair_lst and sn \n",
    "    - in the console, run find_complete_list(pair_lst, sn) to get results \n",
    "----"
   ]
  },
  {
   "cell_type": "code",
   "execution_count": 4,
   "metadata": {},
   "outputs": [],
   "source": [
    "# Before running the following code, I suggest Restarting and Clearing the Outputs of this journal. \n",
    "import numpy as np\n",
    "from search_mod import find_complete_list1"
   ]
  },
  {
   "cell_type": "code",
   "execution_count": null,
   "metadata": {},
   "outputs": [],
   "source": [
    "# Scroll down to see how temp_anno_lst is hard-coded. You will find it before the final for-loop, commented as Step 3.\n",
    "# Under Part C of Step 3, you will see the call to add_annotations commented out. \n",
    "%cat find_complete_list1.py"
   ]
  },
  {
   "cell_type": "code",
   "execution_count": 5,
   "metadata": {},
   "outputs": [],
   "source": [
    "# Example 1\n",
    "# Inputs: \n",
    "pair_list = np.array([[1, 15, 31, 45, 15], \n",
    "                      [1, 10, 46, 55, 10], \n",
    "                      [31, 40, 46, 55, 10],\n",
    "                      [10, 20, 40, 50, 15]])\n",
    "song_length = 55"
   ]
  },
  {
   "cell_type": "code",
   "execution_count": 6,
   "metadata": {},
   "outputs": [
    {
     "data": {
      "text/plain": [
       "array([[ 1, 10, 46, 55, 10,  1],\n",
       "       [31, 40, 46, 55, 10,  1],\n",
       "       [ 1, 15, 31, 45, 15,  1],\n",
       "       [10, 20, 40, 50, 15,  2]])"
      ]
     },
     "execution_count": 6,
     "metadata": {},
     "output_type": "execute_result"
    }
   ],
   "source": [
    "find_complete_list1(pair_list, song_length)"
   ]
  },
  {
   "cell_type": "markdown",
   "metadata": {},
   "source": [
    "-----------------------------------------\n",
    "### 2. find_add_srows\n",
    "* Called by **find_complete_list.py**\n",
    "* from utilities import\n",
    "    - add_annotions \n",
    "    - \\_\\_find_song_pattern"
   ]
  },
  {
   "cell_type": "markdown",
   "metadata": {},
   "source": [
    "### MatLab Output\n",
    "\n",
    "`ans = \n",
    "     1    10    31    40    10\n",
    "    11    15    41    45     5\n",
    "     1    10    31    40    10\n",
    "    11    15    41    45     5`"
   ]
  },
  {
   "cell_type": "code",
   "execution_count": null,
   "metadata": {},
   "outputs": [],
   "source": [
    "# find_add_srows:\n",
    "# Example 1 Inputs: \n",
    "lst_no_anno = np.array([[ 1, 15, 31, 45, 15],\n",
    "                        [ 1, 10, 46, 55, 10],\n",
    "                        [31, 40, 46, 55, 10],\n",
    "                        [10, 20, 40, 50, 15]])\n",
    "check_inds = np.array([ 1, 31, 46])\n",
    "k = 10"
   ]
  },
  {
   "cell_type": "code",
   "execution_count": null,
   "metadata": {},
   "outputs": [],
   "source": [
    "find_add_srows(lst_no_anno, check_inds, k)"
   ]
  },
  {
   "cell_type": "markdown",
   "metadata": {},
   "source": [
    "### 3. find_add_erows\n",
    "* Called by **find_complete_list.py**\n",
    "* from utilities import \n",
    "    - add_annotions \n",
    "    - \\_\\_find_song_pattern"
   ]
  },
  {
   "cell_type": "markdown",
   "metadata": {},
   "source": [
    "### Matlab Output \n",
    "\n",
    "**Example 1:** \n",
    "\n",
    "`ans = \n",
    "     []`\n",
    "    "
   ]
  },
  {
   "cell_type": "code",
   "execution_count": null,
   "metadata": {},
   "outputs": [],
   "source": [
    "# find_add_erows \n",
    "# Example 1 Inputs: \n",
    "lst_no_anno = np.array([[ 1, 15, 31, 45, 15],\n",
    "                        [ 1, 10, 46, 55, 10],\n",
    "                        [31, 40, 46, 55, 10],\n",
    "                        [10, 20, 40, 50, 15]])\n",
    "check_inds = np.array([10, 40, 55])\n",
    "k = 10"
   ]
  },
  {
   "cell_type": "code",
   "execution_count": null,
   "metadata": {},
   "outputs": [],
   "source": [
    "find_add_erows(lst_no_anno, check_inds, k)"
   ]
  },
  {
   "cell_type": "markdown",
   "metadata": {},
   "source": [
    "### 4. find_add_mrows\n",
    "* Called by **find_complete_list.py**\n",
    "* from utilities import\n",
    "    - add_annotions \n",
    "    - \\_\\_find_song_pattern"
   ]
  },
  {
   "cell_type": "markdown",
   "metadata": {},
   "source": [
    "### Matlab Output \n",
    "\n",
    "**Example 1:** \n",
    "\n",
    "`ans = \n",
    "     []`"
   ]
  },
  {
   "cell_type": "code",
   "execution_count": null,
   "metadata": {},
   "outputs": [],
   "source": [
    "# find_add_mrows: \n",
    "# Example 1 Inputs: \n",
    "lst_no_anno = np.array([[ 1, 15, 31, 45, 15],\n",
    "                        [ 1, 10, 46, 55, 10],\n",
    "                        [31, 40, 46, 55, 10],\n",
    "                        [10, 20, 40, 50, 15]])\n",
    "check_inds = np.array([ 1, 31, 46])\n",
    "k = 10"
   ]
  },
  {
   "cell_type": "code",
   "execution_count": null,
   "metadata": {},
   "outputs": [],
   "source": [
    "find_add_mrows(lst_no_anno, check_inds, k)"
   ]
  },
  {
   "cell_type": "markdown",
   "metadata": {},
   "source": [
    "### 4. find_all_repeats \n",
    "* Called by **hierarchical_structure.py**  \n",
    "* from utilities import \n",
    "    - stretch_diags"
   ]
  },
  {
   "cell_type": "markdown",
   "metadata": {},
   "source": [
    "### MatLab Output \n",
    "\n",
    "- Note: Matlab function is called `lightup_lst_with_thresh_bw_no_remove.m`"
   ]
  },
  {
   "cell_type": "markdown",
   "metadata": {},
   "source": [
    "### 5. find_complete_list_anno_only\n",
    "* Called by **hierarchical_structure.py**\n",
    "* from utilities import\n",
    "    - add_annotions \n",
    "    - \\_\\_find_song_pattern"
   ]
  }
 ],
 "metadata": {
  "kernelspec": {
   "display_name": "Python 3",
   "language": "python",
   "name": "python3"
  },
  "language_info": {
   "codemirror_mode": {
    "name": "ipython",
    "version": 3
   },
   "file_extension": ".py",
   "mimetype": "text/x-python",
   "name": "python",
   "nbconvert_exporter": "python",
   "pygments_lexer": "ipython3",
   "version": "3.7.3"
  }
 },
 "nbformat": 4,
 "nbformat_minor": 2
}
