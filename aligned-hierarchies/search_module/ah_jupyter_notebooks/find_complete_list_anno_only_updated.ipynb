{
 "cells": [
  {
   "cell_type": "code",
   "execution_count": 1,
   "metadata": {},
   "outputs": [],
   "source": [
    "import numpy as np"
   ]
  },
  {
   "cell_type": "code",
   "execution_count": 2,
   "metadata": {},
   "outputs": [],
   "source": [
    "def find_complete_list_anno_only(pair_list, song_length):\n",
    "    \"\"\"\n",
    "    Finds annotations for all pairs of repeats found in find_all_repeats. This \n",
    "    list contains all the pairs of repeated structures with their start/end \n",
    "    indices and lengths.\n",
    "    \n",
    "    Args\n",
    "    ----\n",
    "    pair_list: \n",
    "        list of pairs of repeats\n",
    "        WARNING: bandwidths must be in ascending order\n",
    "        \n",
    "    song_length: int\n",
    "        number of audio shingles in song\n",
    "        \n",
    "    Returns\n",
    "    -------\n",
    "    out_lst:\n",
    "        list of pairs of repeats with smaller repeats added and with\n",
    "        annotation markers\n",
    "    \"\"\"\n",
    "    # Find list of unique repeat lengths\n",
    "    bw_found = np.unique(pair_list[:,4])\n",
    "    bw_num = bw_found.shape[0]\n",
    "    \n",
    "    # Remove longest bandwidth row if it is the length of the full song\n",
    "    if song_length == bw_found[bw_num - 1]:\n",
    "        pair_list[-1,:] = []\n",
    "        bw_found[-1] = []\n",
    "        bw_num = (bw_num - 1)\n",
    "    p = pair_list.shape[0]\n",
    "    \n",
    "    # Add annotation markers to each pair of repeats\n",
    "    full_list = []\n",
    "    for j in range(bw_num):\n",
    "        band_width = bw_found[j]\n",
    "        # Isolate pairs of repeats of desired length\n",
    "        bsnds = np.amin(np.nonzero(pair_list[:,4] == band_width))\n",
    "        bends = np.nonzero(pair_list[:,4] > band_width)\n",
    "        \n",
    "        if np.size(bends) > 0:\n",
    "            bends = np.amin(bends)\n",
    "        else:\n",
    "            bends = p\n",
    "        \n",
    "        bw_mat = np.array((pair_list[bsnds:bends,]))\n",
    "        bw_mat_length = bw_mat.shape[0]\n",
    "        \n",
    "        temp_anno_mat = np.concatenate((bw_mat,(np.zeros((bw_mat_length,1)))),\\\n",
    "                                       axis = 1).astype(int)\n",
    "\n",
    "        # Get annotations for this bandwidth\n",
    "        temp_anno_list = add_annotations(temp_anno_mat, song_length)\n",
    "        full_list.append(temp_anno_list)\n",
    "        \n",
    "    out_list = np.concatenate(full_list)\n",
    "        \n",
    "    return out_list"
   ]
  },
  {
   "cell_type": "code",
   "execution_count": null,
   "metadata": {},
   "outputs": [],
   "source": []
  }
 ],
 "metadata": {
  "kernelspec": {
   "display_name": "Python 3",
   "language": "python",
   "name": "python3"
  },
  "language_info": {
   "codemirror_mode": {
    "name": "ipython",
    "version": 3
   },
   "file_extension": ".py",
   "mimetype": "text/x-python",
   "name": "python",
   "nbconvert_exporter": "python",
   "pygments_lexer": "ipython3",
   "version": "3.7.3"
  }
 },
 "nbformat": 4,
 "nbformat_minor": 2
}
