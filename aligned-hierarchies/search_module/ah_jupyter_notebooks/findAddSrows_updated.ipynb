{
 "cells": [
  {
   "cell_type": "code",
   "execution_count": 59,
   "metadata": {},
   "outputs": [],
   "source": [
    "import numpy as np"
   ]
  },
  {
   "cell_type": "code",
   "execution_count": 60,
   "metadata": {},
   "outputs": [],
   "source": [
    "lst_no_anno = np.array([[ 1, 10, 46, 55, 10],\n",
    "              [31, 40, 46, 55, 10]])\n",
    "check_inds = np.array([ 1, 31, 46])\n",
    "k = 10"
   ]
  },
  {
   "cell_type": "code",
   "execution_count": 65,
   "metadata": {},
   "outputs": [
    {
     "data": {
      "text/plain": [
       "5"
      ]
     },
     "execution_count": 65,
     "metadata": {},
     "output_type": "execute_result"
    }
   ],
   "source": [
    "lst_no_anno.shape[1]"
   ]
  },
  {
   "cell_type": "code",
   "execution_count": 61,
   "metadata": {},
   "outputs": [
    {
     "name": "stdout",
     "output_type": "stream",
     "text": [
      "return False\n"
     ]
    }
   ],
   "source": [
    "L = lst_no_anno\n",
    "\n",
    "# Logical, which pair of repeats has a length greater than k \n",
    "search_inds = (L[:,4] > k)\n",
    "\n",
    "#If there are no repeats greater than k \n",
    "if sum(search_inds) == 0: \n",
    "    print(\"return False\") \n",
    "\n",
    "# Multipy the starting index of all repeats \"I\" by search_inds\n",
    "SI = np.multiply(L[:,0], search_inds)\n",
    "\n",
    "# Multiply the starting index of all repeats \"J\" by search_inds\n",
    "SJ = np.multiply(L[:,2], search_inds)\n",
    "\n",
    "# Loop over check_inds\n",
    "for i in range(check_inds.size):\n",
    "    ci = check_inds[i] \n",
    "            \n",
    "# Left check: check for CI on the left side of the pairs \n",
    "    # Check if the starting index of repeat \"I\" of pair of repeats \"IJ\" \n",
    "    # equals CI\n",
    "    lnds = (SI == ci) \n",
    "        \n",
    "    # If the sum across (row) is greater than 0 \n",
    "    if lnds.sum(axis = 0) > 0: \n",
    "        # Find the 2nd entry of the row (lnds) whose starting index of \n",
    "        # repeat \"I\" equals CI \n",
    "        SJ_li = L[lnds, 2] \n",
    "            \n",
    "        # Used for the length of found pair of repeats \n",
    "        l_num = SJ_li.shape[0] \n",
    "\n",
    "        # Found pair of repeats on the left side \n",
    "        one_lsi = L[lnds, 0]            #Starting index of found repeat i\n",
    "        one_lei = L[lnds, 0] + k - 1    #Ending index of found repeat i\n",
    "        one_lsj = SJ_li                 #Starting index of found repeat j\n",
    "        one_lej = SJ_li + k - 1         #Ending index of found repeat j\n",
    "        one_lk = np.ones((l_num, 1))*k  #Length of found pair of repeats\n",
    "        l_add = np.concatenate((one_lsi, one_lei, one_lsj, one_lej, one_lk), axis = None)\n",
    "        print(l_add)\n",
    "        # Found pair of repeats on the right side \n",
    "        two_lsi = L[lnds, 0] + k        #Starting index of found repeat i \n",
    "        two_lei = L[lnds, 1]            #Ending index of ofund repeat i\n",
    "        two_lsj = SJ_li + k             #Starting index of found repeat j \n",
    "        two_lej = L[lnds, 3]            #Ending index of found repeat j\n",
    "        two_lk = L[lnds, 4] - k         #Length of found pair of repeats\n",
    "        l_add_right = np.concatenate((two_lsi, two_lei, two_lsj, two_lej,two_lk), axis = None)\n",
    "            \n",
    "        # Stack the found rows vertically \n",
    "        add_rows = np.vstack((l_add, l_add_right))\n",
    "            \n",
    "        # Stack all the rows found on the left side of the pairs \n",
    "        add_rows = np.concatenate((add_rows, add_rows), axis = 0)\n",
    "        \n",
    "        print(add_rows)\n",
    "            \n",
    "    # Right Check: check for CI on the right side of the pairs \n",
    "    # Check if the the starting index of repeat \"J\" of the pair \"IJ\" \n",
    "    # equals CI\n",
    "    rnds = (SJ == ci) \n",
    "\n",
    "    if rnds.sum(axis = 0) > 0:\n",
    "        SJ_ri = L[rnds, 0]\n",
    "        r_num = SJ_ri.shape[0] \n",
    "          \n",
    "        # Found pair of repeats on the left side \n",
    "        one_rsi = SJ_ri                 #Starting index of found repeat i \n",
    "        one_rei = SJ_ri + k - 1         #Ending index of found repeat i \n",
    "        one_rsj = L[rnds, 2]            #Starting index of found repeat j\n",
    "        one_rej = L[rnds, 2] + k - 1    #Ending index of found repeat j \n",
    "        one_rk = k*np.ones((r_num, 1))  #Length of found pair or repeats\n",
    "        r_add = np.concatenate((one_rsi, one_rei, one_rsj, one_rej, one_rk), axis = None)\n",
    "            \n",
    "        # Found pairs on the right side \n",
    "        two_rsi = SJ_ri + k             #Starting index of found repeat i  \n",
    "        two_rei = L[rnds, 1]            #Ending index of found repeat i \n",
    "        two_rsj = L[rnds, 2] + k        #Starting index of found repeat j\n",
    "        two_rej = L[rnds,3]             #Ending index of found repeat j \n",
    "        two_rk = L[rnds, 4] - k         #Length of found pair or repeats\n",
    "        r_add_right = np.concatenate((two_rsi, two_rei, two_rsj, two_rej, two_rk), axis = None) \n",
    "            \n",
    "        # Stack the found rows vertically \n",
    "        add_rows = np.vstack((r_add, r_add_right))\n",
    "            \n",
    "        # Stack all the rows found on the right side of the pairs \n",
    "        add_rows = np.concatenate((add_rows, add_rows), axis = 0).astype(int)\n",
    "            \n",
    "        print(\"add_rows\", add_rows) \n"
   ]
  },
  {
   "cell_type": "code",
   "execution_count": null,
   "metadata": {},
   "outputs": [],
   "source": []
  }
 ],
 "metadata": {
  "kernelspec": {
   "display_name": "Python 3",
   "language": "python",
   "name": "python3"
  },
  "language_info": {
   "codemirror_mode": {
    "name": "ipython",
    "version": 3
   },
   "file_extension": ".py",
   "mimetype": "text/x-python",
   "name": "python",
   "nbconvert_exporter": "python",
   "pygments_lexer": "ipython3",
   "version": "3.7.3"
  }
 },
 "nbformat": 4,
 "nbformat_minor": 2
}
