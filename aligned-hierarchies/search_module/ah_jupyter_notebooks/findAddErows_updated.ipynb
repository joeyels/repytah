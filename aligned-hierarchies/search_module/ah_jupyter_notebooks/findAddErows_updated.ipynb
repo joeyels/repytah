{
 "cells": [
  {
   "cell_type": "code",
   "execution_count": 1,
   "metadata": {},
   "outputs": [],
   "source": [
    "import numpy as np"
   ]
  },
  {
   "cell_type": "code",
   "execution_count": 2,
   "metadata": {},
   "outputs": [],
   "source": [
    "lst_no_anno = np.array([[ 1, 10, 46, 55, 10],\n",
    "                        [31, 40, 46, 55, 10]])\n",
    "check_inds = np.array([10, 40, 55])\n",
    "k = 10"
   ]
  },
  {
   "cell_type": "code",
   "execution_count": 24,
   "metadata": {},
   "outputs": [
    {
     "data": {
      "text/plain": [
       "array([False])"
      ]
     },
     "execution_count": 24,
     "metadata": {},
     "output_type": "execute_result"
    }
   ],
   "source": [
    "def find_add_erows(lst_no_anno, check_inds, k):\n",
    "    \"\"\"\n",
    "    Finds pairs of repeated structures, representated as diagonals of a \n",
    "    certain length, k, that end at the same time step as \n",
    "    previously found pairs of repeated structures of the same length. \n",
    "\n",
    "    Args\n",
    "    ----\n",
    "    lst_no_anno: np.array\n",
    "        list of pairs of repeats\n",
    "        \n",
    "    check_inds: np.array\n",
    "        list of ending indices for repeats of length k that we use \n",
    "        to check lst_anno_no for more repeats of length k\n",
    "        \n",
    "    k: int\n",
    "        length of repeats that we are looking for \n",
    "\n",
    "    Returns\n",
    "    -------\n",
    "    add_rows: np.array\n",
    "        list of newly found pairs of repeats of length k that are \n",
    "        contained in larger repeats in lst_no_anno\n",
    "    \"\"\"\n",
    "    L = lst_no_anno\n",
    "    # Logical, which pairs of repeats have length greater than k?\n",
    "    search_inds = (L[:,4] > k)\n",
    "    \n",
    "    #If there are no pairs of repeats that have length greater than k, return false \n",
    "    if sum(search_inds) == 0:\n",
    "        return np.full(1, False) \n",
    "    # Multiply ending index of all repeats \"I\" by search_inds\n",
    "    EI = np.multiply(L[:,1], search_inds)\n",
    "    # Multipy ending index of all repeats \"J\" by search_inds\n",
    "    EJ = np.multiply(L[:,3], search_inds)\n",
    "\n",
    "    #Loop over check_inds\n",
    "    for i in range(check_inds.size): \n",
    "        #print()\n",
    "        ci = check_inds[i]\n",
    "        #print(\"loop:\", i, \"ci:\", ci)\n",
    "        \n",
    "    #Left Check: Check for CI on the left side of the pairs\n",
    "        # Check if the end index of the repeat \"I\" equals CI\n",
    "        lnds = (EI == ci) \n",
    "        #print(\"lnds:\", lnds)\n",
    "        \n",
    "        # Find new rows \n",
    "        if lnds.sum(axis = 0) > 0: #If the sum across (row) is greater than 0 \n",
    "            # Find the 3rd entry of the row (lnds) whose starting index of \n",
    "            # repeat \"J\" equals CI\n",
    "            EJ_li = L[lnds,3]\n",
    "            \n",
    "            # Number of rows in EJ_li \n",
    "            l_num = EJ_li.shape[0] \n",
    "            #print(\"l_num:\", l_num)\n",
    "            \n",
    "            # Found pair of repeats on the left side\n",
    "            one_lsi = L[lnds,1] - k + 1     #Starting index of found repeat i\n",
    "            one_lei = L[lnds,1]             #Ending index of found repeat i\n",
    "            one_lsj = EJ_li - k + 1         #Starting index of found repeat j\n",
    "            one_lej = EJ_li                 #Ending index of found repeat j\n",
    "            one_lk = k*np.ones((l_num,1))   #Length of found pair of repeats\n",
    "            l_add = np.concatenate((one_lsi, one_lei, one_lsj, one_lej, \\\n",
    "                                    one_lk), axis = None)\n",
    "\n",
    "            \n",
    "            # Found pair of repeats on the right side\n",
    "            two_lsi = L[lnds,0]             #Starting index of found repeat i \n",
    "            two_lei = L[lnds,1] - k         #Ending index of ofund repeat i\n",
    "            two_lsj = L[lnds,2]             #Starting index of found repeat j \n",
    "            two_lej = EJ_li - k             #Ending index of found repeat j\n",
    "            two_lk = L[lnds, 4] - k         #Length of found pair of repeats \n",
    "            l_add_left = np.concatenate((two_lsi, two_lei, two_lsj, two_lej,\\\n",
    "                                         two_lk), axis = None)\n",
    "            \n",
    "            # Stack the found rows vertically \n",
    "            add_rows = np.vstack((l_add, l_add_left))\n",
    "            \n",
    "            # Stack all the rows found on the left side of the pairs \n",
    "            add_rows = np.concatenate((add_rows, add_rows), axis = 0)\n",
    "            \n",
    "    #Right Check: Check for CI on the right side of the pairs\n",
    "        # Check if the end index of the right repeat of the pair equals CI\n",
    "        rnds = (EJ == ci)\n",
    "        \n",
    "        # Find new rows\n",
    "        if rnds.sum(axis = 0) > 0:\n",
    "            # Find the 1st entry of the row whose ending index of repeat \n",
    "            # \"I\" equals CI\n",
    "            EI_ri = L[rnds, 1]\n",
    "            # Number of rows in EJ_ri                    \n",
    "            r_num = EI_ri.shape[0]\n",
    "                               \n",
    "            # Found pair of repeats on the left side \n",
    "            one_rsi = EI_ri - k + 1         #Starting index of found repeat i \n",
    "            one_rei = EI_ri                 #Ending index of found repeat i \n",
    "            one_rsj = L[rnds, 3] - k + 1    #Starting index of found repeat j\n",
    "            one_rej = L[rnds,3]             #Ending index of found repeat j \n",
    "            one_rk = k*np.ones((r_num, 1))  #Length of found pair or repeats\n",
    "            r_add = np.concatenate((one_rsi, one_rei, one_rsj, one_rej, \\\n",
    "                                    one_rk), axis = None)\n",
    "            \n",
    "            # Found pairs on the right side \n",
    "            two_rsi = L[rnds, 0]            #Starting index of found repeat i  \n",
    "            two_rei = EI_ri - k             #Ending index of found repeat i \n",
    "            two_rsj = L[rnds, 2]            #Starting index of found repeat j\n",
    "            two_rej = L[rnds, 3] - k        #Ending index of found repeat j \n",
    "            two_rk = L[rnds, 4] - k         #Length of found pair or repeats\n",
    "            r_add_right = np.concatenate((two_rsi, two_rei, two_rsj, two_rej,\\\n",
    "                                          two_rk), axis = None) \n",
    "            \n",
    "            # Stack the found rows vertically \n",
    "            add_rows = np.vstack((r_add, r_add_right))\n",
    "            \n",
    "            # Stack all the rows found on the right side of the pairs \n",
    "            add_rows = np.concatenate((add_rows, add_rows),axis = 0).astype(int)\n",
    "            \n",
    "            return add_rows\n",
    "\n",
    "find_add_erows(np.array([[ 1, 10, 46, 55, 10],[31, 40, 46, 55, 10]]), np.array([10, 40, 55]), 10)"
   ]
  },
  {
   "cell_type": "code",
   "execution_count": 26,
   "metadata": {},
   "outputs": [
    {
     "data": {
      "text/plain": [
       "0"
      ]
     },
     "execution_count": 26,
     "metadata": {},
     "output_type": "execute_result"
    }
   ],
   "source": [
    "x  = np.array([False])\n",
    "sum(x)"
   ]
  },
  {
   "cell_type": "code",
   "execution_count": null,
   "metadata": {},
   "outputs": [],
   "source": []
  }
 ],
 "metadata": {
  "kernelspec": {
   "display_name": "Python 3",
   "language": "python",
   "name": "python3"
  },
  "language_info": {
   "codemirror_mode": {
    "name": "ipython",
    "version": 3
   },
   "file_extension": ".py",
   "mimetype": "text/x-python",
   "name": "python",
   "nbconvert_exporter": "python",
   "pygments_lexer": "ipython3",
   "version": "3.7.3"
  }
 },
 "nbformat": 4,
 "nbformat_minor": 2
}
