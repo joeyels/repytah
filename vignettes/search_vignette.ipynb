{
 "cells": [
  {
   "cell_type": "markdown",
   "metadata": {},
   "source": [
    "# search \n",
    "\n",
    "Lizette Carpenter "
   ]
  },
  {
   "cell_type": "markdown",
   "metadata": {},
   "source": [
    "This journal runs examples for the following functions: \n",
    "\n",
    "1. **find_complete_list**: Finds all smaller diagonals (and the associated pairs of repeats) that are contained pair_list, which is composed of larger diagonals found in find_initial_repeats. \n",
    "\n",
    "2. **find_add_srows**: Finds pairs of repeated structures, represented as diagonals of a certain length, k, that start at the same time step as previously found pairs of repeated structures of the same length.\n",
    "\n",
    "3. **find_add_erows**: Finds pairs of repeated structures, represented as diagonals of a certain length, k, that end at the same time step as previously found pairs of repeated structures of the same length.\n",
    "\n",
    "4. **find_add_mrows** - Finds pairs of repeated structures, represented as diagonals of a certain length, k, that neither start nor end at the same time steps as previously found pairs of repeated structures of the same length.   \n",
    "\n",
    "5. **find_all_repeats**: Finds all the diagonals present in thresh_mat. This function is nearly identical to find_initial_repeats, with two crucial differences. First, we do not remove diagonals after we find them. Second, there is no smallest bandwidth size as we are looking for all diagonals.\n",
    "\n",
    "6. **find_complete_list_anno_only**: Finds annotations for all pairs of repeats found in find_all_repeats. This list contains all the pairs of repeated structures with their start/end indices and lengths.    \n",
    "\n",
    "Imported functions used from utilities include:  \n",
    "\n",
    "* stretch_diags\n",
    "* add_annotations \n",
    "* \\_\\_find_song_pattern\n",
    "\n",
    "<h3 align = \"left\"> Figure 1. Where are you? </h3>\n",
    "<img src=\"function_flow_chart.png\" alt=\"Chart\" style=\"width:250px;\" align = \"left\"/>\n",
    "\n",
    "- Figure 1 is a function flowchart of aligned hierarchies. This flowchart shows each function that is called when example.py is executed. This journal focuses on the functions highlighted in purple which together make up the search module. Few of the functions highlighted in yellow such as add_annotations.py and stretch_diags.py are called by certain search functions. Such functions belong to the utilities module. Hierarchical_structure.py is an assemble function which calls one of the search functions. Assemble functions are highlighted in red. In addition, hierarchical_structure calls remove_overlaps, highlighted in green. These functions are included in the transform module."
   ]
  },
  {
   "cell_type": "markdown",
   "metadata": {},
   "source": [
    "## Import Modules"
   ]
  },
  {
   "cell_type": "code",
   "execution_count": null,
   "metadata": {},
   "outputs": [],
   "source": [
    "import numpy as np\n",
    "import search \n",
    "from search import *\n",
    "from utilities import stretch_diags\n",
    "from utilities import add_annotations\n",
    "from utilities import __find_song_pattern"
   ]
  },
  {
   "cell_type": "markdown",
   "metadata": {},
   "source": [
    "-------\n",
    "## 1. find_complete_list\n",
    "\n",
    "### About find_complete_list \n",
    "\n",
    "As seen in the flow chart, `find_intial_repeats` is called by `example` right before `find_complete_list`. In `find_complete_list`, smaller pairs of repeats are added to the original list of pairs of repeats made in `find_initial_repeats`. All of the pairs of repeats correspond to each repeated structure in another numpy array called thresh_mat. This array holds all the repeated structures in a sequential data stream and the repeated structures are represented as diagonals.   \n",
    "\n",
    "The following search functions get called in `find_complete_list`: \n",
    "   * find_add_erows\n",
    "        * from utilities import\n",
    "            - add_annotions \n",
    "            - \\_\\_find_song_pattern\n",
    "   * find_add_srows\n",
    "       * from utilities import\n",
    "            - add_annotions \n",
    "            - \\_\\_find_song_pattern\n",
    "   * find_add_mrows\n",
    "        * from utilities import\n",
    "            - add_annotions \n",
    "            - \\_\\_find_song_pattern\n",
    "\n",
    "-------\n",
    "### Arguments:\n",
    "\n",
    "- pair_list : numpy array \n",
    "   - list of pairs of repeats found in `find_initial_repeats.py`\n",
    "   - each row represents a pair of a repeated structure found in a sequential data stream \n",
    "       - the first and and second column represnts the start and end indices  of a repeated structure \n",
    "       - the third and fourth column represents the start and end indices of the other repeated structure\n",
    "       - the fifth column represents the bandwidth of the repeated structure\n",
    "\n",
    "- song_length : integer \n",
    "    - the number of audio shingles or the length of the song \n",
    "\n",
    "--------\n",
    "### Returns: \n",
    "\n",
    "- lst_out : numpy array \n",
    "    - list of pairs of repeats with smaller repeats added  \n",
    "--------\n",
    "### MatLab¶\n",
    "\n",
    "Example 1:\n",
    "\n",
    "`ans =   \n",
    "           1  10  46  55  10  1 \n",
    "           1  40  46  55  10  1 \n",
    "           1  15  31  45  15  1 \n",
    "          10  20  40  50  15  2 `\n",
    "          \n",
    "------"
   ]
  },
  {
   "cell_type": "code",
   "execution_count": null,
   "metadata": {},
   "outputs": [],
   "source": [
    "# Example 1\n",
    "# Inputs: \n",
    "pair_list = np.array([[1, 15, 31, 45, 15], \n",
    "                      [1, 10, 46, 55, 10], \n",
    "                      [31, 40, 46, 55, 10],\n",
    "                      [10, 20, 40, 50, 15]])\n",
    "song_length = 55"
   ]
  },
  {
   "cell_type": "code",
   "execution_count": null,
   "metadata": {},
   "outputs": [],
   "source": [
    "find_complete_list(pair_list, song_length)"
   ]
  },
  {
   "cell_type": "markdown",
   "metadata": {},
   "source": [
    "------\n",
    "When running `find_complete_list.py`, you may have noticed an IndexError on line 786 in `search.py` where add_annotations.py is called to find the annotations markers for the current pairs of repeated structures in the for loop and output as a numpy array called temp_anno_lst. \n",
    "\n",
    "Within `add_annotations.py`, `__find_song_pattern.py` is called which raises the original index error. \n",
    "\n",
    "To still see what `find_complete_list.py` outputs, we will import find_complete_list1 from search_mod. Here, temp_anno_lst is hard-coded with the output it would have had if `add_annotations.py` had worked. Outputs comes from Matlab*. \n",
    "\n",
    "---\n",
    "*Procedure of obtaining `temp_anno_lst` from `find_complete_list.m` in Matlab:\n",
    "- Download all of the files needed to run find_complete_lst.m from [kmkinnaird/ThesisCode](https://github.com/kmkinnaird/ThesisCode/tree/master/MATLABcode). \n",
    "    - find_complete_list.m \n",
    "    - find_add_srows_both_check_no_anno.m\n",
    "    - find_add_erows_both_check_no_anno.m\n",
    "    - find_add_mrows_both_check_no_anno.m\n",
    "    - add_annotations.m \n",
    "    - stitch_diags.m (this is equivalent to `__find_song_pattern.py`) \n",
    "- In Matlab\n",
    "    - run each file \n",
    "    - open find_complete_list \n",
    "    - under line 100, where add_annotations.m is called \n",
    "        `[temp_anno_lst] = add_annotations(temp_anno_lst, sn);`\n",
    "      add the following two lines, \n",
    "         `fprintf('temp_anno_lst');`\n",
    "         `disp(temp_anno_lst);`\n",
    "      and then save. \n",
    "    - in the console, initialize pair_lst and sn \n",
    "    - in the console, run find_complete_list(pair_lst, sn) to get results \n",
    "----"
   ]
  },
  {
   "cell_type": "code",
   "execution_count": null,
   "metadata": {},
   "outputs": [],
   "source": [
    "import numpy as np\n",
    "from search_mod import find_complete_list1"
   ]
  },
  {
   "cell_type": "code",
   "execution_count": null,
   "metadata": {},
   "outputs": [],
   "source": [
    "# Scroll down to see how temp_anno_lst is hard-coded. You will find it before the final for-loop, commented as Step 3.\n",
    "# Under Part C of Step 3, you will see the call to add_annotations commented out. \n",
    "%cat find_complete_list1.py"
   ]
  },
  {
   "cell_type": "code",
   "execution_count": null,
   "metadata": {},
   "outputs": [],
   "source": [
    "# find_complete_list1\n",
    "# Inputs: \n",
    "pair_list = np.array([[1, 15, 31, 45, 15], \n",
    "                      [1, 10, 46, 55, 10], \n",
    "                      [31, 40, 46, 55, 10],\n",
    "                      [10, 20, 40, 50, 15]])\n",
    "song_length = 55"
   ]
  },
  {
   "cell_type": "code",
   "execution_count": null,
   "metadata": {},
   "outputs": [],
   "source": [
    "find_complete_list1(pair_list, song_length)"
   ]
  },
  {
   "cell_type": "markdown",
   "metadata": {},
   "source": [
    "-----------------------------------------\n",
    "## 2. find_add_srows\n",
    "\n",
    "### About find_add_srows\n",
    "Finds pairs of repeated structures, representated as diagonals of a certain length that start at the same time step as previously found pairs of repeated structures of the same length. \n",
    "* Called by **find_complete_list.py**\n",
    "* from utilities import\n",
    "    - add_annotions \n",
    "    - \\_\\_find_song_pattern\n",
    "---\n",
    "### Arguments\n",
    "\n",
    "- lst_no_anno: numpy array \n",
    "    - list of pairs of repeats\n",
    "        \n",
    "- check_inds: numpy array\n",
    "    - list of ending indices for repeats of length k that we \n",
    "        use to check lst_no_anno for more repeats of length k \n",
    "       \n",
    "- k: int\n",
    "    - length of repeats that we are looking for\n",
    "            \n",
    "---\n",
    "### Returns: \n",
    "\n",
    "- add_rows: np.array\n",
    "    - List of newly found pairs of repeats of length K that are contained in larger repeats in lst_no_anno\n",
    "---\n",
    "\n",
    "### MatLab Output\n",
    "\n",
    "`ans = \n",
    "     1    10    31    40    10\n",
    "    11    15    41    45     5\n",
    "     1    10    31    40    10\n",
    "    11    15    41    45     5`\n",
    "    \n",
    "---"
   ]
  },
  {
   "cell_type": "code",
   "execution_count": null,
   "metadata": {},
   "outputs": [],
   "source": [
    "%cat find_add_srows.py"
   ]
  },
  {
   "cell_type": "code",
   "execution_count": null,
   "metadata": {},
   "outputs": [],
   "source": [
    "# find_add_srows:\n",
    "# Example 1 Inputs: \n",
    "lst_no_anno = np.array([[ 1, 15, 31, 45, 15],\n",
    "                        [ 1, 10, 46, 55, 10],\n",
    "                        [31, 40, 46, 55, 10],\n",
    "                        [10, 20, 40, 50, 15]])\n",
    "check_inds = np.array([ 1, 31, 46])\n",
    "k = 10"
   ]
  },
  {
   "cell_type": "code",
   "execution_count": null,
   "metadata": {},
   "outputs": [],
   "source": [
    "find_add_srows(lst_no_anno, check_inds, k)"
   ]
  },
  {
   "cell_type": "markdown",
   "metadata": {},
   "source": [
    "---\n",
    "## 3. find_add_erows\n",
    "\n",
    "### About find_add_erows\n",
    "Finds pairs of repeated structures, representated as diagonals of a \n",
    "certain length that end at the same time step as previously found pairs of repeated structures of the same length.\n",
    "\n",
    "* Called by **find_complete_list.py**\n",
    "* from utilities import \n",
    "    - add_annotions \n",
    "    - \\_\\_find_song_pattern\n",
    "    \n",
    "---\n",
    "### Arguments\n",
    "\n",
    "- lst_no_anno: numpy array\n",
    "    - list of pairs of repeats\n",
    "        \n",
    "- check_inds: numpy array\n",
    "    - list of ending indices for repeats of length k that we use \n",
    "      to check lst_anno_no for more repeats of length k\n",
    "        \n",
    "- k: int\n",
    "    - length of repeats that we are looking for \n",
    "\n",
    "---\n",
    "### Returns: \n",
    "- add_rows: numpy array\n",
    "    - list of newly found pairs of repeats of length k that are contained in larger repeats in lst_no_anno\n",
    "---\n",
    "\n",
    "### Matlab Output \n",
    "\n",
    "**Example 1:** \n",
    "\n",
    "`ans = \n",
    "     []`\n",
    "    \n",
    "    \n",
    "---"
   ]
  },
  {
   "cell_type": "code",
   "execution_count": null,
   "metadata": {},
   "outputs": [],
   "source": [
    "# find_add_erows \n",
    "# Example 1 Inputs: \n",
    "lst_no_anno = np.array([[ 1, 15, 31, 45, 15],\n",
    "                        [ 1, 10, 46, 55, 10],\n",
    "                        [31, 40, 46, 55, 10],\n",
    "                        [10, 20, 40, 50, 15]])\n",
    "check_inds = np.array([10, 40, 55])\n",
    "k = 10"
   ]
  },
  {
   "cell_type": "code",
   "execution_count": null,
   "metadata": {},
   "outputs": [],
   "source": [
    "find_add_erows(lst_no_anno, check_inds, k)"
   ]
  },
  {
   "cell_type": "markdown",
   "metadata": {},
   "source": [
    "---\n",
    "## 4. find_add_mrows\n",
    "\n",
    "### About find_add_mrows\n",
    "Finds pairs of repeated structures, represented as diagonals of a certain\n",
    "length that neither start nor end at the same time steps as previously\n",
    "found pairs of repeated structures of the same length. \n",
    "* Called by **find_complete_list.py**\n",
    "* from utilities import \n",
    "    - add_annotions \n",
    "    - \\_\\_find_song_pattern\n",
    "    \n",
    "---\n",
    "### Arguments\n",
    "\n",
    "- lst_no_anno: numpy array \n",
    "    - list of pairs of repeats\n",
    "\n",
    "- check_inds: numpy array \n",
    "    - list of ending indices for repeats of length k that we use to check lst_no_anno for more repeats of length k \n",
    "\n",
    "- k: integer\n",
    "    - length of repeats that we are looking for \n",
    "\n",
    "---\n",
    "### Returns: \n",
    "\n",
    "- add_rows: numpy array \n",
    "    - list of newly found pairs of repeats of length K that are contained in larger repeats in lst_no_anno\n",
    "---\n",
    "\n",
    "### Matlab Output \n",
    "\n",
    "**Example 1:** \n",
    "\n",
    "`ans = \n",
    "     []`\n",
    "    \n",
    "    \n",
    "---"
   ]
  },
  {
   "cell_type": "code",
   "execution_count": null,
   "metadata": {},
   "outputs": [],
   "source": [
    "# find_add_mrows: \n",
    "# Inputs: \n",
    "lst_no_anno = np.array([[ 1, 15, 31, 45, 15],\n",
    "                        [ 1, 10, 46, 55, 10],\n",
    "                        [31, 40, 46, 55, 10],\n",
    "                        [10, 20, 40, 50, 15]])\n",
    "check_inds = np.array([ 1, 31, 46])\n",
    "k = 10"
   ]
  },
  {
   "cell_type": "code",
   "execution_count": null,
   "metadata": {},
   "outputs": [],
   "source": [
    "find_add_mrows(lst_no_anno, check_inds, k)"
   ]
  },
  {
   "cell_type": "markdown",
   "metadata": {},
   "source": [
    "---\n",
    "## 5. find_all_repeats \n",
    "**this function currently does not work.**\n",
    "### About find_all_repeats \n",
    "\n",
    "Finds all the diagonals present in thresh_mat. This function is nearly identical to find_initial_repeats, with two crucial differences. First, we do not remove diagonals after we find them. Second, there is no smallest bandwidth size as we are looking for all diagonals.\n",
    "* Called by **hierarchical_structure.py**  \n",
    "* Uses one utility function\n",
    "    - from utilities import \n",
    "        - stretch_diags\n",
    "---    \n",
    "### Arguments \n",
    "\n",
    "- thresh_mat: numpy array\n",
    "    - thresholded matrix that we extract diagonals from\n",
    "    \n",
    "- band_width_vec: numpy array\n",
    "    - vector of lengths of diagonals to be found\n",
    "---    \n",
    "### Returns \n",
    "\n",
    "- all_lst: numpy array\n",
    "    - list of pairs of repeats that correspond to diagonals in thresh_mat\n",
    "        \n",
    "---\n",
    "### MatLab Output \n",
    "\n",
    "Note: Matlab function is called `lightup_lst_with_thresh_bw_no_remove.m`\n",
    "\n",
    "*Example 1:* \n",
    "    \n",
    "`ans =\n",
    "    2 2 4 4 1`\n",
    "    \n",
    "---"
   ]
  },
  {
   "cell_type": "code",
   "execution_count": null,
   "metadata": {},
   "outputs": [],
   "source": [
    "# find_all_repeats \n",
    "# Inputs: \n",
    "thresh_mat = np.array([[0, 0, 0, 0, 0],\n",
    "                       [0, 1, 0, 1, 0],\n",
    "                       [0, 0, 0, 0, 0],\n",
    "                       [0, 1, 0, 1, 0],\n",
    "                       [0, 0, 0, 0, 0]])\n",
    "\n",
    "bandwidth_vec = np.array([[1, 2, 3, 4, 5]])"
   ]
  },
  {
   "cell_type": "code",
   "execution_count": null,
   "metadata": {},
   "outputs": [],
   "source": [
    "find_all_repeats(thresh_mat, bandwidth_vec)"
   ]
  },
  {
   "cell_type": "markdown",
   "metadata": {},
   "source": [
    "---\n",
    "## 6. find_complete_list_anno_only\n",
    "\n",
    "### About find_complete_list_anno_only \n",
    "\n",
    "Finds annotations for all pairs of repeats found in `find_all_repeats.py`. This list contains all the pairs of repeated structures with their start/end indices and lengths.\n",
    "\n",
    "* Called by **hierarchical_structure.py**\n",
    "* Uses two utilities functions\n",
    "    - from utilities import\n",
    "        - add_annotions \n",
    "        - \\_\\_find_song_pattern\n",
    "---    \n",
    "### Arguments \n",
    "\n",
    "- pair_list: numpy array \n",
    "    - list of pairs of repeats\n",
    "    - WARNING: bandwidths must be in ascending order\n",
    "        \n",
    "- song_length: int\n",
    "    - number of audio shingles in song\n",
    "\n",
    "---\n",
    "### Returns \n",
    "\n",
    "- out_lst: numpy array \n",
    "    - list of pairs of repeats with smaller repeats added and with annotation markers\n",
    "--- \n",
    "\n",
    "### MatLab Output \n",
    "` ans = \n",
    "     2 2 4 4 1 1`\n",
    " "
   ]
  },
  {
   "cell_type": "code",
   "execution_count": null,
   "metadata": {},
   "outputs": [],
   "source": [
    "# find_complete_list_anno_only \n",
    "# Inputs: \n",
    "pair_list = np.array([[2, 2, 4, 4, 1]])\n",
    "song_length = 5 "
   ]
  },
  {
   "cell_type": "code",
   "execution_count": null,
   "metadata": {},
   "outputs": [],
   "source": [
    "find_complete_list_anno_only(pair_list, song_length)"
   ]
  }
 ],
 "metadata": {
  "kernelspec": {
   "display_name": "Python 3",
   "language": "python",
   "name": "python3"
  },
  "language_info": {
   "codemirror_mode": {
    "name": "ipython",
    "version": 3
   },
   "file_extension": ".py",
   "mimetype": "text/x-python",
   "name": "python",
   "nbconvert_exporter": "python",
   "pygments_lexer": "ipython3",
   "version": "3.7.3"
  }
 },
 "nbformat": 4,
 "nbformat_minor": 2
}
