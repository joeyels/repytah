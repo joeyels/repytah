{
 "cells": [
  {
   "cell_type": "markdown",
   "metadata": {},
   "source": [
    "# The Search Module\n"
   ]
  },
  {
   "cell_type": "markdown",
   "metadata": {},
   "source": [
    "The `search` module of the `ah` package holds functions used to find and record the diagonals in the thresholded matrix, T. These functions prepares the found diagonals to later be transformed and assembled. \n",
    "\n",
    "- **find_complete_list**: Finds all smaller diagonals (and the associated pairs of repeats) that are contained pair_list, which is composed of larger diagonals found in find_initial_repeats. \n",
    "\n",
    "- **\\_\\_find_add_srows**: Finds pairs of repeated structures, represented as diagonals of a certain length, k, that start at the same time step as previously found pairs of repeated structures of the same length.\n",
    "\n",
    "- **\\_\\_find_add_erows**: Finds pairs of repeated structures, represented as diagonals of a certain length, k, that end at the same time step as previously found pairs of repeated structures of the same length.\n",
    "\n",
    "- **\\_\\_find_add_mrows** - Finds pairs of repeated structures, represented as diagonals of a certain length, k, that neither start nor end at the same time steps as previously found pairs of repeated structures of the same length.   \n",
    "\n",
    "- **find_all_repeats**: Finds all the diagonals present in thresh_mat. This function is nearly identical to find_initial_repeats, with two crucial differences. First, we do not remove diagonals after we find them. Second, there is no smallest bandwidth size as we are looking for all diagonals.\n",
    "\n",
    "- **find_complete_list_anno_only**: Finds annotations for all pairs of repeats found in find_all_repeats. This list contains all the pairs of repeated structures with their start/end indices and lengths.    \n",
    "\n",
    "The following functions are imported from the [`utilities`](../ah/blob/master/aligned-hierarchies/utilities.py) to reformat outputs and assist with the operations of the `search` functions.  \n",
    "\n",
    "- stretch_diags\n",
    "- add_annotations \n",
    "- \\_\\_find_song_pattern\n",
    "\n",
    "![alt text](function_pipeline.png)"
   ]
  },
  {
   "cell_type": "markdown",
   "metadata": {},
   "source": [
    "### Importing necessary modules"
   ]
  },
  {
   "cell_type": "code",
   "execution_count": 5,
   "metadata": {},
   "outputs": [],
   "source": [
    "#used for mathematical calculations \n",
    "import numpy as np\n",
    "\n",
    "#search module\n",
    "from search import *\n",
    "from search import __find_add_erows, __find_add_mrows, __find_add_srows\n",
    "\n",
    "#utilities module \n",
    "from utilities import * \n",
    "from utilities import __find_song_pattern"
   ]
  },
  {
   "cell_type": "markdown",
   "metadata": {},
   "source": [
    "\n",
    "## find_complete_list\n",
    "\n",
    "As seen in the flow chart, `find_intial_repeats` is called by `example` right before `find_complete_list`. In `find_complete_list`, smaller pairs of repeats are added to the original list of pairs of repeats made in `find_initial_repeats`. All of the pairs of repeats correspond to each repeated structure in another numpy array called thresh_mat. This array holds all the repeated structures in a sequential data stream and the repeated structures are represented as diagonals.   \n",
    "\n",
    "The inputs for the function are:\n",
    "\n",
    "- pair_list (np.ndarray):  pairs of repeats found in [`find_initial_repeats.py`](../ah/blob/master/vignettes/utilities_vignette.ipynb). \n",
    "   \n",
    "- song_length (int):  the number of audio shingles  \n",
    "\n",
    "The output for the function is: \n",
    "\n",
    "- lst_out (np.ndarray):  pairs of repeats with the added smaller repeats   "
   ]
  },
  {
   "cell_type": "code",
   "execution_count": 6,
   "metadata": {},
   "outputs": [
    {
     "name": "stdout",
     "output_type": "stream",
     "text": [
      "The input array is: \n",
      " [[ 1 15 31 45 15]\n",
      " [ 1 10 46 55 10]\n",
      " [31 40 46 55 10]\n",
      " [10 20 40 50 15]]\n",
      "The number of audio shingles is: \n",
      " 55\n"
     ]
    }
   ],
   "source": [
    "# Example 1\n",
    "# Inputs: \n",
    "pair_list = np.array([[1, 15, 31, 45, 15], \n",
    "                      [1, 10, 46, 55, 10], \n",
    "                      [31, 40, 46, 55, 10],\n",
    "                      [10, 20, 40, 50, 15]])\n",
    "song_length = 55\n",
    "\n",
    "print(\"The input array is: \\n\", pair_list)\n",
    "print(\"The number of audio shingles is: \\n\", song_length)"
   ]
  },
  {
   "cell_type": "code",
   "execution_count": 7,
   "metadata": {},
   "outputs": [
    {
     "name": "stdout",
     "output_type": "stream",
     "text": [
      "The output array is: \n",
      " [[ 1 10 46 55 10  1]\n",
      " [31 40 46 55 10  1]\n",
      " [ 1 15 31 45 15  1]\n",
      " [10 20 40 50 15  2]]\n"
     ]
    }
   ],
   "source": [
    "output = find_complete_list(pair_list, song_length)\n",
    "\n",
    "print(\"The output array is: \\n\", output)"
   ]
  },
  {
   "cell_type": "markdown",
   "metadata": {},
   "source": [
    "## \\_\\_find_add_srows\n",
    "\n",
    "Finds pairs of repeated structures, representated as diagonals of a certain length that start at the same time step as previously found pairs of repeated structures of the same length. \n",
    "\n",
    "The inputs for the function are: \n",
    "\n",
    "- lst_no_anno (np.ndarray): pairs of repeats      \n",
    "- check_inds (np.ndarray): list of ending indices of repeats \n",
    "- k (int): length of repeat that we are looking for\n",
    "\n",
    "The out for the function is: \n",
    "- add_rows (np.ndarray): newly found pairs of repeats of length K \n"
   ]
  },
  {
   "cell_type": "code",
   "execution_count": 8,
   "metadata": {},
   "outputs": [
    {
     "name": "stdout",
     "output_type": "stream",
     "text": [
      "The input array is: \n",
      " [[ 1 15 31 45 15]\n",
      " [ 1 10 46 55 10]\n",
      " [31 40 46 55 10]\n",
      " [10 20 40 50 15]]\n",
      "The indices of repeats to check: \n",
      " [ 1 31 46]\n",
      "The length of repeat we are searching for: \n",
      " 10\n"
     ]
    }
   ],
   "source": [
    "lst_no_anno = np.array([[ 1, 15, 31, 45, 15],\n",
    "                        [ 1, 10, 46, 55, 10],\n",
    "                        [31, 40, 46, 55, 10],\n",
    "                        [10, 20, 40, 50, 15]])\n",
    "check_inds = np.array([ 1, 31, 46])\n",
    "k = 10\n",
    "\n",
    "print(\"The input array is: \\n\", lst_no_anno)\n",
    "print(\"The indices of repeats to check: \\n\", check_inds)\n",
    "print(\"The length of repeat we are searching for: \\n\", k)"
   ]
  },
  {
   "cell_type": "code",
   "execution_count": 10,
   "metadata": {},
   "outputs": [
    {
     "name": "stdout",
     "output_type": "stream",
     "text": [
      "The output arrary is: \n",
      " [[ 1 10 31 40 10]\n",
      " [11 15 41 45  5]\n",
      " [ 1 10 31 40 10]\n",
      " [11 15 41 45  5]]\n"
     ]
    }
   ],
   "source": [
    "output = __find_add_srows(lst_no_anno, check_inds, k)\n",
    "\n",
    "print(\"The output arrary is: \\n\", output )"
   ]
  },
  {
   "cell_type": "markdown",
   "metadata": {},
   "source": [
    "## \\_\\_find_add_erows\n",
    "\n",
    "Finds pairs of repeated structures, representated as diagonals of a \n",
    "certain length that end at the same time step as previously found pairs of repeated structures of the same length.\n",
    "\n",
    "The inputs for the functions are: \n",
    "\n",
    "- lst_no_anno (np.ndarray): pairs of repeats\n",
    "- check_inds (np.ndarray): list of ending indices of repeats\n",
    "- k (int): length of repeats that we are looking for \n",
    "\n",
    "The output for the function is: \n",
    "- add_rows (np.ndarray): newly found pairs of repeats of length k "
   ]
  },
  {
   "cell_type": "code",
   "execution_count": 11,
   "metadata": {},
   "outputs": [
    {
     "name": "stdout",
     "output_type": "stream",
     "text": [
      "The input array is: \n",
      " [[ 1 15 31 45 15]\n",
      " [ 1 10 46 55 10]\n",
      " [31 40 46 55 10]\n",
      " [10 20 40 50 15]]\n",
      "The indices of repeats to check: \n",
      " [10 40 55]\n",
      "The length of repeat we are searching for: \n",
      " 10\n"
     ]
    }
   ],
   "source": [
    "lst_no_anno = np.array([[ 1, 15, 31, 45, 15],\n",
    "                        [ 1, 10, 46, 55, 10],\n",
    "                        [31, 40, 46, 55, 10],\n",
    "                        [10, 20, 40, 50, 15]])\n",
    "check_inds = np.array([10, 40, 55])\n",
    "k = 10\n",
    "\n",
    "print(\"The input array is: \\n\", lst_no_anno)\n",
    "print(\"The indices of repeats to check: \\n\", check_inds)\n",
    "print(\"The length of repeat we are searching for: \\n\", k)"
   ]
  },
  {
   "cell_type": "code",
   "execution_count": 12,
   "metadata": {},
   "outputs": [
    {
     "name": "stdout",
     "output_type": "stream",
     "text": [
      "The output arrary is: \n",
      " []\n"
     ]
    }
   ],
   "source": [
    "output = __find_add_erows(lst_no_anno, check_inds, k)\n",
    "\n",
    "print(\"The output arrary is: \\n\", output )"
   ]
  },
  {
   "cell_type": "markdown",
   "metadata": {},
   "source": [
    "## \\_\\_find_add_mrows\n",
    "\n",
    "Finds pairs of repeated structures, represented as diagonals of a certain\n",
    "length that neither start nor end at the same time steps as previously\n",
    "found pairs of repeated structures of the same length. \n",
    "\n",
    "The inputs for the functions are: \n",
    "\n",
    "- lst_no_anno (np.ndarray): pairs of repeats\n",
    "- check_inds (np.ndarray): list of ending indices of repeats\n",
    "- k (int): length of repeats that we are looking for \n",
    "\n",
    "The output for the function is: \n",
    "- add_rows (np.ndarray): newly found pairs of repeats of length k "
   ]
  },
  {
   "cell_type": "code",
   "execution_count": 13,
   "metadata": {},
   "outputs": [
    {
     "name": "stdout",
     "output_type": "stream",
     "text": [
      "The input array is: \n",
      " [[ 1 15 31 45 15]\n",
      " [ 1 10 46 55 10]\n",
      " [31 40 46 55 10]\n",
      " [10 20 40 50 15]]\n",
      "The indices of repeats to check: \n",
      " [ 1 31 46]\n",
      "The length of repeat we are searching for: \n",
      " 10\n"
     ]
    }
   ],
   "source": [
    "lst_no_anno = np.array([[ 1, 15, 31, 45, 15],\n",
    "                        [ 1, 10, 46, 55, 10],\n",
    "                        [31, 40, 46, 55, 10],\n",
    "                        [10, 20, 40, 50, 15]])\n",
    "check_inds = np.array([ 1, 31, 46])\n",
    "k = 10\n",
    "\n",
    "print(\"The input array is: \\n\", lst_no_anno)\n",
    "print(\"The indices of repeats to check: \\n\", check_inds)\n",
    "print(\"The length of repeat we are searching for: \\n\", k)"
   ]
  },
  {
   "cell_type": "code",
   "execution_count": 14,
   "metadata": {},
   "outputs": [
    {
     "name": "stdout",
     "output_type": "stream",
     "text": [
      "The output arrary is: \n",
      " []\n"
     ]
    }
   ],
   "source": [
    "output = __find_add_mrows(lst_no_anno, check_inds, k)\n",
    "\n",
    "print(\"The output arrary is: \\n\", output )"
   ]
  },
  {
   "cell_type": "markdown",
   "metadata": {},
   "source": [
    "##  find_all_repeats \n",
    "\n",
    "Finds all the diagonals present in thresh_mat. This function is nearly identical to find_initial_repeats, with two crucial differences. First, we do not remove diagonals after we find them. Second, there is no smallest bandwidth size as we are looking for all diagonals.\n",
    "\n",
    "The inputs for the function are: \n",
    "\n",
    "- thresh_mat (np.ndarray): thresholded matrix that we extract diagonals from\n",
    "- band_width_vec (np.ndarray): vector of lengths of diagonals to be found\n",
    "\n",
    "The output for the function is:\n",
    "\n",
    "- all_lst (np.ndarray): pairs of repeats that correspond to diagonals in thresh_mat"
   ]
  },
  {
   "cell_type": "code",
   "execution_count": 15,
   "metadata": {},
   "outputs": [
    {
     "name": "stdout",
     "output_type": "stream",
     "text": [
      "The threshold matrix is: \n",
      " [[0 0 0 0 0]\n",
      " [0 1 0 1 0]\n",
      " [0 0 0 0 0]\n",
      " [0 1 0 1 0]\n",
      " [0 0 0 0 0]]\n",
      "The lengths of the diagonals to be found are: \n",
      " [[1 2 3 4 5]]\n"
     ]
    }
   ],
   "source": [
    "thresh_mat = np.array([[0, 0, 0, 0, 0],\n",
    "                       [0, 1, 0, 1, 0],\n",
    "                       [0, 0, 0, 0, 0],\n",
    "                       [0, 1, 0, 1, 0],\n",
    "                       [0, 0, 0, 0, 0]])\n",
    "\n",
    "bandwidth_vec = np.array([[1, 2, 3, 4, 5]])\n",
    "\n",
    "print(\"The threshold matrix is: \\n\", thresh_mat)\n",
    "print(\"The lengths of the diagonals to be found are: \\n\", bandwidth_vec)"
   ]
  },
  {
   "cell_type": "code",
   "execution_count": 16,
   "metadata": {},
   "outputs": [
    {
     "ename": "TypeError",
     "evalue": "only integer scalar arrays can be converted to a scalar index",
     "output_type": "error",
     "traceback": [
      "\u001b[0;31m---------------------------------------------------------------------------\u001b[0m",
      "\u001b[0;31mTypeError\u001b[0m                                 Traceback (most recent call last)",
      "\u001b[0;32m<ipython-input-16-1715ceafe8a7>\u001b[0m in \u001b[0;36m<module>\u001b[0;34m\u001b[0m\n\u001b[0;32m----> 1\u001b[0;31m \u001b[0moutput\u001b[0m \u001b[0;34m=\u001b[0m \u001b[0mfind_all_repeats\u001b[0m\u001b[0;34m(\u001b[0m\u001b[0mthresh_mat\u001b[0m\u001b[0;34m,\u001b[0m \u001b[0mbandwidth_vec\u001b[0m\u001b[0;34m)\u001b[0m\u001b[0;34m\u001b[0m\u001b[0;34m\u001b[0m\u001b[0m\n\u001b[0m\u001b[1;32m      2\u001b[0m \u001b[0;34m\u001b[0m\u001b[0m\n\u001b[1;32m      3\u001b[0m \u001b[0mprint\u001b[0m\u001b[0;34m(\u001b[0m\u001b[0;34m\"The output array is: \\n\"\u001b[0m\u001b[0;34m,\u001b[0m \u001b[0moutput\u001b[0m \u001b[0;34m)\u001b[0m\u001b[0;34m\u001b[0m\u001b[0;34m\u001b[0m\u001b[0m\n",
      "\u001b[0;32m~/Desktop/summer_research/ah/vignettes/search.py\u001b[0m in \u001b[0;36mfind_all_repeats\u001b[0;34m(thresh_mat, bw_vec)\u001b[0m\n\u001b[1;32m    458\u001b[0m \u001b[0;34m\u001b[0m\u001b[0m\n\u001b[1;32m    459\u001b[0m         \u001b[0;31m#Use convolution matrix to find diagonals of length bw\u001b[0m\u001b[0;34m\u001b[0m\u001b[0;34m\u001b[0m\u001b[0;34m\u001b[0m\u001b[0m\n\u001b[0;32m--> 460\u001b[0;31m         \u001b[0mid_mat\u001b[0m \u001b[0;34m=\u001b[0m \u001b[0mnp\u001b[0m\u001b[0;34m.\u001b[0m\u001b[0midentity\u001b[0m\u001b[0;34m(\u001b[0m\u001b[0mbw\u001b[0m\u001b[0;34m)\u001b[0m\u001b[0;34m\u001b[0m\u001b[0;34m\u001b[0m\u001b[0m\n\u001b[0m\u001b[1;32m    461\u001b[0m \u001b[0;34m\u001b[0m\u001b[0m\n\u001b[1;32m    462\u001b[0m         \u001b[0;31m# Search for diagonals of length band_width\u001b[0m\u001b[0;34m\u001b[0m\u001b[0;34m\u001b[0m\u001b[0;34m\u001b[0m\u001b[0m\n",
      "\u001b[0;32m/anaconda3/lib/python3.7/site-packages/numpy/core/numeric.py\u001b[0m in \u001b[0;36midentity\u001b[0;34m(n, dtype)\u001b[0m\n\u001b[1;32m   2346\u001b[0m     \"\"\"\n\u001b[1;32m   2347\u001b[0m     \u001b[0;32mfrom\u001b[0m \u001b[0mnumpy\u001b[0m \u001b[0;32mimport\u001b[0m \u001b[0meye\u001b[0m\u001b[0;34m\u001b[0m\u001b[0;34m\u001b[0m\u001b[0m\n\u001b[0;32m-> 2348\u001b[0;31m     \u001b[0;32mreturn\u001b[0m \u001b[0meye\u001b[0m\u001b[0;34m(\u001b[0m\u001b[0mn\u001b[0m\u001b[0;34m,\u001b[0m \u001b[0mdtype\u001b[0m\u001b[0;34m=\u001b[0m\u001b[0mdtype\u001b[0m\u001b[0;34m)\u001b[0m\u001b[0;34m\u001b[0m\u001b[0;34m\u001b[0m\u001b[0m\n\u001b[0m\u001b[1;32m   2349\u001b[0m \u001b[0;34m\u001b[0m\u001b[0m\n\u001b[1;32m   2350\u001b[0m \u001b[0;34m\u001b[0m\u001b[0m\n",
      "\u001b[0;32m/anaconda3/lib/python3.7/site-packages/numpy/lib/twodim_base.py\u001b[0m in \u001b[0;36meye\u001b[0;34m(N, M, k, dtype, order)\u001b[0m\n\u001b[1;32m    199\u001b[0m     \u001b[0;32mif\u001b[0m \u001b[0mM\u001b[0m \u001b[0;32mis\u001b[0m \u001b[0;32mNone\u001b[0m\u001b[0;34m:\u001b[0m\u001b[0;34m\u001b[0m\u001b[0;34m\u001b[0m\u001b[0m\n\u001b[1;32m    200\u001b[0m         \u001b[0mM\u001b[0m \u001b[0;34m=\u001b[0m \u001b[0mN\u001b[0m\u001b[0;34m\u001b[0m\u001b[0;34m\u001b[0m\u001b[0m\n\u001b[0;32m--> 201\u001b[0;31m     \u001b[0mm\u001b[0m \u001b[0;34m=\u001b[0m \u001b[0mzeros\u001b[0m\u001b[0;34m(\u001b[0m\u001b[0;34m(\u001b[0m\u001b[0mN\u001b[0m\u001b[0;34m,\u001b[0m \u001b[0mM\u001b[0m\u001b[0;34m)\u001b[0m\u001b[0;34m,\u001b[0m \u001b[0mdtype\u001b[0m\u001b[0;34m=\u001b[0m\u001b[0mdtype\u001b[0m\u001b[0;34m,\u001b[0m \u001b[0morder\u001b[0m\u001b[0;34m=\u001b[0m\u001b[0morder\u001b[0m\u001b[0;34m)\u001b[0m\u001b[0;34m\u001b[0m\u001b[0;34m\u001b[0m\u001b[0m\n\u001b[0m\u001b[1;32m    202\u001b[0m     \u001b[0;32mif\u001b[0m \u001b[0mk\u001b[0m \u001b[0;34m>=\u001b[0m \u001b[0mM\u001b[0m\u001b[0;34m:\u001b[0m\u001b[0;34m\u001b[0m\u001b[0;34m\u001b[0m\u001b[0m\n\u001b[1;32m    203\u001b[0m         \u001b[0;32mreturn\u001b[0m \u001b[0mm\u001b[0m\u001b[0;34m\u001b[0m\u001b[0;34m\u001b[0m\u001b[0m\n",
      "\u001b[0;31mTypeError\u001b[0m: only integer scalar arrays can be converted to a scalar index"
     ]
    }
   ],
   "source": [
    "output = find_all_repeats(thresh_mat, bandwidth_vec)\n",
    "\n",
    "print(\"The output array is: \\n\", output )"
   ]
  },
  {
   "cell_type": "markdown",
   "metadata": {},
   "source": [
    "## find_complete_list_anno_only\n",
    "\n",
    "Finds annotations for all pairs of repeats found in `find_all_repeats.py`. This list contains all the pairs of repeated structures with their start/end indices and lengths.\n",
    "\n",
    "The inputs for the function are: \n",
    "\n",
    "- pair_list (np.ndarray): pairs of repeats \n",
    "- song_length (int): number of audio shingles\n",
    "\n",
    "The output for the function is: \n",
    "\n",
    "- out_lst (np.ndarray): pairs of repeats with added smaller repeats and annotations "
   ]
  },
  {
   "cell_type": "code",
   "execution_count": 17,
   "metadata": {},
   "outputs": [
    {
     "name": "stdout",
     "output_type": "stream",
     "text": [
      "The pairs of repeats are: \n",
      " [[2 2 4 4 1]]\n",
      "The number of audio shingles in the song are: \n",
      " 5\n"
     ]
    }
   ],
   "source": [
    "pair_list = np.array([[2, 2, 4, 4, 1]])\n",
    "song_length = 5 \n",
    "\n",
    "print(\"The pairs of repeats are: \\n\", pair_list)\n",
    "print(\"The number of audio shingles in the song are: \\n\", song_length )"
   ]
  },
  {
   "cell_type": "code",
   "execution_count": 19,
   "metadata": {},
   "outputs": [
    {
     "name": "stdout",
     "output_type": "stream",
     "text": [
      "The output array is: \n",
      " [[2 2 4 4 1 1]]\n"
     ]
    }
   ],
   "source": [
    "output = find_complete_list_anno_only(pair_list, song_length)\n",
    "\n",
    "print(\"The output array is: \\n\", output)"
   ]
  }
 ],
 "metadata": {
  "kernelspec": {
   "display_name": "Python 3",
   "language": "python",
   "name": "python3"
  },
  "language_info": {
   "codemirror_mode": {
    "name": "ipython",
    "version": 3
   },
   "file_extension": ".py",
   "mimetype": "text/x-python",
   "name": "python",
   "nbconvert_exporter": "python",
   "pygments_lexer": "ipython3",
   "version": "3.7.3"
  }
 },
 "nbformat": 4,
 "nbformat_minor": 2
}
