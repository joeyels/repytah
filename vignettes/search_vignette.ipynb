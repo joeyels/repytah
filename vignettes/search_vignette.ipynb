{
 "cells": [
  {
   "cell_type": "markdown",
   "metadata": {},
   "source": [
    "# The Search Module\n"
   ]
  },
  {
   "cell_type": "markdown",
   "metadata": {},
   "source": [
    "The `search` module of the `ah` package holds functions used to find and record the diagonals in the thresholded matrix, T. These functions prepares the found diagonals to later be transformed and assembled. \n",
    "\n",
    "- **find_complete_list**: Finds all smaller diagonals (and the associated pairs of repeats) that are contained pair_list, which is composed of larger diagonals found in find_initial_repeats. \n",
    "\n",
    "- **\\_\\_find_add_srows**: Finds pairs of repeated structures, represented as diagonals of a certain length, k, that start at the same time step as previously found pairs of repeated structures of the same length.\n",
    "\n",
    "- **\\_\\_find_add_erows**: Finds pairs of repeated structures, represented as diagonals of a certain length, k, that end at the same time step as previously found pairs of repeated structures of the same length.\n",
    "\n",
    "- **\\_\\_find_add_mrows** - Finds pairs of repeated structures, represented as diagonals of a certain length, k, that neither start nor end at the same time steps as previously found pairs of repeated structures of the same length.   \n",
    "\n",
    "- **find_all_repeats**: Finds all the diagonals present in thresh_mat. This function is nearly identical to find_initial_repeats, with two crucial differences. First, we do not remove diagonals after we find them. Second, there is no smallest bandwidth size as we are looking for all diagonals.\n",
    "\n",
    "- **find_complete_list_anno_only**: Finds annotations for all pairs of repeats found in find_all_repeats. This list contains all the pairs of repeated structures with their start/end indices and lengths.    \n",
    "\n",
    "The following functions are imported from the [`utilities`](../ah/blob/master/aligned-hierarchies/utilities.py) to reformat outputs and assist with the operations of the `search` functions.  \n",
    "\n",
    "- stretch_diags\n",
    "- add_annotations \n",
    "- \\_\\_find_song_pattern\n",
    "\n",
    "For more in depth information on the function calls, an example function pipeline is shown below. Functions from the current module are shown in purple.\n",
    "\n",
    "![alt text](function_pipeline.png)"
   ]
  },
  {
   "cell_type": "markdown",
   "metadata": {},
   "source": [
    "### Importing necessary modules"
   ]
  },
  {
   "cell_type": "code",
   "execution_count": null,
   "metadata": {},
   "outputs": [],
   "source": [
    "#used for mathematical calculations \n",
    "import numpy as np\n",
    "\n",
    "#search module\n",
    "from search import *\n",
    "from search import __find_add_erows, __find_add_mrows, __find_add_srows\n",
    "\n",
    "#utilities module \n",
    "from utilities import * \n",
    "from utilities import __find_song_pattern"
   ]
  },
  {
   "cell_type": "markdown",
   "metadata": {},
   "source": [
    "\n",
    "## find_complete_list\n",
    "\n",
    "As seen in the flow chart, `find_intial_repeats` is called by `example` right before `find_complete_list`. In `find_complete_list`, smaller pairs of repeats are added to the original list of pairs of repeats made in `find_initial_repeats`. All of the pairs of repeats correspond to each repeated structure in another numpy array called _thresh_\\__mat_. This array holds all the repeated structures in a sequential data stream and the repeated structures are represented as diagonals.   \n",
    "\n",
    "The inputs for the function are:\n",
    "\n",
    "- pair_list (np.ndarray):  pairs of repeats found in [`find_initial_repeats.py`](../ah/blob/master/vignettes/utilities_vignette.ipynb). \n",
    "   \n",
    "- song_length (int):  the number of audio shingles  \n",
    "\n",
    "The output for the function is: \n",
    "\n",
    "- lst_out (np.ndarray):  pairs of repeats with the added smaller repeats   "
   ]
  },
  {
   "cell_type": "code",
   "execution_count": null,
   "metadata": {},
   "outputs": [],
   "source": [
    "# Example 1\n",
    "# Inputs: \n",
    "pair_list = np.array([[1, 15, 31, 45, 15], \n",
    "                      [1, 10, 46, 55, 10], \n",
    "                      [31, 40, 46, 55, 10],\n",
    "                      [10, 20, 40, 50, 15]])\n",
    "song_length = 55\n",
    "\n",
    "print(\"The input array is: \\n\", pair_list)\n",
    "print(\"The number of audio shingles is:\", song_length)"
   ]
  },
  {
   "cell_type": "code",
   "execution_count": null,
   "metadata": {},
   "outputs": [],
   "source": [
    "output = find_complete_list(pair_list, song_length)\n",
    "\n",
    "print(\"The output array is: \\n\", output)"
   ]
  },
  {
   "cell_type": "markdown",
   "metadata": {},
   "source": [
    "## \\_\\_find_add_srows\n",
    "\n",
    "Finds pairs of repeated structures, representated as diagonals of a certain length that start at the same time step as previously found pairs of repeated structures of the same length. \n",
    "\n",
    "The inputs for the function are: \n",
    "\n",
    "- lst_no_anno (np.ndarray): pairs of repeats      \n",
    "- check_inds (np.ndarray): list of ending indices of repeats \n",
    "- k (int): length of repeat that we are looking for\n",
    "\n",
    "The out for the function is: \n",
    "- add_rows (np.ndarray): newly found pairs of repeats of length _k_\n"
   ]
  },
  {
   "cell_type": "code",
   "execution_count": null,
   "metadata": {},
   "outputs": [],
   "source": [
    "lst_no_anno = np.array([[ 1, 15, 31, 45, 15],\n",
    "                        [ 1, 10, 46, 55, 10],\n",
    "                        [31, 40, 46, 55, 10],\n",
    "                        [10, 20, 40, 50, 15]])\n",
    "check_inds = np.array([ 1, 31, 46])\n",
    "k = 10\n",
    "\n",
    "print(\"The input array is: \\n\", lst_no_anno)\n",
    "print(\"The indices of repeats to check: \\n\", check_inds)\n",
    "print(\"The length of repeat we are searching for:\", k)"
   ]
  },
  {
   "cell_type": "code",
   "execution_count": null,
   "metadata": {},
   "outputs": [],
   "source": [
    "output = __find_add_srows(lst_no_anno, check_inds, k)\n",
    "\n",
    "print(\"The output arrary is: \\n\", output )"
   ]
  },
  {
   "cell_type": "markdown",
   "metadata": {},
   "source": [
    "## \\_\\_find_add_erows\n",
    "\n",
    "Finds pairs of repeated structures, representated as diagonals of a \n",
    "certain length that end at the same time step as previously found pairs of repeated structures of the same length.\n",
    "\n",
    "The inputs for the functions are: \n",
    "\n",
    "- lst_no_anno (np.ndarray): pairs of repeats\n",
    "- check_inds (np.ndarray): list of ending indices of repeats\n",
    "- k (int): length of repeats that we are looking for \n",
    "\n",
    "The output for the function is: \n",
    "- add_rows (np.ndarray): newly found pairs of repeats of length _k_ "
   ]
  },
  {
   "cell_type": "code",
   "execution_count": null,
   "metadata": {},
   "outputs": [],
   "source": [
    "lst_no_anno = np.array([[ 1, 15, 31, 45, 15],\n",
    "                        [ 1, 10, 46, 55, 10],\n",
    "                        [31, 40, 46, 55, 10],\n",
    "                        [10, 20, 40, 50, 15]])\n",
    "check_inds = np.array([10, 40, 55])\n",
    "k = 10\n",
    "\n",
    "print(\"The input array is: \\n\", lst_no_anno)\n",
    "print(\"The indices of repeats to check: \\n\", check_inds)\n",
    "print(\"The length of repeat we are searching for:\", k)"
   ]
  },
  {
   "cell_type": "code",
   "execution_count": null,
   "metadata": {},
   "outputs": [],
   "source": [
    "output = __find_add_erows(lst_no_anno, check_inds, k)\n",
    "\n",
    "print(\"The output arrary is: \\n\", output )"
   ]
  },
  {
   "cell_type": "markdown",
   "metadata": {},
   "source": [
    "## \\_\\_find_add_mrows\n",
    "\n",
    "Finds pairs of repeated structures, represented as diagonals of a certain\n",
    "length that neither start nor end at the same time steps as previously\n",
    "found pairs of repeated structures of the same length. \n",
    "\n",
    "The inputs for the functions are: \n",
    "\n",
    "- lst_no_anno (np.ndarray): pairs of repeats\n",
    "- check_inds (np.ndarray): list of ending indices of repeats\n",
    "- k (int): length of repeats that we are looking for \n",
    "\n",
    "The output for the function is: \n",
    "- add_rows (np.ndarray): newly found pairs of repeats of length _k_ "
   ]
  },
  {
   "cell_type": "code",
   "execution_count": null,
   "metadata": {},
   "outputs": [],
   "source": [
    "lst_no_anno = np.array([[ 1, 15, 31, 45, 15],\n",
    "                        [ 1, 10, 46, 55, 10],\n",
    "                        [31, 40, 46, 55, 10],\n",
    "                        [10, 20, 40, 50, 15]])\n",
    "check_inds = np.array([ 1, 31, 46])\n",
    "k = 10\n",
    "\n",
    "print(\"The input array is: \\n\", lst_no_anno)\n",
    "print(\"The indices of repeats to check: \\n\", check_inds)\n",
    "print(\"The length of repeat we are searching for:\", k)"
   ]
  },
  {
   "cell_type": "code",
   "execution_count": null,
   "metadata": {},
   "outputs": [],
   "source": [
    "output = __find_add_mrows(lst_no_anno, check_inds, k)\n",
    "\n",
    "print(\"The output arrary is: \\n\", output )"
   ]
  },
  {
   "cell_type": "markdown",
   "metadata": {},
   "source": [
    "##  find_all_repeats \n",
    "\n",
    "Finds all the diagonals present in _thresh_\\__mat_. This function is nearly identical to `find_initial_repeats`, with two crucial differences. First, we do not remove diagonals after we find them. Second, there is no smallest bandwidth size as we are looking for all diagonals.\n",
    "\n",
    "The inputs for the function are: \n",
    "\n",
    "- thresh_mat (np.ndarray): thresholded matrix that we extract diagonals from\n",
    "- band_width_vec (np.ndarray): vector of lengths of diagonals to be found\n",
    "\n",
    "The output for the function is:\n",
    "\n",
    "- all_lst (np.ndarray): pairs of repeats that correspond to diagonals in _thresh_\\__mat_"
   ]
  },
  {
   "cell_type": "code",
   "execution_count": null,
   "metadata": {},
   "outputs": [],
   "source": [
    "thresh_mat = np.array([[1, 0, 1, 0, 0],\n",
    "                       [0, 1, 0, 1, 0],\n",
    "                       [1, 0, 1, 0, 1],\n",
    "                       [0, 1, 0, 1, 0],\n",
    "                       [0, 0, 1, 0, 1]])\n",
    "\n",
    "bandwidth_vec = np.array([1, 2, 3, 4, 5])\n",
    "\n",
    "print(\"The threshold matrix is: \\n\", thresh_mat)\n",
    "print(\"The lengths of the diagonals to be found are: \\n\", bandwidth_vec)"
   ]
  },
  {
   "cell_type": "code",
   "execution_count": null,
   "metadata": {},
   "outputs": [],
   "source": [
    "output = find_all_repeats(thresh_mat, bandwidth_vec)\n",
    "\n",
    "print(\"The output array is: \\n\", output )"
   ]
  },
  {
   "cell_type": "markdown",
   "metadata": {},
   "source": [
    "## find_complete_list_anno_only\n",
    "\n",
    "Finds annotations for all pairs of repeats found in `find_all_repeats.py`. This list contains all the pairs of repeated structures with their start/end indices and lengths.\n",
    "\n",
    "The inputs for the function are: \n",
    "\n",
    "- pair_list (np.ndarray): pairs of repeats \n",
    "- song_length (int): number of audio shingles\n",
    "\n",
    "The output for the function is: \n",
    "\n",
    "- out_lst (np.ndarray): pairs of repeats with added smaller repeats and annotations "
   ]
  },
  {
   "cell_type": "code",
   "execution_count": null,
   "metadata": {},
   "outputs": [],
   "source": [
    "pair_list = np.array([[3,3,5,5,1],\n",
    "                      [2,2,8,8,1],\n",
    "                      [3,3,9,9,1],\n",
    "                      [2,2,15,15,1],\n",
    "                      [8,8,15,15,1],\n",
    "                      [4,4,17,17,1],\n",
    "                      [2,3,8,9,2],\n",
    "                      [3,4,9,10,2],\n",
    "                      [2,3,15,16,2],\n",
    "                      [8,9,15,16,2],\n",
    "                      [3,4,16,17,2],\n",
    "                      [2,4,8,10,3],\n",
    "                      [3,5,9,11,3],\n",
    "                      [7,9,14,16,3],\n",
    "                      [2,4,15,17,3],\n",
    "                      [3,5,16,18,3],\n",
    "                      [9,11,16,18,3],\n",
    "                      [7,10,14,17,4],\n",
    "                      [7,11,14,18,5],\n",
    "                      [8,12,15,19,5],\n",
    "                      [7,12,14,19,6]])\n",
    "song_length = 19\n",
    "\n",
    "\n",
    "print(\"The pairs of repeats are: \\n\", pair_list)\n",
    "print(\"The number of audio shingles in the song are:\", song_length )"
   ]
  },
  {
   "cell_type": "code",
   "execution_count": null,
   "metadata": {},
   "outputs": [],
   "source": [
    "output = find_complete_list_anno_only(pair_list, song_length)\n",
    "\n",
    "print(\"The output array is: \\n\", output)"
   ]
  }
 ],
 "metadata": {
  "kernelspec": {
   "display_name": "Python 3",
   "language": "python",
   "name": "python3"
  },
  "language_info": {
   "codemirror_mode": {
    "name": "ipython",
    "version": 3
   },
   "file_extension": ".py",
   "mimetype": "text/x-python",
   "name": "python",
   "nbconvert_exporter": "python",
   "pygments_lexer": "ipython3",
   "version": "3.7.3"
  }
 },
 "nbformat": 4,
 "nbformat_minor": 2
}
