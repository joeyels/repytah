{
 "cells": [
  {
   "cell_type": "markdown",
   "metadata": {},
   "source": [
    "# Assemble"
   ]
  },
  {
   "cell_type": "markdown",
   "metadata": {},
   "source": [
    "This jornal runs examples for the following functions:\n",
    "1. **breakup_overlaps_by_intersect** : Extract repeats in input_patter_obj that \n",
    "    has the starting indices of the repeats, into the essential structure \n",
    "    componets using bw_vec, that has the lengths of each repeat.\n",
    "    \n",
    "2. **check_overlaps**: Compares every pair of groups, determining if there are\n",
    "    any repeats in any repeats in any pairs of the groups that overlap. \n",
    "\n",
    "3. **__num_of_parts** : Determine the number of blocks of consecutive time \n",
    "    steps in a list of time steps. A block of consecutive time steps represent \n",
    "    a distilled section of a repeat.    \n",
    "4. **__inds_to_rows** :  Expands a vector containing the starting indices of a \n",
    "    piece or two of a repeat into a matrix representation recording when these\n",
    "    pieces occur in the song with 1's. All remaining entries are marked with \n",
    "    0's.\n",
    "5. **_compare_and_cut** : Compares two rows of repeats labeled RED and BLUE, and\n",
    "    determines if there are any overlaps in time between them. If there is, \n",
    "    then we cut the repeats in RED and BLUE into up to 3 pieces. \n",
    "6. **merge_based_on_length** : Merges repeats that are the same length, as set \n",
    "    by full_bandwidth, and are repeats of the same piece of structure\n",
    "7. **_merge_rows** : Merges rows that have at least one common repeat; said \n",
    "    common repeat(s) must occur at the same time step and be of common length\n",
    "8. **hierarchical_structure** : Distills the repeats encoded in MATRIX_NO \n",
    "    (and KEY_NO) to the essential structure components and then builds the \n",
    "    hierarchical representation\n",
    "\n",
    "\n",
    "# Need a new picture to show the relationships between the functions \n"
   ]
  },
  {
   "cell_type": "markdown",
   "metadata": {},
   "source": [
    "## Import Modules"
   ]
  },
  {
   "cell_type": "code",
   "execution_count": 1,
   "metadata": {},
   "outputs": [
    {
     "name": "stdout",
     "output_type": "stream",
     "text": [
      "[[0 0 1 1 1 0 0 0 1 0 0 0 1 1 0 0 1 0 0 0]\n",
      " [1 1 1 0 0 0 1 0 0 0 1 1 0 0 1 0 0 0 0 0]]\n",
      "[1]\n",
      "[[0 1 1 1 1 0 0 1 1 0 0 1 1 1 0 1 1 0 0 0]\n",
      " [1 1 1 1 0 0 1 1 0 0 1 1 1 0 1 1 0 0 0 0]\n",
      " [1 1 1 1 1 0 1 1 1 0 1 1 1 1 1 1 1 0 0 0]]\n",
      "[1]\n"
     ]
    }
   ],
   "source": [
    "import numpy as np\n",
    "import assemble\n",
    "from assemble import *\n",
    "from inspect import signature \n",
    "from search import find_all_repeats\n",
    "from utilities import reconstruct_full_block"
   ]
  },
  {
   "cell_type": "markdown",
   "metadata": {},
   "source": [
    "## 1. breakup_overlaps_by_intersect \n",
    "\n",
    "### About breakup_overlaps_by_intersect \n"
   ]
  },
  {
   "cell_type": "markdown",
   "metadata": {},
   "source": [
    "### Arguments"
   ]
  },
  {
   "cell_type": "markdown",
   "metadata": {},
   "source": [
    "### Returns"
   ]
  },
  {
   "cell_type": "markdown",
   "metadata": {},
   "source": [
    "### Example"
   ]
  },
  {
   "cell_type": "code",
   "execution_count": null,
   "metadata": {},
   "outputs": [],
   "source": []
  },
  {
   "cell_type": "markdown",
   "metadata": {},
   "source": [
    "## 2. check_overlaps\n",
    "### About check_overlaps:"
   ]
  },
  {
   "cell_type": "markdown",
   "metadata": {},
   "source": [
    "### Arguments"
   ]
  },
  {
   "cell_type": "markdown",
   "metadata": {},
   "source": [
    "### Returns"
   ]
  },
  {
   "cell_type": "markdown",
   "metadata": {},
   "source": [
    "### Example"
   ]
  },
  {
   "cell_type": "code",
   "execution_count": null,
   "metadata": {},
   "outputs": [],
   "source": []
  },
  {
   "cell_type": "markdown",
   "metadata": {},
   "source": [
    "## 3. __num_of_parts"
   ]
  },
  {
   "cell_type": "markdown",
   "metadata": {},
   "source": [
    "### About __num_of_parts"
   ]
  },
  {
   "cell_type": "markdown",
   "metadata": {},
   "source": [
    "This function is used to determine the number of blocks of consecutive time steps in a list of time steps. A block of consecutive time steps\n",
    "represent a distilled section of a repeat. This distilled section will be replicated and the starting indices of the repeats within it will be \n",
    "returned. At the beginning of this function, it uses variable breakmark to check if input_vec contains a whole group of consecutive time steps or two groups of consecutive time steps. Then these two conditions go into the if-else statement separately and returns the moved starting indices and the corresponding lengths.\n",
    "\n",
    "<img src=\"num_of_parts.png\" alt=\"Chart\" style=\"width:800px;\" align = \"middle\"/>\n",
    "\n",
    "As the above pictures shows, red and blue are two repeats, and purple is their intersection. Now we want to know the starting indices and length of the remaining part after cutting purple out of all of the repeats in red. Case a and b will go into if statement and c will go into else statement because we can see how many parts in input_vec in the picture clearly."
   ]
  },
  {
   "cell_type": "markdown",
   "metadata": {},
   "source": [
    "### Arguments"
   ]
  },
  {
   "cell_type": "markdown",
   "metadata": {},
   "source": [
    "- input_vec: An array contains one or two parts of a repeat that are overlap(s) in time that may need to be replicated \n",
    "            \n",
    "- input_start: An array contains starting index for the part to be replicated \n",
    "        \n",
    "- input_all_starts: An array contains starting indices for replication "
   ]
  },
  {
   "cell_type": "markdown",
   "metadata": {},
   "source": [
    "### Returns"
   ]
  },
  {
   "cell_type": "markdown",
   "metadata": {},
   "source": [
    "- start_mat: An array of one or two rows, containing the starting indices of the replicated repeats \n",
    "            \n",
    "- length_vec: A column vector containing the lengths of the replicated parts "
   ]
  },
  {
   "cell_type": "markdown",
   "metadata": {},
   "source": [
    "### Examples"
   ]
  },
  {
   "cell_type": "markdown",
   "metadata": {},
   "source": [
    "**Input 1** which goes into the if statement: "
   ]
  },
  {
   "cell_type": "code",
   "execution_count": 2,
   "metadata": {},
   "outputs": [],
   "source": [
    "input_vec = np.array([3,4])\n",
    "input_start = np.array([0])\n",
    "input_all_starts = np.array([3,7,10])"
   ]
  },
  {
   "cell_type": "markdown",
   "metadata": {},
   "source": [
    "**Output 1**"
   ]
  },
  {
   "cell_type": "code",
   "execution_count": 3,
   "metadata": {},
   "outputs": [
    {
     "data": {
      "text/plain": [
       "(array([ 6, 10, 13]), 2)"
      ]
     },
     "execution_count": 3,
     "metadata": {},
     "output_type": "execute_result"
    }
   ],
   "source": [
    "from assemble import __num_of_parts\n",
    "__num_of_parts(input_vec,input_start,input_all_starts)"
   ]
  },
  {
   "cell_type": "markdown",
   "metadata": {},
   "source": [
    "**Input 2** which goes into the else statement: "
   ]
  },
  {
   "cell_type": "code",
   "execution_count": 4,
   "metadata": {},
   "outputs": [],
   "source": [
    "input_vec = np.array([3,5])\n",
    "input_start = np.array([3])\n",
    "input_all_starts = np.array([3,7,10])"
   ]
  },
  {
   "cell_type": "markdown",
   "metadata": {},
   "source": [
    "**Output 2**"
   ]
  },
  {
   "cell_type": "code",
   "execution_count": 5,
   "metadata": {},
   "outputs": [
    {
     "data": {
      "text/plain": [
       "(array([[ 3,  7, 10],\n",
       "        [ 5,  9, 12]]),\n",
       " array([[1],\n",
       "        [1]]))"
      ]
     },
     "execution_count": 5,
     "metadata": {},
     "output_type": "execute_result"
    }
   ],
   "source": [
    "__num_of_parts(input_vec,input_start,input_all_starts)"
   ]
  },
  {
   "cell_type": "markdown",
   "metadata": {},
   "source": [
    "## 4. __inds_to_rows"
   ]
  },
  {
   "cell_type": "markdown",
   "metadata": {},
   "source": [
    "### About __inds_to_rows"
   ]
  },
  {
   "cell_type": "markdown",
   "metadata": {},
   "source": [
    "This function expands a vector containing the starting indices of a piece or two of a repeat into a matrix representation recording when these pieces occur in the song with 1's. All remaining entries are marked with 0's. "
   ]
  },
  {
   "cell_type": "markdown",
   "metadata": {},
   "source": [
    "### Arguments"
   ]
  },
  {
   "cell_type": "markdown",
   "metadata": {},
   "source": [
    "- start_mat: A matrix of one or two rows, containing the starting indices \n",
    "            \n",
    "- row_length: length of the rows, an integer"
   ]
  },
  {
   "cell_type": "markdown",
   "metadata": {},
   "source": [
    "### Returns"
   ]
  },
  {
   "cell_type": "markdown",
   "metadata": {},
   "source": [
    "- new_mat: A matrix of one or two rows, with 1's where the starting indices and 0's otherwise "
   ]
  },
  {
   "cell_type": "markdown",
   "metadata": {},
   "source": [
    "### Examples"
   ]
  },
  {
   "cell_type": "markdown",
   "metadata": {},
   "source": [
    "#### Input "
   ]
  },
  {
   "cell_type": "code",
   "execution_count": 6,
   "metadata": {},
   "outputs": [],
   "source": [
    "start_mat = np.array([0,1,6,7])\n",
    "row_length = 10"
   ]
  },
  {
   "cell_type": "markdown",
   "metadata": {},
   "source": [
    "#### Output"
   ]
  },
  {
   "cell_type": "code",
   "execution_count": 7,
   "metadata": {},
   "outputs": [],
   "source": [
    "from assemble import __inds_to_rows"
   ]
  },
  {
   "cell_type": "code",
   "execution_count": 8,
   "metadata": {},
   "outputs": [
    {
     "data": {
      "text/plain": [
       "array([[1, 1, 0, 0, 0, 0, 1, 1, 0, 0]])"
      ]
     },
     "execution_count": 8,
     "metadata": {},
     "output_type": "execute_result"
    }
   ],
   "source": [
    "__inds_to_rows(start_mat, row_length)"
   ]
  },
  {
   "cell_type": "markdown",
   "metadata": {},
   "source": [
    "## 5. compare_and_cut"
   ]
  },
  {
   "cell_type": "markdown",
   "metadata": {},
   "source": [
    "### About compare_and_cut"
   ]
  },
  {
   "cell_type": "markdown",
   "metadata": {},
   "source": [
    "This function compares two rows of repeats labeled RED and BLUE, and determines if there are any overlaps in time between them. If there is, \n",
    "then it cuts the repeats in RED and BLUE into up to 3 pieces. This function first determines if there is any intersection between the rows, if there is, then it starts comparing one repeat in red to one repeat in blue. By using the intersection of two repeats(purple) and the function __num_of_parts, we will know the new starting indices and its length. Then calling __num_of_inds changes these new starting indices and lengths to binary matrixes with ones where repeats start and zeros otherwise. After we have the new matrixes, we call merge_based_on_length to merge repeats that are the same length, and if the merged results have repeats within a row, we will call compare_and_cut again. \n",
    "\n",
    "\n",
    "# #Need  a picture to explain the whole process"
   ]
  },
  {
   "cell_type": "markdown",
   "metadata": {},
   "source": [
    "### Arguments"
   ]
  },
  {
   "cell_type": "markdown",
   "metadata": {},
   "source": [
    "- red: A binary row vector encoding a set of repeats with 1's where each repeat starts and 0's otherwise \n",
    "            \n",
    "- red_len: The length of repeats encoded in red \n",
    "            \n",
    "- blue: A binary row vector encoding a set of repeats with 1's where each repeat starts and 0's otherwise \n",
    "            \n",
    "- blue_len: The length of repeats encoded in blue "
   ]
  },
  {
   "cell_type": "markdown",
   "metadata": {},
   "source": [
    "### Returns"
   ]
  },
  {
   "cell_type": "markdown",
   "metadata": {},
   "source": [
    "- union_mat: A binary matrix representation of up to three rows encoding non-overlapping repeats cut from red and blue\n",
    "- union_length: A vector containing the lengths of the repeats encoded in union_mat"
   ]
  },
  {
   "cell_type": "markdown",
   "metadata": {},
   "source": [
    "### Examples"
   ]
  },
  {
   "cell_type": "markdown",
   "metadata": {},
   "source": [
    "#### Input"
   ]
  },
  {
   "cell_type": "code",
   "execution_count": 9,
   "metadata": {},
   "outputs": [],
   "source": [
    "red = np.array([1,0,1,0,0,0,0,0,0,0,0,1,0,0,0,0,0,0,0,0])\n",
    "red_len = np.array([5])\n",
    "blue = np.array([1,1,0,0,0,0,1,0,0,0,1,0,0,0,1,0,0,0,0,0])\n",
    "blue_len = np.array([3])"
   ]
  },
  {
   "cell_type": "markdown",
   "metadata": {},
   "source": [
    "#### Output"
   ]
  },
  {
   "cell_type": "code",
   "execution_count": 10,
   "metadata": {},
   "outputs": [
    {
     "name": "stdout",
     "output_type": "stream",
     "text": [
      "[[0 0 1 1 1 0 0 0 1 0 0 0 1 1 0 0 1 0 0 0]\n",
      " [1 1 1 0 0 0 1 0 0 0 1 1 0 0 1 0 0 0 0 0]]\n",
      "[1]\n",
      "[[0 1 1 1 1 0 0 1 1 0 0 1 1 1 0 1 1 0 0 0]\n",
      " [1 1 1 1 0 0 1 1 0 0 1 1 1 0 1 1 0 0 0 0]\n",
      " [1 1 1 1 1 0 1 1 1 0 1 1 1 1 1 1 1 0 0 0]]\n",
      "[1]\n"
     ]
    },
    {
     "data": {
      "text/plain": [
       "(array([[1, 1, 1, 1, 1, 0, 1, 0, 1, 0, 1, 1, 1, 1, 1, 0, 1, 0, 0, 0],\n",
       "        [1, 1, 1, 1, 1, 0, 1, 1, 1, 0, 1, 1, 1, 1, 1, 1, 1, 0, 0, 0],\n",
       "        [0, 0, 0, 1, 0, 1, 0, 0, 0, 0, 0, 0, 0, 0, 1, 0, 0, 0, 0, 0]]),\n",
       " array([[1],\n",
       "        [1],\n",
       "        [2]]))"
      ]
     },
     "execution_count": 10,
     "metadata": {},
     "output_type": "execute_result"
    }
   ],
   "source": [
    "from assemble import _compare_and_cut\n",
    "_compare_and_cut(red, red_len, blue, blue_len)"
   ]
  },
  {
   "cell_type": "markdown",
   "metadata": {},
   "source": [
    "## 6. _merge_based_on_length"
   ]
  },
  {
   "cell_type": "markdown",
   "metadata": {},
   "source": [
    "### About _merge_based_on_length"
   ]
  },
  {
   "cell_type": "markdown",
   "metadata": {},
   "source": [
    "This function merges repeats that are the same length, as set by full_bandwidth, and are repeats of the same piece of structure. In the merging process, if there are rows that have at least one common repeat, the function will call _merge_rows to actually merge them."
   ]
  },
  {
   "cell_type": "markdown",
   "metadata": {},
   "source": [
    "### Arguments"
   ]
  },
  {
   "cell_type": "markdown",
   "metadata": {},
   "source": [
    "- full_mat: A binary matrix with ones where repeats start and zeroes otherwise\n",
    "        \n",
    "- full_bw: The length of repeats encoded in input_mat\n",
    "    \n",
    "- target_bw: The length of repeats that we seek to merge"
   ]
  },
  {
   "cell_type": "markdown",
   "metadata": {},
   "source": [
    "### Returns"
   ]
  },
  {
   "cell_type": "markdown",
   "metadata": {},
   "source": [
    "- out_mat: A binary matrix with ones where repeats start and zeros otherwise with rows of full_mat merged if appropriate\n",
    "        \n",
    "- one_length_vec: The length of the repeats encoded in out_mat"
   ]
  },
  {
   "cell_type": "markdown",
   "metadata": {},
   "source": [
    "### Examples"
   ]
  },
  {
   "cell_type": "markdown",
   "metadata": {},
   "source": [
    "#### Input"
   ]
  },
  {
   "cell_type": "code",
   "execution_count": 11,
   "metadata": {},
   "outputs": [],
   "source": [
    "full_mat = np.array([[0,0,0,1,0,1,0,0,0,0,0,0,0,0,1,0,0,0,0,0],[1,1,1,0,0,0,1,0,0,0,1,1,0,0,1,0,0,0,0,0]])\n",
    "full_bw = np.array([[2],[2]])\n",
    "target_bw = np.array([[2],[2]])"
   ]
  },
  {
   "cell_type": "markdown",
   "metadata": {},
   "source": [
    "#### Output"
   ]
  },
  {
   "cell_type": "code",
   "execution_count": 12,
   "metadata": {},
   "outputs": [
    {
     "name": "stdout",
     "output_type": "stream",
     "text": [
      "[[0 0 0 1 0 1 0 0 0 0 0 0 0 0 1 0 0 0 0 0]\n",
      " [1 1 1 0 0 0 1 0 0 0 1 1 0 0 1 0 0 0 0 0]]\n",
      "[2]\n",
      "[[0 1 1 1 1 0 1 1 0 0 0 1 1 0 0 1 0 0 0 0]\n",
      " [1 1 1 1 0 1 1 0 0 0 1 1 0 0 1 0 0 0 0 0]\n",
      " [1 1 1 1 1 1 1 1 0 0 1 1 1 0 1 1 0 0 0 0]]\n",
      "[1]\n"
     ]
    },
    {
     "data": {
      "text/plain": [
       "(array([[1, 1, 1, 1, 1, 1, 1, 1, 0, 0, 1, 1, 1, 0, 1, 1, 0, 0, 0, 0]]),\n",
       " array([2]))"
      ]
     },
     "execution_count": 12,
     "metadata": {},
     "output_type": "execute_result"
    }
   ],
   "source": [
    "from assemble import _merge_based_on_length\n",
    "_merge_based_on_length(full_mat,full_bw,target_bw)"
   ]
  },
  {
   "cell_type": "markdown",
   "metadata": {},
   "source": [
    "## 7. _merge_rows"
   ]
  },
  {
   "cell_type": "markdown",
   "metadata": {},
   "source": [
    "### About _merge_rows"
   ]
  },
  {
   "cell_type": "markdown",
   "metadata": {},
   "source": [
    "This function merges rows that have at least one common repeat; said common repeat(s) must occur at the same time step and be of common length. In a while loop, the function checks all the unchecked rows one by one, finds indices of unmerged overlapping rows, unions rows with starting indices in common, and checks that newly merged rows do not cause overlaps within row (if there are conflicts, rerun compare_and_cut. When there is no unchecked row, it quits the function and finally returns the merged matrix."
   ]
  },
  {
   "cell_type": "markdown",
   "metadata": {},
   "source": [
    "### Arguments"
   ]
  },
  {
   "cell_type": "markdown",
   "metadata": {},
   "source": [
    "- input_mat: A binary matrix with ones where repeats start and zeroes otherwise\n",
    "        \n",
    "- input_width: The length of repeats encoded in input_mat"
   ]
  },
  {
   "cell_type": "markdown",
   "metadata": {},
   "source": [
    "### Returns"
   ]
  },
  {
   "cell_type": "markdown",
   "metadata": {},
   "source": [
    "- merge_mat: A binary matrix with ones where repeats start and zeroes otherwise"
   ]
  },
  {
   "cell_type": "markdown",
   "metadata": {},
   "source": [
    "### Examples"
   ]
  },
  {
   "cell_type": "markdown",
   "metadata": {},
   "source": [
    "#### Input"
   ]
  },
  {
   "cell_type": "code",
   "execution_count": 13,
   "metadata": {},
   "outputs": [],
   "source": [
    "input_mat = np.array([[0,0,1,1,1,0,0,0,1,0,0,0,1,1,0,0,1,0,0,0],\n",
    " [1,1,1,0,0,0,1,0,0,0,1,1,0,0,1,0,0,0,0,0]])\n",
    "input_width = np.array([1])"
   ]
  },
  {
   "cell_type": "code",
   "execution_count": 14,
   "metadata": {},
   "outputs": [],
   "source": [
    "from assemble import _merge_rows"
   ]
  },
  {
   "cell_type": "code",
   "execution_count": 15,
   "metadata": {},
   "outputs": [
    {
     "name": "stdout",
     "output_type": "stream",
     "text": [
      "[[0 0 1 1 1 0 0 0 1 0 0 0 1 1 0 0 1 0 0 0]\n",
      " [1 1 1 0 0 0 1 0 0 0 1 1 0 0 1 0 0 0 0 0]]\n",
      "[1]\n"
     ]
    },
    {
     "data": {
      "text/plain": [
       "array([[1, 1, 1, 1, 1, 0, 1, 0, 1, 0, 1, 1, 1, 1, 1, 0, 1, 0, 0, 0]])"
      ]
     },
     "execution_count": 15,
     "metadata": {},
     "output_type": "execute_result"
    }
   ],
   "source": [
    "_merge_rows(input_mat,input_width)"
   ]
  },
  {
   "cell_type": "code",
   "execution_count": null,
   "metadata": {},
   "outputs": [],
   "source": [
    " "
   ]
  }
 ],
 "metadata": {
  "kernelspec": {
   "display_name": "Python 3",
   "language": "python",
   "name": "python3"
  },
  "language_info": {
   "codemirror_mode": {
    "name": "ipython",
    "version": 3
   },
   "file_extension": ".py",
   "mimetype": "text/x-python",
   "name": "python",
   "nbconvert_exporter": "python",
   "pygments_lexer": "ipython3",
   "version": "3.7.6"
  }
 },
 "nbformat": 4,
 "nbformat_minor": 4
}
