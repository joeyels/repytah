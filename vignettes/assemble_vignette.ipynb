{
 "cells": [
  {
   "cell_type": "markdown",
   "metadata": {},
   "source": [
    "# The Assemble Module"
   ]
  },
  {
   "cell_type": "markdown",
   "metadata": {},
   "source": [
    "The `assemble` module of the `ah` package finds and forms the essential structure components. These \n",
    "components are the smallest building blocks that form the basis for every repeat in the song. The functions in this module ensure each time step of a song is contained in at most one of the song's essential  structure component by making none of the repeats overlap in time. When repeats do overlap, these repeats undergo a process \n",
    "where they are divided until there are only non-overlapping pieces left over.\n",
    "\n",
    "- **breakup_overlaps_by_intersect** : Extracts repeats in _input\\_pattern\\_obj_ that has the starting indices of the repeats, into the essential structure componets using _bw\\_vec_, that has the lengths of each repeat.\n",
    "    \n",
    "- **check_overlaps**: Compares every pair of groups, determining if there are any repeats in any pairs of the groups that overlap. \n",
    "    \n",
    "- **\\_\\_compare_and_cut** : Compares two rows of repeats labeled RED and BLUE, and determines if there are any overlaps in time between them. If there is, then we cut the repeats in RED and BLUE into up to 3 pieces. \n",
    "\n",
    "- **\\_\\_num_of_parts** : Determines the number of blocks of consecutive time steps in a list of time steps. A block of consecutive time steps represents a distilled section of a repeat.\n",
    "\n",
    "- **\\_\\_inds_to_rows** :  Expands a vector containing the starting indices of a piece or two of a repeat into a matrix representation recording when these pieces occur in the song with 1's. All remaining entries are marked with 0's.\n",
    "\n",
    "- **\\_\\_merge_based_on_length** : Merges repeats that are the same length, as set by _full\\_bandwidth_, and are repeats of the same piece of structure.\n",
    "\n",
    "- **\\_\\_merge_rows** : Merges rows that have at least one common repeat; said common repeat(s) must occur at the same time step and be of common length.\n",
    "\n",
    "- **hierarchical_structure** : Distills the repeats encoded in _MATRIX\\_NO_ (and _KEY\\_NO_) to the essential structure components and then builds the hierarchical representation.\n",
    "\n",
    "- **hierarchical_structure_with_vis** : Same as hierarchical_structure but this also outputs visualizations of the hierarchical representations.\n",
    "    \n",
    "This module uses `find_all_repeats` from the [`search`](../ah/blob/master/vignettes/search_vignette.ipynb) module and `reconstruct_full_block` from the [`utilities`](../ah/blob/master/vignettes/utilities_vignette.ipynb) module. \n",
    "\n",
    "For more in depth information on the function calls, an example function pipeline is shown below. Functions from the current module are shown in purple.\n",
    "\n",
    "<img src=\"pictures/assemble_color_sample.png\" alt=\"Chart\" style=\"width:150px;\" align = \"left\"/>]\n",
    "<img src=\"pictures/assemble_pipeline.png\" alt=\"Chart\" style=\"width:340px;\" align = \"middle\"/>\n"
   ]
  },
  {
   "cell_type": "markdown",
   "metadata": {},
   "source": [
    "## Import Modules"
   ]
  },
  {
   "cell_type": "code",
   "execution_count": 41,
   "metadata": {},
   "outputs": [],
   "source": [
    "# numpy is used for mathematical calculations\n",
    "import numpy as np\n",
    "\n",
    "# Set the path for the import\n",
    "import sys\n",
    "import os\n",
    "module_path = os.path.abspath(os.path.join('..'))\n",
    "if module_path not in sys.path:\n",
    "    sys.path.append(module_path+\"\\\\aligned-hierarchies\")\n",
    "\n",
    "# Import other modules\n",
    "from inspect import signature \n",
    "from assemble import *\n",
    "from assemble import __num_of_parts, __inds_to_rows, __compare_and_cut, __merge_based_on_length, __merge_rows\n",
    "from search import find_all_repeats\n",
    "from utilities import reconstruct_full_block"
   ]
  },
  {
   "cell_type": "markdown",
   "metadata": {},
   "source": [
    "## breakup_overlaps_by_intersect \n",
    "\n",
    "The purpose of this function is to create the essential structure components matrix. The essential structure components contain the smallest building blocks that form the basis for every repeat in the song. This matrix is created using the _input\\_pattern\\_object_, that has the starting indices of the repeats and a vector, _bw\\_vec_, that has the lengths of each repeats. \n",
    " \n",
    "The inputs for this function are: \n",
    "- **input_pattern_obj** (np.ndarray): binary matrix with 1's where repeats begin and 0's otherwise\n",
    "-  **bw_vec** (np.ndarray): lengths of the repeats encoded in _input\\_pattern\\_obj_\n",
    "- **thresh_bw** (int): the smallest allowable repeat length \n",
    "\n",
    "The outputs for this function are: \n",
    "- **pattern_no_overlaps** (np.ndarray): A binary matrix with 1's where repeats of essential structure components begin \n",
    "- **pattern_no_overlaps_key** (np.ndarray): A vector containing the lengths of the repeats of essential structure components in _pattern\\_no\\_overlaps_ "
   ]
  },
  {
   "cell_type": "code",
   "execution_count": 22,
   "metadata": {},
   "outputs": [
    {
     "name": "stdout",
     "output_type": "stream",
     "text": [
      "The input array is: \n",
      " [[1 0 0 0 0 0 0 0 1 0 0 0 0 0 0 0 1 0 0]\n",
      " [0 0 0 1 0 0 0 0 0 0 0 1 0 0 0 0 0 0 0]\n",
      " [1 0 0 0 0 0 0 0 1 0 0 0 0 0 0 0 0 0 0]\n",
      " [0 0 0 1 0 0 0 0 0 0 0 1 0 0 0 0 0 0 0]]\n",
      "The lengths of the repeats in the input array is: \n",
      " [[3]\n",
      " [5]\n",
      " [8]\n",
      " [8]]\n",
      "The smallest allowable repeat length is:  0\n"
     ]
    }
   ],
   "source": [
    "input_pattern_obj = np.array([[1, 0, 0, 0, 0, 0, 0, 0, 1, 0, 0, 0, 0, 0, 0, 0, 1, 0, 0],\n",
    "                              [0, 0, 0, 1, 0, 0, 0, 0, 0, 0, 0, 1, 0, 0, 0, 0, 0, 0, 0],\n",
    "                              [1, 0, 0, 0, 0, 0, 0, 0, 1, 0, 0, 0, 0, 0, 0, 0, 0, 0, 0],\n",
    "                              [0, 0, 0, 1, 0, 0, 0, 0, 0, 0, 0, 1, 0, 0, 0, 0, 0, 0, 0]])\n",
    "bw_vec = np.array([[3],\n",
    "                   [5],\n",
    "                   [8],\n",
    "                   [8]])\n",
    "thresh_bw = 0\n",
    "print(\"The input array is: \\n\", input_pattern_obj)\n",
    "print(\"The lengths of the repeats in the input array is: \\n\", bw_vec)\n",
    "print(\"The smallest allowable repeat length is: \", thresh_bw)"
   ]
  },
  {
   "cell_type": "code",
   "execution_count": 23,
   "metadata": {},
   "outputs": [
    {
     "name": "stdout",
     "output_type": "stream",
     "text": [
      "The output array is: \n",
      " [[1 0 0 0 0 0 0 0 1 0 0 0 0 0 0 0 1 0 0]\n",
      " [0 0 0 1 0 0 0 0 0 0 0 1 0 0 0 0 0 0 0]]\n",
      "The lengths of the repeats in the output array is: \n",
      " [[3]\n",
      " [5]]\n"
     ]
    }
   ],
   "source": [
    "output = breakup_overlaps_by_intersect(input_pattern_obj, bw_vec, thresh_bw)\n",
    "\n",
    "print(\"The output array is: \\n\", output[0])\n",
    "print(\"The lengths of the repeats in the output array is: \\n\", output[1])"
   ]
  },
  {
   "cell_type": "markdown",
   "metadata": {},
   "source": [
    "## check_overlaps\n",
    "\n",
    "This function compares every pair of groups and checks for overlaps between those pairs. To check every pair of groups, the function creates _compare\\_left_ and _compare\\_right_. _compare\\_left_ repeats each row the number of rows times, and _compare\\_right_ repeats the whole input the number of rows times times. By comparing each corresponding time step in _compare\\_left_ and _compare\\_right_, it determines if there are any overlaps between groups.\n",
    "\n",
    "The input for this function is: \n",
    "\n",
    "- **input_mat** (np.ndarray): An array waiting to be checked for overlaps\n",
    "\n",
    "The output for this function is: \n",
    "- **overlaps\\_yn** (np.ndarray): A logical array where (i,j) = 1 if row i of input matrix and row j of input matrix overlap and (i,j) = 0 elsewhere"
   ]
  },
  {
   "cell_type": "code",
   "execution_count": 44,
   "metadata": {},
   "outputs": [
    {
     "name": "stdout",
     "output_type": "stream",
     "text": [
      "The input array waiting to be checked for overlaps is: \n",
      " [[0 0 0 1 1 1 1 1 1 1 1 1 1 1 1 1 1 1 1]\n",
      " [1 1 1 1 1 1 1 1 1 1 1 1 1 1 1 1 0 0 0]\n",
      " [0 0 0 1 1 1 1 1 0 0 0 1 1 1 1 1 0 0 0]\n",
      " [1 1 1 0 0 0 0 0 1 1 1 0 0 0 0 0 1 1 1]]\n"
     ]
    }
   ],
   "source": [
    "input_mat = np.array([[0, 0, 0, 1, 1, 1, 1, 1, 1, 1, 1, 1, 1, 1, 1, 1, 1, 1, 1],\n",
    "                      [1, 1, 1, 1, 1, 1, 1, 1, 1, 1, 1, 1, 1, 1, 1, 1, 0, 0, 0],\n",
    "                      [0, 0, 0, 1, 1, 1, 1, 1, 0, 0, 0, 1, 1, 1, 1, 1, 0, 0, 0],\n",
    "                      [1, 1, 1, 0, 0, 0, 0, 0, 1, 1, 1, 0, 0, 0, 0, 0, 1, 1, 1]])\n",
    "\n",
    "print(\"The input array waiting to be checked for overlaps is: \\n\", input_mat)"
   ]
  },
  {
   "cell_type": "code",
   "execution_count": 45,
   "metadata": {},
   "outputs": [
    {
     "name": "stdout",
     "output_type": "stream",
     "text": [
      "The output logical array is: \n",
      " [[False  True  True  True]\n",
      " [False False  True  True]\n",
      " [False False False False]\n",
      " [False False False False]]\n"
     ]
    }
   ],
   "source": [
    "output = check_overlaps(input_mat)\n",
    "\n",
    "print(\"The output logical array is: \\n\", output)"
   ]
  },
  {
   "cell_type": "markdown",
   "metadata": {},
   "source": [
    "## \\_\\_num_of_parts\n",
    "\n",
    "This function is used to determine the number of blocks of consecutive timesteps in a list of timesteps. A block of consecutive timesteps\n",
    "represent a distilled section of a repeat. This distilled section will be replicated and the starting indices of the repeats within it will be \n",
    "returned. At the beginning of this function, it uses variable breakmark to check if _input\\_vec_ contains a whole group of consecutive timesteps or two groups of consecutive timesteps. Then these two conditions go into the if-else statement separately and returns the moved starting indices and the corresponding lengths.\n",
    "\n",
    "<img src=\"pictures/num_of_parts.png\" alt=\"Chart\" style=\"width:800px;\" align = \"middle\"/>\n",
    "\n",
    "As the above pictures shows, red and blue are two repeats, and purple is their intersection. Now we want to know the starting indices and length of the remaining part after cutting purple out of all of the repeats in red. Case a and b will enter the if-statement (see example 1) and c will enter else-statement (see example 2) because we can see how many parts in _input\\_vec_ in the picture clearly.\n",
    "\n",
    "The inputs for this function are: \n",
    "\n",
    "- **input_vec** (np.ndarray): one or two parts of a repeat that are overlaps in time that may need to be replicated            \n",
    "- **input_start** (np.ndarray): the starting indicies for the section to be replicated \n",
    "- **input_all_starts** (np.ndarray): the starting indices for replication \n",
    "\n",
    "The outputs for this function are: \n",
    "- **start_mat** (np.ndarray): the starting indices of the replicated repeats          \n",
    "- **length_vec** (np.ndarray): lengths of the replicated parts"
   ]
  },
  {
   "cell_type": "markdown",
   "metadata": {},
   "source": [
    "**Example 1** enters the if-statement: "
   ]
  },
  {
   "cell_type": "code",
   "execution_count": 46,
   "metadata": {},
   "outputs": [
    {
     "name": "stdout",
     "output_type": "stream",
     "text": [
      "The input array is: \n",
      " [3 4]\n",
      "The starting indices for the part to be replicated is: \n",
      " [0]\n",
      "The starting indices for replication is: \n",
      " [ 3  7 10]\n"
     ]
    }
   ],
   "source": [
    "input_vec = np.array([3, 4])\n",
    "input_start = np.array([0])\n",
    "input_all_starts = np.array([3, 7, 10])\n",
    "\n",
    "print(\"The input array is: \\n\", input_vec)\n",
    "print(\"The starting indices for the part to be replicated is: \\n\", input_start)\n",
    "print(\"The starting indices for replication is: \\n\", input_all_starts)"
   ]
  },
  {
   "cell_type": "code",
   "execution_count": 47,
   "metadata": {},
   "outputs": [
    {
     "name": "stdout",
     "output_type": "stream",
     "text": [
      "The starting indices of the replicated repeats is: \n",
      " [ 6 10 13]\n",
      "The lengths of the replicated parts is:  2\n"
     ]
    }
   ],
   "source": [
    "output = __num_of_parts(input_vec, input_start, input_all_starts)\n",
    "\n",
    "print(\"The starting indices of the replicated repeats is: \\n\", output[0])\n",
    "print(\"The lengths of the replicated parts is: \", output[1])"
   ]
  },
  {
   "cell_type": "markdown",
   "metadata": {},
   "source": [
    "**Example 2** enters the else-statement: "
   ]
  },
  {
   "cell_type": "code",
   "execution_count": 48,
   "metadata": {},
   "outputs": [
    {
     "name": "stdout",
     "output_type": "stream",
     "text": [
      "The input array is: \n",
      " [3 5]\n",
      "The starting indices for the part to be replicated is: \n",
      " [3]\n",
      "The starting indices for replication is: \n",
      " [ 3  7 10]\n"
     ]
    }
   ],
   "source": [
    "input_vec = np.array([3, 5])\n",
    "input_start = np.array([3])\n",
    "input_all_starts = np.array([3, 7, 10])\n",
    "\n",
    "print(\"The input array is: \\n\", input_vec)\n",
    "print(\"The starting indices for the part to be replicated is: \\n\", input_start)\n",
    "print(\"The starting indices for replication is: \\n\", input_all_starts)"
   ]
  },
  {
   "cell_type": "code",
   "execution_count": 49,
   "metadata": {},
   "outputs": [
    {
     "name": "stdout",
     "output_type": "stream",
     "text": [
      "The starting indices of the replicated repeats is: \n",
      " [[ 3  7 10]\n",
      " [ 5  9 12]]\n",
      "The lengths of the replicated parts is: \n",
      " [[1]\n",
      " [1]]\n"
     ]
    }
   ],
   "source": [
    "output = __num_of_parts(input_vec,input_start,input_all_starts)\n",
    "print(\"The starting indices of the replicated repeats is: \\n\", output[0])\n",
    "print(\"The lengths of the replicated parts is: \\n\", output[1])"
   ]
  },
  {
   "cell_type": "markdown",
   "metadata": {},
   "source": [
    "## \\_\\_inds_to_rows\n",
    "\n",
    "This function expands a vector containing the starting indices of a piece or two of a repeat into a matrix representation recording when these pieces occur in the song with 1's. All remaining entries are marked with 0's.\n",
    "\n",
    "The inputs for this function are: \n",
    "\n",
    "- **start_mat** (np.ndarray): A matrix of one or two rows, containing the starting indices            \n",
    "- **row_length** (int): length of the rows\n",
    "\n",
    "The output for this function is: \n",
    "\n",
    "- **new_mat** (np.ndarray): A matrix of one or two rows, with 1's where the starting indices are and 0's otherwise "
   ]
  },
  {
   "cell_type": "code",
   "execution_count": 50,
   "metadata": {},
   "outputs": [
    {
     "name": "stdout",
     "output_type": "stream",
     "text": [
      "The array containing the starting indices is: \n",
      " [0 1 6 7]\n",
      "The length of the rows is:  10\n"
     ]
    }
   ],
   "source": [
    "start_mat = np.array([0, 1, 6, 7])\n",
    "row_length = 10\n",
    "\n",
    "print(\"The array containing the starting indices is: \\n\",start_mat)\n",
    "print(\"The length of the rows is: \", row_length)"
   ]
  },
  {
   "cell_type": "code",
   "execution_count": 51,
   "metadata": {},
   "outputs": [
    {
     "name": "stdout",
     "output_type": "stream",
     "text": [
      "The output array is: \n",
      " [[1 1 0 0 0 0 1 1 0 0]]\n"
     ]
    }
   ],
   "source": [
    "output = __inds_to_rows(start_mat, row_length)\n",
    "\n",
    "print(\"The output array is: \\n\", output)"
   ]
  },
  {
   "cell_type": "markdown",
   "metadata": {},
   "source": [
    "## compare_and_cut\n",
    "\n",
    "This function compares two rows of repeats labeled RED and BLUE, and determines if there are any overlaps in time between them, calling these repeats PURPLE. \n",
    "\n",
    "<img src=\"pictures/Red1Blue1Purple1.png\" alt=\"Chart\" style=\"width:800px;\" align = \"middle\"/>\n",
    "\n",
    "If there are overlaps between RED and BLUE, then it cuts the repeats in RED and BLUE into 3 pieces. This function first determines if there is any intersection between the rows. If there is, it then starts comparing one repeat in RED to one repeat in BLUE. \n",
    "\n",
    "With the intersection of the two repeats, PURPLE, `__num_of_parts_` determines the starting indices and lengths of the overlap section. Then using these new starting indices and lengths a binary matrix is created with 1's where repeats start and 0's otherwise. After we have the new matrices, we call `merge_based_on_length` to merge repeats that are the same length.\n",
    "\n",
    "<img src=\"pictures/Red2Blue2Purple2.png\" alt=\"Chart\" style=\"width:800px;\" align = \"middle\"/>\n",
    "\n",
    "\n",
    "If the merged results have repeats within a row, we will call `compare_and_cut` again on the row with overlapping repeats. In this case, PURPLE still have overlaps. When `compare_and_cut` is called on PURPLE, the output is:\n",
    "\n",
    "\n",
    "<img src=\"pictures/Red3Blue3Purple3.png\" alt=\"Chart\" style=\"width:800px;\" align = \"middle\"/>\n",
    "\n",
    "After `merge_based_on_length` is called on these three rows, the output is:\n",
    "\n",
    "<img src=\"pictures/Purple4.png\" alt=\"Chart\" style=\"width:800px;\" align = \"middle\"/>\n",
    "\n",
    "Now, this merged row is appended to the original cut RED and BLUE, and the PURPLE that had been cut is deleted. This finally outputs:\n",
    "\n",
    "<img src=\"pictures/Red2Blue2Purple4.png\" alt=\"Chart\" style=\"width:800px;\" align = \"middle\"/>\n",
    "\n",
    "The inputs for this function are: \n",
    "\n",
    "- **red** (np.ndarray): A binary row vector encoding a set of repeats with 1's where each repeat starts and 0's otherwise \n",
    "- **red_len** (np.ndarray): length of repeats encoded in _red_\n",
    "- **blue** (np.ndarray): A binary row vector encoding a set of repeats with 1's where each repeat starts and 0's otherwise\n",
    "- **blue_len** (np.ndarray): length of repeats encoded in _blue_ \n",
    "\n",
    "The outputs for this function are: \n",
    "\n",
    "- **union_mat** (np.ndarray): A binary matrix representation of up to three rows encoding non-overlapping repeats cut from _red_ and _blue_\n",
    "- **union_length** (np.ndarray): A vector containing the lengths of the repeats encoded in _union\\_mat_"
   ]
  },
  {
   "cell_type": "code",
   "execution_count": 52,
   "metadata": {},
   "outputs": [
    {
     "name": "stdout",
     "output_type": "stream",
     "text": [
      "The first set of repeat is: \n",
      " [1 0 1 0 0 0 0 0 0 0 0 1 0 0 0 0 0 0 0 0]\n",
      "The length of the first set of repeat is: \n",
      " [5]\n",
      "The second set of repeat is: \n",
      " [1 1 0 0 0 0 1 0 0 0 1 0 0 0 1 0 0 0 0 0]\n",
      "The length of the second set of repeat is: \n",
      " [3]\n"
     ]
    }
   ],
   "source": [
    "red = np.array([1, 0, 1, 0, 0, 0, 0, 0, 0, 0, 0, 1, 0, 0, 0, 0, 0, 0, 0, 0])\n",
    "red_len = np.array([5])\n",
    "blue = np.array([1, 1, 0, 0, 0, 0, 1, 0, 0, 0, 1, 0, 0, 0, 1, 0, 0, 0, 0, 0])\n",
    "blue_len = np.array([3])\n",
    "\n",
    "print(\"The first set of repeat is: \\n\", red)\n",
    "print(\"The length of the first set of repeat is: \\n\", red_len)\n",
    "print(\"The second set of repeat is: \\n\", blue)\n",
    "print(\"The length of the second set of repeat is: \\n\", blue_len)"
   ]
  },
  {
   "cell_type": "code",
   "execution_count": 53,
   "metadata": {},
   "outputs": [
    {
     "name": "stdout",
     "output_type": "stream",
     "text": [
      "The output array containing the non-overlapping repeats are: \n",
      " [[1 1 1 1 1 0 1 0 1 0 1 1 1 1 1 0 1 0 0 0]\n",
      " [1 1 1 1 1 0 1 1 1 0 1 1 1 1 1 1 1 0 0 0]\n",
      " [0 0 0 1 0 1 0 0 0 0 0 0 0 0 1 0 0 0 0 0]]\n",
      "The array containing the lengths of repeats are: \n",
      " [[1]\n",
      " [1]\n",
      " [2]]\n"
     ]
    }
   ],
   "source": [
    "output = __compare_and_cut(red, red_len, blue, blue_len)\n",
    "\n",
    "print(\"The output array containing the non-overlapping repeats are: \\n\",output[0])\n",
    "print(\"The array containing the lengths of repeats are: \\n\", output[1])"
   ]
  },
  {
   "cell_type": "markdown",
   "metadata": {},
   "source": [
    "##  \\_\\_merge_based_on_length\n",
    "\n",
    "This function merges repeats that are the same length, as set by _full\\_bw_, and are repeats of the same piece of structure. In the merging process, if there are rows that have at least one common repeat, the function will call _merge\\_rows to actually merge them.\n",
    "\n",
    "The inputs of this function are: \n",
    "\n",
    "- **full_mat** (np.ndarray): A binary matrix with 1's where repeats start and 0's otherwise\n",
    "- **full_bw** (np.ndarray): The length of repeats encoded in _input_\\__mat_\n",
    "- **target_bw** (np.ndarray): The length of repeats that we seek to merge\n",
    "\n",
    "The outputs of this function are: \n",
    "\n",
    "- **out_mat** (np.ndarray): A binary matrix with 1's where repeats start and 0's otherwise with rows of _full\\_mat_ merged if appropriate\n",
    "- **one_length_vec** (np.ndarray): The length of the repeats encoded in _out\\_mat_"
   ]
  },
  {
   "cell_type": "code",
   "execution_count": 39,
   "metadata": {},
   "outputs": [
    {
     "name": "stdout",
     "output_type": "stream",
     "text": [
      "The input array is: \n",
      " [[0 0 0 1 0 1 0 0 0 0 0 0 0 0 1 0 0 0 0 0]\n",
      " [1 1 1 0 0 0 1 0 0 0 1 1 0 0 1 0 0 0 0 0]]\n",
      "The length of repeats in input array is: \n",
      " [[2]\n",
      " [2]]\n",
      "The length of repeats we seek to merge is: \n",
      " [[2]\n",
      " [2]]\n"
     ]
    }
   ],
   "source": [
    "full_mat = np.array([[0, 0, 0, 1, 0, 1, 0, 0, 0, 0, 0, 0, 0, 0, 1, 0, 0, 0, 0, 0],\n",
    "                     [1, 1, 1, 0, 0, 0, 1, 0, 0, 0, 1, 1, 0, 0, 1, 0, 0, 0, 0, 0]])\n",
    "full_bw = np.array([[2],\n",
    "                    [2]])\n",
    "target_bw = np.array([[2],\n",
    "                      [2]])\n",
    "print(\"The input array is: \\n\", full_mat)\n",
    "print(\"The length of repeats in input array is: \\n\", full_bw)\n",
    "print(\"The length of repeats we seek to merge is: \\n\",target_bw)"
   ]
  },
  {
   "cell_type": "code",
   "execution_count": 40,
   "metadata": {},
   "outputs": [
    {
     "name": "stdout",
     "output_type": "stream",
     "text": [
      "The merged array is: \n",
      " [[1 1 1 1 1 1 1 1 0 0 1 1 1 0 1 1 0 0 0 0]]\n",
      "The length of repeats in the output array is: \n",
      " [2]\n"
     ]
    }
   ],
   "source": [
    "output = __merge_based_on_length(full_mat,full_bw,target_bw)\n",
    "\n",
    "print(\"The merged array is: \\n\", output[0])\n",
    "print(\"The length of repeats in the output array is: \\n\", output[1])"
   ]
  },
  {
   "cell_type": "markdown",
   "metadata": {},
   "source": [
    "##  \\_\\_merge_rows\n",
    "\n",
    "This function merges rows that have at least one common repeat; said common repeat(s) must occur at the same timestep and be of common length. In a while loop, the function checks all the unchecked rows one-by-one, finds indices of the unmerged overlapping rows, unite rows with starting indices in common, and checks that newly merged rows do not cause overlaps within row. If there are conflicts, `compare_and_cut` is called. When there are no unchecked rows, it quits the function and finally returns the merged matrix.\n",
    "\n",
    "The inputs for this function are: \n",
    "\n",
    "- **input_mat** (np.ndarray): A binary matrix with 1's where repeats start and 0's otherwise\n",
    "- **input_width** (np.ndarray): The length of repeats encoded in _input\\_mat_\n",
    "\n",
    "The output for this function is: \n",
    "\n",
    "- **merge_mat** (np.ndarray): A binary matrix with 1's where repeats start and 0's otherwise"
   ]
  },
  {
   "cell_type": "code",
   "execution_count": 42,
   "metadata": {},
   "outputs": [
    {
     "name": "stdout",
     "output_type": "stream",
     "text": [
      "The input array is: \n",
      " [[0 0 1 1 1 0 0 0 1 0 0 0 1 1 0 0 1 0 0 0]\n",
      " [1 1 1 0 0 0 1 0 0 0 1 1 0 0 1 0 0 0 0 0]]\n",
      "The length of repeats in the input array is: \n",
      " [1]\n"
     ]
    }
   ],
   "source": [
    "input_mat = np.array([[0, 0, 1, 1, 1, 0, 0, 0, 1, 0, 0, 0, 1, 1, 0, 0, 1, 0, 0, 0],\n",
    "                      [1, 1, 1, 0, 0, 0, 1, 0, 0, 0, 1, 1, 0, 0, 1, 0, 0, 0, 0, 0]])\n",
    "input_width = np.array([1])\n",
    "\n",
    "print(\"The input array is: \\n\", input_mat)\n",
    "print(\"The length of repeats in the input array is: \\n\", input_width)"
   ]
  },
  {
   "cell_type": "code",
   "execution_count": 43,
   "metadata": {},
   "outputs": [
    {
     "name": "stdout",
     "output_type": "stream",
     "text": [
      "The merged array is: \n",
      " [[1 1 1 1 1 0 1 0 1 0 1 1 1 1 1 0 1 0 0 0]]\n"
     ]
    }
   ],
   "source": [
    "output = __merge_rows(input_mat,input_width)\n",
    "\n",
    "print(\"The merged array is: \\n\", output )"
   ]
  }
 ],
 "metadata": {
  "kernelspec": {
   "display_name": "Python 3",
   "language": "python",
   "name": "python3"
  },
  "language_info": {
   "codemirror_mode": {
    "name": "ipython",
    "version": 3
   },
   "file_extension": ".py",
   "mimetype": "text/x-python",
   "name": "python",
   "nbconvert_exporter": "python",
   "pygments_lexer": "ipython3",
   "version": "3.9.2"
  }
 },
 "nbformat": 4,
 "nbformat_minor": 4
}