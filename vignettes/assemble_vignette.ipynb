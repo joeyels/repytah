{
 "cells": [
  {
   "cell_type": "markdown",
   "metadata": {},
   "source": [
    "# Assemble"
   ]
  },
  {
   "cell_type": "markdown",
   "metadata": {},
   "source": [
    "This journal runs examples for the following functions:\n",
    "1. **breakup_overlaps_by_intersect** : Extract repeats in input_patter_obj that \n",
    "    has the starting indices of the repeats, into the essential structure \n",
    "    componets using bw_vec, that has the lengths of each repeat.\n",
    "    \n",
    "2. **check_overlaps**: Compares every pair of groups, determining if there are\n",
    "    any repeats in any repeats in any pairs of the groups that overlap. \n",
    "\n",
    "3. **__num_of_parts** : Determine the number of blocks of consecutive time \n",
    "    steps in a list of time steps. A block of consecutive time steps represent \n",
    "    a distilled section of a repeat.    \n",
    "4. **__inds_to_rows** :  Expands a vector containing the starting indices of a \n",
    "    piece or two of a repeat into a matrix representation recording when these\n",
    "    pieces occur in the song with 1's. All remaining entries are marked with \n",
    "    0's.\n",
    "5. **_compare_and_cut** : Compares two rows of repeats labeled RED and BLUE, and\n",
    "    determines if there are any overlaps in time between them. If there is, \n",
    "    then we cut the repeats in RED and BLUE into up to 3 pieces. \n",
    "6. **merge_based_on_length** : Merges repeats that are the same length, as set \n",
    "    by full_bandwidth, and are repeats of the same piece of structure\n",
    "7. **_merge_rows** : Merges rows that have at least one common repeat; said \n",
    "    common repeat(s) must occur at the same time step and be of common length\n",
    "8. **hierarchical_structure** : Distills the repeats encoded in MATRIX_NO \n",
    "    (and KEY_NO) to the essential structure components and then builds the \n",
    "    hierarchical representation\n",
    "\n",
    "### The pipeline in assemble module\n",
    "<img src=\"assemble_color_sample.png\" alt=\"Chart\" style=\"width:150px;\" align = \"left\"/>\n",
    "<img src=\"assemble_pipeline.png\" alt=\"Chart\" style=\"width:340px;\" align = \"middle\"/>\n"
   ]
  },
  {
   "cell_type": "markdown",
   "metadata": {},
   "source": [
    "## Import Modules"
   ]
  },
  {
   "cell_type": "code",
   "execution_count": 2,
   "metadata": {},
   "outputs": [],
   "source": [
    "import numpy as np\n",
    "import assemble\n",
    "from inspect import signature \n",
    "from search import find_all_repeats\n",
    "from utilities import reconstruct_full_block"
   ]
  },
  {
   "cell_type": "markdown",
   "metadata": {},
   "source": [
    "## 1. breakup_overlaps_by_intersect \n",
    "\n",
    "### About breakup_overlaps_by_intersect \n",
    "\n",
    "The purpose of this function is to create the essential structure components matrix. The essential structure components contain the smallest building blocks that form the basis for every repeat in the song. This matrix is created using an array, **input_pattern_object**, that has the starting indices of the repeats and a vector, **bw_vec**, that has the lengths of each repeats. \n",
    "\n",
    "The function also takes in a third parameter which is thresh_bw. Thresh_bw is the smallest allowable repeat length. \n",
    "\n",
    "The function includes a section where it checks how many arguments were passed by retrieving the function’s signature. If less than three arguments were passed, the thresh_bw argument is assigned to 0, otherwise thresh_bw is untouched. "
   ]
  },
  {
   "cell_type": "markdown",
   "metadata": {},
   "source": [
    "### Arguments\n",
    "- input_pattern_obj: A binary matrix with 1's where repeats begin and 0's otherwise\n",
    "-  bw_vec: A vector containing the lengths of the repeats encoded in input_pattern_obj\n",
    "- thresh_bw: A number showing the smallest allowable repeat length "
   ]
  },
  {
   "cell_type": "markdown",
   "metadata": {},
   "source": [
    "### Returns\n",
    "- pattern_no_overlaps: A binary matrix with 1's where repeats of essential structure components begin \n",
    "- pattern_no_overlaps_key: A vector containing the lengths of the repeats of essential structure components in pattern_no_overlaps "
   ]
  },
  {
   "cell_type": "markdown",
   "metadata": {},
   "source": [
    "### Example"
   ]
  },
  {
   "cell_type": "markdown",
   "metadata": {},
   "source": [
    "#### Input"
   ]
  },
  {
   "cell_type": "code",
   "execution_count": 6,
   "metadata": {},
   "outputs": [
    {
     "name": "stdout",
     "output_type": "stream",
     "text": [
      "The input array is: \n",
      " [[1 0 0 0 0 0 0 0 1 0 0 0 0 0 0 0 1 0 0]\n",
      " [0 0 0 1 0 0 0 0 0 0 0 1 0 0 0 0 0 0 0]\n",
      " [1 0 0 0 0 0 0 0 1 0 0 0 0 0 0 0 0 0 0]\n",
      " [0 0 0 1 0 0 0 0 0 0 0 1 0 0 0 0 0 0 0]]\n",
      "The lengths of the repeats in the input array is: \n",
      " [[3]\n",
      " [5]\n",
      " [8]\n",
      " [8]]\n",
      "The smallest allowable repeat length is:  0\n"
     ]
    }
   ],
   "source": [
    "input_pattern_obj = np.array([[1, 0, 0, 0, 0, 0, 0, 0, 1, 0, 0, 0, 0, 0, 0, 0, 1, 0, 0 ],\n",
    "                              [0, 0, 0, 1, 0, 0, 0, 0, 0, 0, 0, 1, 0, 0, 0, 0, 0, 0, 0 ],\n",
    "                              [1, 0, 0, 0, 0, 0, 0, 0, 1, 0, 0, 0, 0, 0, 0, 0, 0, 0, 0 ],\n",
    "                              [0, 0, 0, 1, 0, 0, 0, 0, 0, 0, 0, 1, 0, 0, 0, 0, 0, 0, 0 ]])\n",
    "bw_vec = np.array([[3],\n",
    "                   [5],\n",
    "                   [8],\n",
    "                   [8]])\n",
    "thresh_bw = 0\n",
    "print(\"The input array is: \\n\", input_pattern_obj)\n",
    "print(\"The lengths of the repeats in the input array is: \\n\", bw_vec)\n",
    "print(\"The smallest allowable repeat length is: \", thresh_bw)"
   ]
  },
  {
   "cell_type": "markdown",
   "metadata": {},
   "source": [
    "#### Output"
   ]
  },
  {
   "cell_type": "code",
   "execution_count": 7,
   "metadata": {},
   "outputs": [
    {
     "name": "stdout",
     "output_type": "stream",
     "text": [
      "The output array is: \n",
      " [[1 0 0 0 0 0 0 0 1 0 0 0 0 0 0 0 1 0 0]\n",
      " [0 0 0 1 0 0 0 0 0 0 0 1 0 0 0 0 0 0 0]]\n",
      "The lengths of the repeats in the output array is: \n",
      " [[3]\n",
      " [5]]\n"
     ]
    }
   ],
   "source": [
    "output = assemble.breakup_overlaps_by_intersect(input_pattern_obj, bw_vec, thresh_bw)\n",
    "print(\"The output array is: \\n\", output[0])\n",
    "print(\"The lengths of the repeats in the output array is: \\n\", output[1])"
   ]
  },
  {
   "cell_type": "markdown",
   "metadata": {},
   "source": [
    "## 2. check_overlaps\n",
    "### About check_overlaps:"
   ]
  },
  {
   "cell_type": "markdown",
   "metadata": {},
   "source": [
    "This function compares every pair of groups and checks for overlaps between those pairs.To check every pair of groups, the function creates compare_left and compare_right. Compare_left repeats each row the number of rows times, and compare_rignt repeats the whole input the number of rows times times. By comparing each corresponding time step in compare_left and compare_right, it determines if there are any overlaps between groups."
   ]
  },
  {
   "cell_type": "markdown",
   "metadata": {},
   "source": [
    "### Arguments"
   ]
  },
  {
   "cell_type": "markdown",
   "metadata": {},
   "source": [
    "- input_mat: An array waiting to be checked for overlaps"
   ]
  },
  {
   "cell_type": "markdown",
   "metadata": {},
   "source": [
    "### Returns"
   ]
  },
  {
   "cell_type": "markdown",
   "metadata": {},
   "source": [
    "- overlaps_yn: A logical array where (i,j) = 1 if row i of input matrix and row j of input matrix overlap and (i,j) = 0 elsewhere"
   ]
  },
  {
   "cell_type": "markdown",
   "metadata": {},
   "source": [
    "### Example"
   ]
  },
  {
   "cell_type": "code",
   "execution_count": 9,
   "metadata": {},
   "outputs": [
    {
     "name": "stdout",
     "output_type": "stream",
     "text": [
      "The input array waiting to be checked for overlaps is: \n",
      " [[0 0 0 1 1 1 1 1 1 1 1 1 1 1 1 1 1 1 1]\n",
      " [1 1 1 1 1 1 1 1 1 1 1 1 1 1 1 1 0 0 0]\n",
      " [0 0 0 1 1 1 1 1 0 0 0 1 1 1 1 1 0 0 0]\n",
      " [1 1 1 0 0 0 0 0 1 1 1 0 0 0 0 0 1 1 1]]\n"
     ]
    }
   ],
   "source": [
    "input_mat = np.array([[0,0,0,1,1,1,1,1,1,1,1,1,1,1,1,1,1,1,1],\n",
    " [1,1,1,1,1,1,1,1,1,1,1,1,1,1,1,1,0,0,0],\n",
    " [0,0,0,1,1,1,1,1,0,0,0,1,1,1,1,1,0,0,0],\n",
    " [1,1,1,0,0,0,0,0,1,1,1,0,0,0,0,0,1,1,1]])\n",
    "print(\"The input array waiting to be checked for overlaps is: \\n\", input_mat)"
   ]
  },
  {
   "cell_type": "code",
   "execution_count": 10,
   "metadata": {},
   "outputs": [
    {
     "name": "stdout",
     "output_type": "stream",
     "text": [
      "The output logical array is: \n",
      " [[False  True  True  True]\n",
      " [False False  True  True]\n",
      " [False False False False]\n",
      " [False False False False]]\n"
     ]
    }
   ],
   "source": [
    "output = assemble.check_overlaps(input_mat)\n",
    "print(\"The output logical array is: \\n\", output)"
   ]
  },
  {
   "cell_type": "markdown",
   "metadata": {},
   "source": [
    "## 3. __num_of_parts"
   ]
  },
  {
   "cell_type": "markdown",
   "metadata": {},
   "source": [
    "### About __num_of_parts"
   ]
  },
  {
   "cell_type": "markdown",
   "metadata": {},
   "source": [
    "This function is used to determine the number of blocks of consecutive time steps in a list of time steps. A block of consecutive time steps\n",
    "represent a distilled section of a repeat. This distilled section will be replicated and the starting indices of the repeats within it will be \n",
    "returned. At the beginning of this function, it uses variable breakmark to check if input_vec contains a whole group of consecutive time steps or two groups of consecutive time steps. Then these two conditions go into the if-else statement separately and returns the moved starting indices and the corresponding lengths.\n",
    "\n",
    "<img src=\"num_of_parts.png\" alt=\"Chart\" style=\"width:800px;\" align = \"middle\"/>\n",
    "\n",
    "As the above pictures shows, red and blue are two repeats, and purple is their intersection. Now we want to know the starting indices and length of the remaining part after cutting purple out of all of the repeats in red. Case a and b will go into if statement and c will go into else statement because we can see how many parts in input_vec in the picture clearly."
   ]
  },
  {
   "cell_type": "markdown",
   "metadata": {},
   "source": [
    "### Arguments"
   ]
  },
  {
   "cell_type": "markdown",
   "metadata": {},
   "source": [
    "- input_vec: An array contains one or two parts of a repeat that are overlap(s) in time that may need to be replicated \n",
    "            \n",
    "- input_start: An array contains starting index for the part to be replicated \n",
    "        \n",
    "- input_all_starts: An array contains starting indices for replication "
   ]
  },
  {
   "cell_type": "markdown",
   "metadata": {},
   "source": [
    "### Returns"
   ]
  },
  {
   "cell_type": "markdown",
   "metadata": {},
   "source": [
    "- start_mat: An array of one or two rows, containing the starting indices of the replicated repeats \n",
    "            \n",
    "- length_vec: A column vector containing the lengths of the replicated parts "
   ]
  },
  {
   "cell_type": "markdown",
   "metadata": {},
   "source": [
    "### Examples"
   ]
  },
  {
   "cell_type": "markdown",
   "metadata": {},
   "source": [
    "**Input 1** which goes into the if statement: "
   ]
  },
  {
   "cell_type": "code",
   "execution_count": 12,
   "metadata": {},
   "outputs": [
    {
     "name": "stdout",
     "output_type": "stream",
     "text": [
      "The input array is: \n",
      " [3 4]\n",
      "The starting indices for the part to be replicated is: \n",
      " [0]\n",
      "The starting indices for replication is: \n",
      " [ 3  7 10]\n"
     ]
    }
   ],
   "source": [
    "input_vec = np.array([3,4])\n",
    "input_start = np.array([0])\n",
    "input_all_starts = np.array([3,7,10])\n",
    "print(\"The input array is: \\n\", input_vec)\n",
    "print(\"The starting indices for the part to be replicated is: \\n\", input_start)\n",
    "print(\"The starting indices for replication is: \\n\", input_all_starts)"
   ]
  },
  {
   "cell_type": "markdown",
   "metadata": {},
   "source": [
    "**Output 1**"
   ]
  },
  {
   "cell_type": "code",
   "execution_count": 13,
   "metadata": {},
   "outputs": [
    {
     "name": "stdout",
     "output_type": "stream",
     "text": [
      "The starting indices of the replicated repeats is: \n",
      " [ 6 10 13]\n",
      "The lengths of the replicated parts is:  2\n"
     ]
    }
   ],
   "source": [
    "output = assemble.__num_of_parts(input_vec,input_start,input_all_starts)\n",
    "print(\"The starting indices of the replicated repeats is: \\n\", output[0])\n",
    "print(\"The lengths of the replicated parts is: \", output[1])"
   ]
  },
  {
   "cell_type": "markdown",
   "metadata": {},
   "source": [
    "**Input 2** which goes into the else statement: "
   ]
  },
  {
   "cell_type": "code",
   "execution_count": 14,
   "metadata": {},
   "outputs": [
    {
     "name": "stdout",
     "output_type": "stream",
     "text": [
      "The input array is: \n",
      " [3 5]\n",
      "The starting indices for the part to be replicated is: \n",
      " [3]\n",
      "The starting indices for replication is: \n",
      " [ 3  7 10]\n"
     ]
    }
   ],
   "source": [
    "input_vec = np.array([3,5])\n",
    "input_start = np.array([3])\n",
    "input_all_starts = np.array([3,7,10])\n",
    "print(\"The input array is: \\n\", input_vec)\n",
    "print(\"The starting indices for the part to be replicated is: \\n\", input_start)\n",
    "print(\"The starting indices for replication is: \\n\", input_all_starts)"
   ]
  },
  {
   "cell_type": "markdown",
   "metadata": {},
   "source": [
    "**Output 2**"
   ]
  },
  {
   "cell_type": "code",
   "execution_count": 15,
   "metadata": {},
   "outputs": [
    {
     "name": "stdout",
     "output_type": "stream",
     "text": [
      "The starting indices of the replicated repeats is: \n",
      " [[ 3  7 10]\n",
      " [ 5  9 12]]\n",
      "The lengths of the replicated parts is: \n",
      " [[1]\n",
      " [1]]\n"
     ]
    }
   ],
   "source": [
    "output = assemble.__num_of_parts(input_vec,input_start,input_all_starts)\n",
    "print(\"The starting indices of the replicated repeats is: \\n\", output[0])\n",
    "print(\"The lengths of the replicated parts is: \\n\", output[1])"
   ]
  },
  {
   "cell_type": "markdown",
   "metadata": {},
   "source": [
    "## 4. __inds_to_rows"
   ]
  },
  {
   "cell_type": "markdown",
   "metadata": {},
   "source": [
    "### About __inds_to_rows"
   ]
  },
  {
   "cell_type": "markdown",
   "metadata": {},
   "source": [
    "This function expands a vector containing the starting indices of a piece or two of a repeat into a matrix representation recording when these pieces occur in the song with 1's. All remaining entries are marked with 0's. "
   ]
  },
  {
   "cell_type": "markdown",
   "metadata": {},
   "source": [
    "### Arguments"
   ]
  },
  {
   "cell_type": "markdown",
   "metadata": {},
   "source": [
    "- start_mat: A matrix of one or two rows, containing the starting indices \n",
    "            \n",
    "- row_length: length of the rows, an integer"
   ]
  },
  {
   "cell_type": "markdown",
   "metadata": {},
   "source": [
    "### Returns"
   ]
  },
  {
   "cell_type": "markdown",
   "metadata": {},
   "source": [
    "- new_mat: A matrix of one or two rows, with 1's where the starting indices and 0's otherwise "
   ]
  },
  {
   "cell_type": "markdown",
   "metadata": {},
   "source": [
    "### Examples"
   ]
  },
  {
   "cell_type": "markdown",
   "metadata": {},
   "source": [
    "#### Input "
   ]
  },
  {
   "cell_type": "code",
   "execution_count": 16,
   "metadata": {},
   "outputs": [
    {
     "name": "stdout",
     "output_type": "stream",
     "text": [
      "The array containing the starting indices is: \n",
      " [0 1 6 7]\n",
      "The length of the rows is:  10\n"
     ]
    }
   ],
   "source": [
    "start_mat = np.array([0,1,6,7])\n",
    "row_length = 10\n",
    "print(\"The array containing the starting indices is: \\n\",start_mat)\n",
    "print(\"The length of the rows is: \", row_length)"
   ]
  },
  {
   "cell_type": "markdown",
   "metadata": {},
   "source": [
    "#### Output"
   ]
  },
  {
   "cell_type": "code",
   "execution_count": 17,
   "metadata": {},
   "outputs": [
    {
     "name": "stdout",
     "output_type": "stream",
     "text": [
      "The output array is: \n",
      " [[1 1 0 0 0 0 1 1 0 0]]\n"
     ]
    }
   ],
   "source": [
    "output = assemble.__inds_to_rows(start_mat, row_length)\n",
    "print(\"The output array is: \\n\", output)"
   ]
  },
  {
   "cell_type": "markdown",
   "metadata": {},
   "source": [
    "## 5. compare_and_cut"
   ]
  },
  {
   "cell_type": "markdown",
   "metadata": {},
   "source": [
    "### About compare_and_cut"
   ]
  },
  {
   "cell_type": "markdown",
   "metadata": {},
   "source": [
    "This function compares two rows of repeats labeled RED and BLUE, and determines if there are any overlaps in time between them, calling the repeats PURPLE. \n",
    "\n",
    "<img src=\"Red1Blue1Purple1.png\" alt=\"Chart\" style=\"width:800px;\" align = \"middle\"/>\n",
    "\n",
    "If there is, then it cuts the repeats in RED and BLUE into up to 3 pieces. This function first determines if there is any intersection between the rows, if there is, then it starts comparing one repeat in red to one repeat in blue. \n",
    "\n",
    "\n",
    "\n",
    "By using the intersection of two repeats(purple) and the function \\__num_of_parts, we will know the new starting indices and its length. Then calling \\__num_of_inds changes these new starting indices and lengths to binary matrixes with ones where repeats start and zeros otherwise. After we have the new matrixes, we call merge_based_on_length to merge repeats that are the same length.\n",
    "\n",
    "<img src=\"Red2Blue2Purple2.png\" alt=\"Chart\" style=\"width:800px;\" align = \"middle\"/>\n",
    "\n",
    "\n",
    "If the merged results have repeats within a row, we will call compare_and_cut again on the row with overlapping repeats. In this case, PURPLE still have overlaps. When compare_and_cut is called on PURPLE, the output is:\n",
    "\n",
    "\n",
    "<img src=\"Red3Blue3Purple3.png\" alt=\"Chart\" style=\"width:800px;\" align = \"middle\"/>\n",
    "\n",
    "After merge_based_on_length is called on these three rows, the output is:\n",
    "\n",
    "<img src=\"Purple4.png\" alt=\"Chart\" style=\"width:800px;\" align = \"middle\"/>\n",
    "\n",
    "Now, this merged row is appended to the original cut red and blue, and the purple that had been cut is deleted. This finally outputs:\n",
    "\n",
    "<img src=\"Red2Blue2Purple4.png\" alt=\"Chart\" style=\"width:800px;\" align = \"middle\"/>\n",
    "\n",
    "\n"
   ]
  },
  {
   "cell_type": "markdown",
   "metadata": {},
   "source": [
    "### Arguments"
   ]
  },
  {
   "cell_type": "markdown",
   "metadata": {},
   "source": [
    "- red: A binary row vector encoding a set of repeats with 1's where each repeat starts and 0's otherwise \n",
    "            \n",
    "- red_len: The length of repeats encoded in red \n",
    "            \n",
    "- blue: A binary row vector encoding a set of repeats with 1's where each repeat starts and 0's otherwise \n",
    "            \n",
    "- blue_len: The length of repeats encoded in blue "
   ]
  },
  {
   "cell_type": "markdown",
   "metadata": {},
   "source": [
    "### Returns"
   ]
  },
  {
   "cell_type": "markdown",
   "metadata": {},
   "source": [
    "- union_mat: A binary matrix representation of up to three rows encoding non-overlapping repeats cut from red and blue\n",
    "- union_length: A vector containing the lengths of the repeats encoded in union_mat"
   ]
  },
  {
   "cell_type": "markdown",
   "metadata": {},
   "source": [
    "### Examples"
   ]
  },
  {
   "cell_type": "markdown",
   "metadata": {},
   "source": [
    "#### Input"
   ]
  },
  {
   "cell_type": "code",
   "execution_count": 18,
   "metadata": {},
   "outputs": [
    {
     "name": "stdout",
     "output_type": "stream",
     "text": [
      "The first set of repeat is: \n",
      " [1 0 1 0 0 0 0 0 0 0 0 1 0 0 0 0 0 0 0 0]\n",
      "The length of the first set of repeat is: \n",
      " [5]\n",
      "The second set of repeat is: \n",
      " [1 1 0 0 0 0 1 0 0 0 1 0 0 0 1 0 0 0 0 0]\n",
      "The length of the second set of repeat is: \n",
      " [3]\n"
     ]
    }
   ],
   "source": [
    "red = np.array([1,0,1,0,0,0,0,0,0,0,0,1,0,0,0,0,0,0,0,0])\n",
    "red_len = np.array([5])\n",
    "blue = np.array([1,1,0,0,0,0,1,0,0,0,1,0,0,0,1,0,0,0,0,0])\n",
    "blue_len = np.array([3])\n",
    "print(\"The first set of repeat is: \\n\", red)\n",
    "print(\"The length of the first set of repeat is: \\n\", red_len)\n",
    "print(\"The second set of repeat is: \\n\",blue)\n",
    "print(\"The length of the second set of repeat is: \\n\", blue_len)"
   ]
  },
  {
   "cell_type": "markdown",
   "metadata": {},
   "source": [
    "#### Output"
   ]
  },
  {
   "cell_type": "code",
   "execution_count": 19,
   "metadata": {},
   "outputs": [
    {
     "name": "stdout",
     "output_type": "stream",
     "text": [
      "The output array containing the non-overlapping repeats is: \n",
      " [[1 1 1 1 1 0 1 0 1 0 1 1 1 1 1 0 1 0 0 0]\n",
      " [1 1 1 1 1 0 1 1 1 0 1 1 1 1 1 1 1 0 0 0]\n",
      " [0 0 0 1 0 1 0 0 0 0 0 0 0 0 1 0 0 0 0 0]]\n",
      "The array containing the lengths of repeats is: \n",
      " [[1]\n",
      " [1]\n",
      " [2]]\n"
     ]
    }
   ],
   "source": [
    "output = assemble.__compare_and_cut(red, red_len, blue, blue_len)\n",
    "print(\"The output array containing the non-overlapping repeats is: \\n\",output[0])\n",
    "print(\"The array containing the lengths of repeats is: \\n\", output[1])"
   ]
  },
  {
   "cell_type": "markdown",
   "metadata": {},
   "source": [
    "## 6. _merge_based_on_length"
   ]
  },
  {
   "cell_type": "markdown",
   "metadata": {},
   "source": [
    "### About _merge_based_on_length"
   ]
  },
  {
   "cell_type": "markdown",
   "metadata": {},
   "source": [
    "This function merges repeats that are the same length, as set by full_bandwidth, and are repeats of the same piece of structure. In the merging process, if there are rows that have at least one common repeat, the function will call _merge_rows to actually merge them."
   ]
  },
  {
   "cell_type": "markdown",
   "metadata": {},
   "source": [
    "### Arguments"
   ]
  },
  {
   "cell_type": "markdown",
   "metadata": {},
   "source": [
    "- full_mat: A binary matrix with ones where repeats start and zeroes otherwise\n",
    "        \n",
    "- full_bw: The length of repeats encoded in input_mat\n",
    "    \n",
    "- target_bw: The length of repeats that we seek to merge"
   ]
  },
  {
   "cell_type": "markdown",
   "metadata": {},
   "source": [
    "### Returns"
   ]
  },
  {
   "cell_type": "markdown",
   "metadata": {},
   "source": [
    "- out_mat: A binary matrix with ones where repeats start and zeros otherwise with rows of full_mat merged if appropriate\n",
    "        \n",
    "- one_length_vec: The length of the repeats encoded in out_mat"
   ]
  },
  {
   "cell_type": "markdown",
   "metadata": {},
   "source": [
    "### Examples"
   ]
  },
  {
   "cell_type": "markdown",
   "metadata": {},
   "source": [
    "#### Input"
   ]
  },
  {
   "cell_type": "code",
   "execution_count": 20,
   "metadata": {},
   "outputs": [
    {
     "name": "stdout",
     "output_type": "stream",
     "text": [
      "The input array is: \n",
      " [[0 0 0 1 0 1 0 0 0 0 0 0 0 0 1 0 0 0 0 0]\n",
      " [1 1 1 0 0 0 1 0 0 0 1 1 0 0 1 0 0 0 0 0]]\n",
      "The length of repeats in input array is: \n",
      " [[2]\n",
      " [2]]\n",
      "The length of repeats we seek to merge is: \n",
      " [[2]\n",
      " [2]]\n"
     ]
    }
   ],
   "source": [
    "full_mat = np.array([[0,0,0,1,0,1,0,0,0,0,0,0,0,0,1,0,0,0,0,0],[1,1,1,0,0,0,1,0,0,0,1,1,0,0,1,0,0,0,0,0]])\n",
    "full_bw = np.array([[2],[2]])\n",
    "target_bw = np.array([[2],[2]])\n",
    "print(\"The input array is: \\n\", full_mat)\n",
    "print(\"The length of repeats in input array is: \\n\", full_bw)\n",
    "print(\"The length of repeats we seek to merge is: \\n\",target_bw)"
   ]
  },
  {
   "cell_type": "markdown",
   "metadata": {},
   "source": [
    "#### Output"
   ]
  },
  {
   "cell_type": "code",
   "execution_count": 21,
   "metadata": {},
   "outputs": [
    {
     "name": "stdout",
     "output_type": "stream",
     "text": [
      "The merged array is: \n",
      " [[1 1 1 1 1 1 1 1 0 0 1 1 1 0 1 1 0 0 0 0]]\n",
      "The length of repeats in the output array is: \n",
      " [2]\n"
     ]
    }
   ],
   "source": [
    "output = assemble.__merge_based_on_length(full_mat,full_bw,target_bw)\n",
    "print(\"The merged array is: \\n\", output[0])\n",
    "print(\"The length of repeats in the output array is: \\n\", output[1])"
   ]
  },
  {
   "cell_type": "markdown",
   "metadata": {},
   "source": [
    "## 7. __merge_rows"
   ]
  },
  {
   "cell_type": "markdown",
   "metadata": {},
   "source": [
    "### About __merge_rows"
   ]
  },
  {
   "cell_type": "markdown",
   "metadata": {},
   "source": [
    "This function merges rows that have at least one common repeat; said common repeat(s) must occur at the same time step and be of common length. In a while loop, the function checks all the unchecked rows one by one, finds indices of unmerged overlapping rows, unions rows with starting indices in common, and checks that newly merged rows do not cause overlaps within row (if there are conflicts, rerun compare_and_cut. When there is no unchecked row, it quits the function and finally returns the merged matrix."
   ]
  },
  {
   "cell_type": "markdown",
   "metadata": {},
   "source": [
    "### Arguments"
   ]
  },
  {
   "cell_type": "markdown",
   "metadata": {},
   "source": [
    "- input_mat: A binary matrix with ones where repeats start and zeroes otherwise\n",
    "        \n",
    "- input_width: The length of repeats encoded in input_mat"
   ]
  },
  {
   "cell_type": "markdown",
   "metadata": {},
   "source": [
    "### Returns"
   ]
  },
  {
   "cell_type": "markdown",
   "metadata": {},
   "source": [
    "- merge_mat: A binary matrix with ones where repeats start and zeroes otherwise"
   ]
  },
  {
   "cell_type": "markdown",
   "metadata": {},
   "source": [
    "### Examples"
   ]
  },
  {
   "cell_type": "markdown",
   "metadata": {},
   "source": [
    "#### Input"
   ]
  },
  {
   "cell_type": "code",
   "execution_count": 22,
   "metadata": {},
   "outputs": [
    {
     "name": "stdout",
     "output_type": "stream",
     "text": [
      "The input array is: \n",
      " [[0 0 1 1 1 0 0 0 1 0 0 0 1 1 0 0 1 0 0 0]\n",
      " [1 1 1 0 0 0 1 0 0 0 1 1 0 0 1 0 0 0 0 0]]\n",
      "The length of repeats in the input array is: \n",
      " [1]\n"
     ]
    }
   ],
   "source": [
    "input_mat = np.array([[0,0,1,1,1,0,0,0,1,0,0,0,1,1,0,0,1,0,0,0],\n",
    " [1,1,1,0,0,0,1,0,0,0,1,1,0,0,1,0,0,0,0,0]])\n",
    "input_width = np.array([1])\n",
    "print(\"The input array is: \\n\", input_mat)\n",
    "print(\"The length of repeats in the input array is: \\n\",input_width)"
   ]
  },
  {
   "cell_type": "code",
   "execution_count": 23,
   "metadata": {},
   "outputs": [
    {
     "name": "stdout",
     "output_type": "stream",
     "text": [
      "The merged array is: \n",
      " [[1 1 1 1 1 0 1 0 1 0 1 1 1 1 1 0 1 0 0 0]]\n"
     ]
    }
   ],
   "source": [
    "output = assemble.__merge_rows(input_mat,input_width)\n",
    "print(\"The merged array is: \\n\", output )"
   ]
  }
 ],
 "metadata": {
  "kernelspec": {
   "display_name": "Python 3",
   "language": "python",
   "name": "python3"
  },
  "language_info": {
   "codemirror_mode": {
    "name": "ipython",
    "version": 3
   },
   "file_extension": ".py",
   "mimetype": "text/x-python",
   "name": "python",
   "nbconvert_exporter": "python",
   "pygments_lexer": "ipython3",
   "version": "3.7.6"
  }
 },
 "nbformat": 4,
 "nbformat_minor": 4
}
