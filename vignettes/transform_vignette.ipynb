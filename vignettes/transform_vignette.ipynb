{
 "cells": [
  {
   "cell_type": "markdown",
   "metadata": {},
   "source": [
    "# The transform module\n",
    "\n",
    "The `transform` module of the `ah` package holds functions used to 'transform' signal data into different forms.\n",
    "It includes the following functions:\n",
    "\n",
    "- **remove_overlaps**: Removes any pairs of repeats with the same length and annotation markers where at least one pair of repeats overlap in time.\n",
    "\n",
    "- **\\_\\_create_anno_remove_overlaps**: Marks rows of repeats with annotation markers for the start indices and zeroes otherwise. After removing the annotations that have overlaps, creates separate array for annotations with overlaps and annotations without overlaps. Finally, the annotation markers are checked and fixed if necessary.\n",
    "\n",
    "- **\\_\\_create_anno_rows**: Turns rows of repeats into marked rows with annotation markers for start indices and zeroes otherwise. Then checks if the correct annotation markers were given and fixes the markers if necessary.\n",
    "\n",
    "- **\\_\\_separate_anno_markers**: Expands vector of non-overlapping repeats into a matrix representation. The matrix representation is a visual record of where all of the repeats in a song start and end.\n",
    "\n",
    "\n",
    "As evidenced by the names, many of these functions overlap and perform similar tasks. In fact, all of the previous functions are called in remove_overlaps.\n",
    "\n",
    "The functions in the `ah` package are meant to be used alongside other functions in the package, so many examples use multiple functions. In the examples below, the following functions from the [`utilities`](../ah/blob/master/aligned-hierarchies/utilities.py) module are called:\n",
    "- add_annotations\n",
    "- \\_\\_find_song_pattern\n",
    "- reconstruct_full_block\n",
    "\n",
    "For more in depth information on the function calls, an example function pipeline is shown below. Functions from the current module are shown in green.\n",
    "![alt text](pictures/function_pipeline.png)"
   ]
  },
  {
   "cell_type": "markdown",
   "metadata": {},
   "source": [
    "### Importing necessary modules"
   ]
  },
  {
   "cell_type": "code",
   "execution_count": 1,
   "metadata": {},
   "outputs": [],
   "source": [
    "#used for mathematical calculations\n",
    "import numpy as np\n",
    "\n",
    "#import transform\n",
    "from transform import *\n",
    "from transform import __create_anno_rows, __create_anno_remove_overlaps, __separate_anno_markers"
   ]
  },
  {
   "cell_type": "markdown",
   "metadata": {},
   "source": [
    "## remove_overlaps\n",
    "\n",
    "Removes any pairs of repeat length and specific annotation marker where there exists at least one pair of repeats that do overlap in time.\n",
    "\n",
    "The inputs for the function are:\n",
    "- __input_mat__ (np.ndarray): A list of pairs of repeats with annotations marked. The first two columns refer to the first repeat, the second two columns refer to the second repeat, the fifth column denotes repeat length, and the last column contains the annotation markers.\n",
    "- __song_length__ (int): The number of audio shingles in the song.\n",
    "\n",
    "The outputs for the function are:\n",
    "- __list_no_overlaps__ (np.ndarray): A list of pairs of non-overlapping repeats with annotations marked. All the repeats of a given length and with a specific annotation marker do not overlap in time.\n",
    "- __matrix_no_overlaps__ (np.ndarray): A matrix representation of _list\\_no\\_overlaps_ where each row corresponds to a group of repeats.\n",
    "- __key_no_overlaps__ (np.ndarray): A vector containing the lengths of the repeats in each row of _matrix\\_no\\_overlaps_.\n",
    "- __annotations_no_overlaps__ (np.ndarray): A vector containing the annotations of the repeats in each row of _matrix\\_no\\_overlaps_.\n",
    "- __all_overlap_lst__ (np.ndarray): A list of pairs of repeats with annotations marked removed from _input\\_mat_. For each pair of repeat length and specific annotation marker, there exists at least one pair of repeats that do overlap in time."
   ]
  },
  {
   "cell_type": "code",
   "execution_count": 8,
   "metadata": {},
   "outputs": [
    {
     "name": "stdout",
     "output_type": "stream",
     "text": [
      "The input array is: \n",
      " [[ 1 15 31 45 15  0]\n",
      " [ 1 10 46 55 10  0]\n",
      " [31 40 46 55 10  0]\n",
      " [ 1 10 31 40 10  0]\n",
      " [11 15 41 45  5  0]]\n",
      "The number of shingles is: 55\n"
     ]
    }
   ],
   "source": [
    "input_mat = np.array(([1, 15, 31, 45, 15, 0], \n",
    "                      [1, 10, 46, 55, 10, 0], \n",
    "                      [31, 40, 46, 55, 10, 0],\n",
    "                      [1, 10, 31, 40, 10, 0], \n",
    "                      [11, 15, 41, 45, 5, 0]))\n",
    "song_length = 55\n",
    "\n",
    "print(\"The input array is: \\n\",input_mat)\n",
    "print(\"The number of shingles is:\",song_length)"
   ]
  },
  {
   "cell_type": "code",
   "execution_count": 9,
   "metadata": {},
   "outputs": [
    {
     "name": "stdout",
     "output_type": "stream",
     "text": [
      "The array of the non-overlapping repeats is: \n",
      " [[11 15 41 45  5  0]\n",
      " [ 1 10 31 40 10  0]\n",
      " [ 1 10 46 55 10  0]\n",
      " [31 40 46 55 10  0]\n",
      " [ 1 15 31 45 15  0]]\n",
      "The matrix representation of the non-overlapping repeats is: \n",
      " []\n",
      "The lengths of the repeats in matrix_no_overlaps are: \n",
      " []\n",
      "The annotations from matrix_no_overlaps are: \n",
      " []\n",
      "The array of overlapping repeats is: \n",
      " []\n"
     ]
    }
   ],
   "source": [
    "output = remove_overlaps(input_mat, song_length)\n",
    "list_no_overlaps = output[0]\n",
    "matrix_no_overlaps = output[1]\n",
    "key_no_overlaps = output[2]\n",
    "annotations_no_overlaps = output[3]\n",
    "all_overlap_list = output[4]\n",
    "\n",
    "print(\"The array of the non-overlapping repeats is: \\n\", list_no_overlaps)\n",
    "print(\"The matrix representation of the non-overlapping repeats is: \\n\", matrix_no_overlaps)\n",
    "print(\"The lengths of the repeats in matrix_no_overlaps are: \\n\", key_no_overlaps)\n",
    "print(\"The annotations from matrix_no_overlaps are: \\n\", annotations_no_overlaps)\n",
    "print(\"The array of overlapping repeats is: \\n\", all_overlap_list)"
   ]
  },
  {
   "cell_type": "markdown",
   "metadata": {},
   "source": [
    "##  \\_\\_create_anno_remove_overlaps\n",
    "\n",
    "Turns _rep_mat_ into marked rows with annotation markers for the start indices and zeroes otherwise. After removing the annotations that have overlaps, it outputs _k\\_lst\\_out_ which only contains rows that have no overlaps. Then takes the annotations that have overlaps from _k\\_lst\\_out_ and puts them in _overlap\\_lst_. Lastly, this function checks if the proper sequence of annotation markers was given and fixes them if necessary.\n",
    "\n",
    "The inputs for the function are:\n",
    "- __k_mat__ (np.ndarray): A list of pairs of repeats of length 1 with annotations marked. The first two columns refer to the first repeat, the second two columns refer to the second repeat, the fifth column denotes repeat length, and the last column contains the annotation.\n",
    "- __song_length__ (int): The number of audio shingles in the song.\n",
    "- __band_width__ (int): the length of the repeats in _k\\_mat_.\n",
    "\n",
    "The outputs for the function are:\n",
    "- __pattern_row__ (np.ndarray): a 1-D array marking start indices of non-overlapping repeats with 1 and 0s otherwise.\n",
    "- __k_list_out__ (np.ndarray): similar to input _rep_\\__mat_ with overlapping repeats removed\n",
    "- __overlap_list__ (np.ndarray): similar to input _rep_\\__mat_ containing only overlapping repeats"
   ]
  },
  {
   "cell_type": "code",
   "execution_count": 4,
   "metadata": {},
   "outputs": [
    {
     "name": "stdout",
     "output_type": "stream",
     "text": [
      "The input array is: \n",
      " [[ 1  5 41 45  5  1]\n",
      " [36 40 51 55  5  1]\n",
      " [ 1  5 36 40  5  1]\n",
      " [11 15 41 45  5  1]]\n",
      "The number of shingles is: 55\n",
      "The length of the repeats is: 5\n"
     ]
    }
   ],
   "source": [
    "k_mat = np.array(([1, 5, 41, 45, 5, 1], \n",
    "                    [36, 40, 51, 55, 5, 1], \n",
    "                    [1, 5, 36, 40, 5, 1], \n",
    "                    [11, 15, 41, 45, 5, 1]))\n",
    "song_length = 55\n",
    "band_width = 5\n",
    "\n",
    "print(\"The input array is: \\n\",k_mat)\n",
    "print(\"The number of shingles is:\",song_length)\n",
    "print(\"The length of the repeats is:\",band_width)"
   ]
  },
  {
   "cell_type": "code",
   "execution_count": 5,
   "metadata": {},
   "outputs": [
    {
     "name": "stdout",
     "output_type": "stream",
     "text": [
      "The pattern of the repeats is: [1 0 0 0 0 0 0 0 0 0 1 0 0 0 0 0 0 0 0 0 0 0 0 0 0 0 0 0 0 0 0 0 0 0 0 1 0\n",
      " 0 0 0 1 0 0 0 0 0 0 0 0 0 1 0 0 0 0]\n",
      "The array of non-overlapping repeats is: \n",
      " [[ 1  5 36 40  5  1]\n",
      " [ 1  5 41 45  5  1]\n",
      " [11 15 41 45  5  1]\n",
      " [36 40 51 55  5  1]]\n",
      "The array of overlapping repeats is: \n",
      " []\n"
     ]
    }
   ],
   "source": [
    "output = __create_anno_remove_overlaps(rep_mat, song_length, band_width)\n",
    "pattern_row = output[0]\n",
    "k_list_out = output[1]\n",
    "overlap_list = output[2]\n",
    "\n",
    "print(\"The pattern of the repeats is:\", pattern_row)\n",
    "print(\"The array of non-overlapping repeats is: \\n\", k_list_out)\n",
    "print(\"The array of overlapping repeats is: \\n\", overlap_list)"
   ]
  },
  {
   "cell_type": "markdown",
   "metadata": {},
   "source": [
    "## \\_\\_create_anno_rows\n",
    "\n",
    "`create_anno_rows` turns a list of pairs of repeats with lengths of 1 into marked rows with annotation markers for the start indices and zeroes otherwise. It also checks if the proper sequence of annotation markers was given and fixes them if necessary. It loops over all annotations in ascending order. \n",
    "\n",
    "The inputs for the function are:\n",
    "- __rep_mat__ (np.ndarray): pairs of repeats of the same length with annotations marked. The first two columns refer to the first repeat, the second two columns refer to the second repeat, the fifth column denotes repeat length, and the last column contains the annotation. \n",
    "- __song_length__ (int): the number of shingles in the song\n",
    "\n",
    "The outputs for the function are:\n",
    "- __pattern_row__ (np.ndarray): a 1-D array marking start indices of non-overlapping repeats\n",
    "- __k_list_out__ (np.ndarray): similar to input _rep\\_mat_ with overlapping repeats removed"
   ]
  },
  {
   "cell_type": "code",
   "execution_count": null,
   "metadata": {},
   "outputs": [],
   "source": [
    "rep_mat = np.array(([1, 5, 41, 45, 5, 1], \n",
    "                    [36, 40, 51, 55, 5, 1], \n",
    "                    [1, 5, 36, 40, 5, 1], \n",
    "                    [11, 15, 41, 45, 5, 1]))\n",
    "song_length = 55\n",
    "\n",
    "print(\"The input array is: \\n\", rep_mat)\n",
    "print(\"The number of shingles is:\", song_length)"
   ]
  },
  {
   "cell_type": "code",
   "execution_count": null,
   "metadata": {},
   "outputs": [],
   "source": [
    "output = __create_anno_rows(rep_mat, song_length)\n",
    "pattern_row = output[0]\n",
    "k_list_out = output[1]\n",
    "\n",
    "print(\"The pattern of the repeats is:\\n\", pattern_row)\n",
    "print(\"The output array is: \\n\", k_list_out)"
   ]
  },
  {
   "cell_type": "markdown",
   "metadata": {},
   "source": [
    "##  \\_\\_separate_anno_markers\n",
    "\n",
    "`separate_anno_markers` expands _pattern\\_row_, that marks where non-overlapping repeats occur, into a matrix representation of where all of the repeats in a song start and end. The dimension of this array is twice the pairs of repeats by the length of the song. _rep\\_mat_ provides a list of annotation markers that is used in separating the repeats of length _band\\_width_ into individual rows. Each row will mark the start and end time steps of a repeat with 1's and 0's otherwise. The array is a visual record of where all of the repeats in a song start and end.\n",
    "\n",
    "\n",
    "The inputs for the function are:\n",
    "- __rep_mat__ (np.ndarray): pairs of repeats with annotations marked. The first two columns refer to the first repeat, the second two columns refer to the second repeat, the fifth column denotes repeat length, and the last column contains the annotation\n",
    "- __song_length__ (int): the number of shingles in the song\n",
    "- __band_width__ (int): the length of the repeats in _rep\\_mat_\n",
    "- __pattern_row__ (np.ndarray): a 1-D array marking start indices of non-overlapping repeats\n",
    "\n",
    "The outputs for the function are:\n",
    "- __pattern_mat__ (np.ndarray): a matrix representation of where each row contains a marked group of repeats\n",
    "- __pattern_key__ (np.ndarray): the lengths of the repeats in each row of _pattern\\_mat_\n",
    "- __anno_id_list__ (np.ndarray): the annotations of the repeats in each row of _pattern\\_mat_"
   ]
  },
  {
   "cell_type": "code",
   "execution_count": null,
   "metadata": {},
   "outputs": [],
   "source": [
    "rep_mat = np.array(([1, 5, 41, 45, 5, 1], \n",
    "                    [36, 40, 51, 55, 5, 1], \n",
    "                    [1, 5, 36, 40, 5, 1], \n",
    "                    [11, 15, 41, 45, 5, 1]))\n",
    "song_length = 55\n",
    "band_width = 5\n",
    "# the pattern_row used is the same that is created in the previous functions\n",
    "\n",
    "print(\"The input array is: \\n\", rep_mat)\n",
    "print(\"The number of shingles is:\", song_length)\n",
    "print(\"The length of the repeats is:\", band_width)\n",
    "print(\"The pattern of the repeats is:\", pattern_row)"
   ]
  },
  {
   "cell_type": "code",
   "execution_count": null,
   "metadata": {},
   "outputs": [],
   "source": [
    "output = __separate_anno_markers(rep_mat, song_length, band_width, pattern_row)\n",
    "pattern_mat = output[0]\n",
    "pattern_key = output[1]\n",
    "anno_id_list = output[2]\n",
    "\n",
    "print(\"The matrix representation of the repeats is: \\n\", pattern_mat)\n",
    "print(\"The lengths of the repeats in pattern_mat are: \\n\", pattern_key)\n",
    "print(\"The annotations from pattern_mat are: \\n\", anno_id_list)"
   ]
  }
 ],
 "metadata": {
  "kernelspec": {
   "display_name": "Python 3",
   "language": "python",
   "name": "python3"
  },
  "language_info": {
   "codemirror_mode": {
    "name": "ipython",
    "version": 3
   },
   "file_extension": ".py",
   "mimetype": "text/x-python",
   "name": "python",
   "nbconvert_exporter": "python",
   "pygments_lexer": "ipython3",
   "version": "3.9.2"
  }
 },
 "nbformat": 4,
 "nbformat_minor": 2
}
