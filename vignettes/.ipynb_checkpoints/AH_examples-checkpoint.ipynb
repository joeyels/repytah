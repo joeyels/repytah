{
 "cells": [
  {
   "cell_type": "markdown",
   "metadata": {},
   "source": [
    "# Example creating aligned hierarchies for a Mazurka Score"
   ]
  },
  {
   "cell_type": "markdown",
   "metadata": {},
   "source": [
    "In this example, we will walk through the elements of the `ah` package that pertain to the creation of aligned hierarchies for a music-based data stream (like a song). \n",
    "\n",
    "Beginning with features (such as MFCCs or chroma features) for each timestep in your music based data stream, there are several steps to this process:\n",
    "\n",
    "0. Create the self-dissimilarity matrix (SDM)\n",
    "1. Highlight pairs of timesteps deemed close enough to be considered as repetitions of each other. (In other words, threshold the SDM)\n",
    "2. Find pairs of structure repetitions (represented as diagonals within the thresholded SDM)\n",
    "3. Find any pairs of structure repetitions not found in the previous step; and group the structure repetitions\n",
    "4. Remove and repeated structures that have any instances that overlap\n",
    "5. Distill the collection of repeated structures into the _essential structure components_, i.e. the smallest meaningful repetitions on which all larger repeats are constructed. Each timestep will be contained in no more than one essential structure component\n",
    "\n",
    "_Note_: This python notebook borrows heavily from `example.py` found in this directory. \n",
    "\n",
    "\n",
    "For more in depth information on the function calls, an example function pipeline is shown below.\n",
    "![alt text](function_pipeline.png)\n",
    "\n",
    "We begin by importing the necessary packages: "
   ]
  },
  {
   "cell_type": "code",
   "execution_count": null,
   "metadata": {},
   "outputs": [],
   "source": [
    "import scipy.io as sio\n",
    "import numpy as np\n",
    "from utilities import *\n",
    "import matplotlib.pyplot as plt"
   ]
  },
  {
   "cell_type": "markdown",
   "metadata": {},
   "source": [
    "## Step 0: Creating the SDM \n",
    "\n",
    "In this phase, there are a few crucial details, namely importing the data file that we would like to unearth hierarchical structural information for and determining the appropriate dissimilarity measure to use. If you already have (symmetrical) matrix representations for your data stream, then you may find it more appropriate to load your matrix and then skip ahead to Step 1 or Step 2. \n",
    "\n",
    "This step assumes that your music-based data stream (ie. a recording or score) has already had your preferred features extracted (like chroma or MFCCs) and is arranged into columns such that each column represents a time step (or beat). We refer to this as a _feature vector matrix_ as each feature vector is laid out as column within one cohesive matrix. \n",
    "\n",
    "### Importing Data for structure analysis\n",
    "\n",
    "Here we import the file in a familiar manner:"
   ]
  },
  {
   "cell_type": "code",
   "execution_count": null,
   "metadata": {},
   "outputs": [],
   "source": [
    "file_in = \"input.csv\"\n",
    "\n",
    "with open(file_in, 'r', newline='\\n') as f:\n",
    "    fv_mat = np.loadtxt(f, delimiter = ',')"
   ]
  },
  {
   "cell_type": "markdown",
   "metadata": {},
   "source": [
    "### Creating the SDM\n",
    "\n",
    "In just one line, we define the self-dissimiliarity matrix. This function `create_sdm`"
   ]
  },
  {
   "cell_type": "code",
   "execution_count": null,
   "metadata": {},
   "outputs": [],
   "source": [
    "num_fv_per_shingle = 12\n",
    "self_dissim_mat = create_sdm(fv_mat, num_fv_per_shingle)\n",
    "\n",
    "print(self_dissim_mat)\n",
    "\n",
    "mat = self_dissim_mat\n",
    "\n",
    "mat_min, mat_max = -np.abs(mat).max(), np.abs(mat).max()\n",
    "\n",
    "fig, ax0 = plt.subplots(1)\n",
    "ax0.invert_yaxis()\n",
    "\n",
    "c = ax0.pcolor(mat,cmap='RdBu')\n",
    "ax0.set_title('Self dissimilarity matrix')\n",
    "\n",
    "plt.show()\n"
   ]
  },
  {
   "cell_type": "markdown",
   "metadata": {},
   "source": [
    "## Step 1: Thresholding the SDM \n",
    "\n",
    "In this step, the self-dissimilarity matrix is threshholded to produce a binary matrix of the same dimensions. "
   ]
  },
  {
   "cell_type": "code",
   "execution_count": null,
   "metadata": {},
   "outputs": [],
   "source": [
    "song_length = self_dissim_mat.shape[0]\n",
    "thresh = 0.01\n",
    "\n",
    "thresh_dist_mat = (self_dissim_mat <= thresh) \n",
    "\n",
    "print(thresh_dist_mat)\n",
    "\n",
    "\n",
    "mat = thresh_dist_mat\n",
    "\n",
    "mat_min, mat_max = np.abs(mat).max(), np.abs(mat).max()\n",
    "\n",
    "fig, ax0 = plt.subplots(1)\n",
    "ax0.invert_yaxis()\n",
    "\n",
    "c = ax0.pcolor(mat,cmap='Greys')\n",
    "ax0.set_title('Thresholded Matrix')\n",
    "\n",
    "\n",
    "plt.show()"
   ]
  },
  {
   "cell_type": "markdown",
   "metadata": {},
   "source": [
    "## Step 2: Find the diagonals present in T and store all found pairs of repeats in the list L\n",
    "\n",
    "The diagonals in the thresholded matrix are found and recorded in an array of repeats."
   ]
  },
  {
   "cell_type": "markdown",
   "metadata": {},
   "source": [
    "## Step 3: Find any diagonals in T not found in step 2 contained in larger diagonals in T, then group pairs of repeats\n",
    "\n",
    "Any diagonals that are contained in larger diagonals are found and added to the array of repeats"
   ]
  },
  {
   "cell_type": "markdown",
   "metadata": {},
   "source": [
    "## Step 4: Remove any repeated structure that have at least two repeats that overlap\n",
    "\n",
    "In this step, repeated structures with the same annotation and length are removed if they are overlapping."
   ]
  },
  {
   "cell_type": "markdown",
   "metadata": {},
   "source": [
    "## Step 5: Find the essential structure components of the song represented by D\n",
    "\n",
    "The essential structure components of the song are found."
   ]
  },
  {
   "cell_type": "markdown",
   "metadata": {},
   "source": [
    "## Step 6: Build the aligned hierarchies \n",
    "\n",
    "Finally, the aligned hierarchies are built using the essential structure components."
   ]
  }
 ],
 "metadata": {
  "kernelspec": {
   "display_name": "Python 3",
   "language": "python",
   "name": "python3"
  },
  "language_info": {
   "codemirror_mode": {
    "name": "ipython",
    "version": 3
   },
   "file_extension": ".py",
   "mimetype": "text/x-python",
   "name": "python",
   "nbconvert_exporter": "python",
   "pygments_lexer": "ipython3",
   "version": "3.7.6"
  }
 },
 "nbformat": 4,
 "nbformat_minor": 2
}
