{
 "cells": [
  {
   "cell_type": "markdown",
   "metadata": {},
   "source": [
    "# Example creating aligned hierarchies for a Mazurka Score"
   ]
  },
  {
   "cell_type": "markdown",
   "metadata": {},
   "source": [
    "In this example, we will walk through the elements of the `ah` package that pertain to the creation of aligned hierarchies for a music-based data stream (like a song). \n",
    "\n",
    "Beginning with features (such as MFCCs or chroma features) for each timestep in your music based data stream, there are several steps to this process:\n",
    "\n",
    "0. Create the self-dissimilarity matrix (SDM)\n",
    "1. Highlight pairs of timesteps deemed close enough to be considered as repetitions of each other. (In other words, threshold the SDM)\n",
    "2. Find pairs of structure repetitions (represented as diagonals within the thresholded SDM)\n",
    "3. Find any pairs of structure repetitions not found in the previous step; and group the structure repetitions\n",
    "4. Remove and repeated structures that have any instances that overlap\n",
    "5. Distill the collection of repeated structures into the _essential structure components_, i.e. the smallest meaningful repetitions on which all larger repeats are constructed. Each timestep will be contained in no more than one essential structure component\n",
    "\n",
    "_Note_: This python notebook borrows heavily from `example.py` found in this directory. \n",
    "\n",
    "We begin by importing the necessary packages: "
   ]
  },
  {
   "cell_type": "code",
   "execution_count": 4,
   "metadata": {},
   "outputs": [],
   "source": [
    "import scipy.io as sio\n",
    "import numpy as np\n",
    "from utilities import *"
   ]
  },
  {
   "cell_type": "markdown",
   "metadata": {},
   "source": [
    "## Step 0: Creating the SDM \n",
    "\n",
    "In this phase, there are a few crucial details, namely importing the data file that we would like to unearth hierarchical structural information for and determining the appropriate dissimilarity measure to use. If you already have (symmetrical) matrix representations for your data stream, then you may find it more appropriate to load your matrix and then skip ahead to Step 1 or Step 2. \n",
    "\n",
    "This step assumes that your music-based data stream (ie. a recording or score) has already had your preferred features extracted (like chroma or MFCCs) and is arranged into columns such that each column represents a time step (or beat). We refer to this as a _feature vector matrix_ as each feature vector is laid out as column within one cohesive matrix. \n",
    "\n",
    "### Importing Data for structure analysis\n",
    "\n",
    "Here we import the file in a familiar manner:"
   ]
  },
  {
   "cell_type": "code",
   "execution_count": 5,
   "metadata": {},
   "outputs": [],
   "source": [
    "file_in = \"input.csv\"\n",
    "\n",
    "with open(file_in, 'r', newline='\\n') as f:\n",
    "    fv_mat = np.loadtxt(f, delimiter = ',')"
   ]
  },
  {
   "cell_type": "markdown",
   "metadata": {},
   "source": [
    "### Creating the SDM\n",
    "\n",
    "In just one line, we define the self-dissimiliarity matrix. This function `create_sdm`"
   ]
  },
  {
   "cell_type": "code",
   "execution_count": 7,
   "metadata": {},
   "outputs": [
    {
     "name": "stdout",
     "output_type": "stream",
     "text": [
      "[[0.         0.2005124  0.28075127 ... 0.4437394  0.37563204 0.48423896]\n",
      " [0.2005124  0.         0.171516   ... 0.51238784 0.45969811 0.35327215]\n",
      " [0.28075127 0.171516   0.         ... 0.50483386 0.55182434 0.47712669]\n",
      " ...\n",
      " [0.4437394  0.51238784 0.50483386 ... 0.         0.23051624 0.45669396]\n",
      " [0.37563204 0.45969811 0.55182434 ... 0.23051624 0.         0.24448828]\n",
      " [0.48423896 0.35327215 0.47712669 ... 0.45669396 0.24448828 0.        ]]\n"
     ]
    }
   ],
   "source": [
    "num_fv_per_shingle = 12\n",
    "self_dissim_mat = create_sdm(fv_mat, num_fv_per_shingle)\n",
    "\n",
    "print(self_dissim_mat)"
   ]
  },
  {
   "cell_type": "code",
   "execution_count": null,
   "metadata": {},
   "outputs": [],
   "source": []
  }
 ],
 "metadata": {
  "kernelspec": {
   "display_name": "Python 3",
   "language": "python",
   "name": "python3"
  },
  "language_info": {
   "codemirror_mode": {
    "name": "ipython",
    "version": 3
   },
   "file_extension": ".py",
   "mimetype": "text/x-python",
   "name": "python",
   "nbconvert_exporter": "python",
   "pygments_lexer": "ipython3",
   "version": "3.7.6"
  }
 },
 "nbformat": 4,
 "nbformat_minor": 2
}
