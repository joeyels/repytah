{
 "cells": [
  {
   "cell_type": "markdown",
   "metadata": {},
   "source": [
    "# The Utilities Module\n",
    "\n",
    "The `utilities` module of the `ah` package holds functions commonly called by other modules in order for the entire package to run smoothly.\n",
    "`Utilities` includes the following functions:\n",
    "- __create_sdm__: Creates a self-dissimilarity matrix; this matrix is found by creating audio shingles from feature vectors, and finding cosine distance between shingles.\n",
    "\n",
    "- __find_initial_repeats__: Finds all diagonals present in _thresh\\_mat_, removing each diagonal as it is found.\n",
    "\n",
    "- __stretch_diags__: Fill out diagonals in binary self dissimilarity matrix from diagonal starts and lengths.\n",
    "\n",
    "- __add_annotations__: Adds annotations to each pair of repeated structures according to their length and order of occurence. \n",
    "\n",
    "- **\\_\\_find_song_pattern** : Stitches information about repeat locations from _thresh\\_diags_ matrix into a single row. \n",
    "\n",
    "- __reconstruct_full_block__: Creates a record of when pairs of repeated structures occur, from the first beat in the song to the last beat of the song. Pairs of repeated structures are marked with 1's.\n",
    "\n",
    "- __reformat__ :Transforms a binary matrix representation of when repeats occur in a song into a list of repeated structures detailing the length and occurence of each repeat. \n",
    "    \n",
    "These functions are called multiple times throughout the package to reformat the outputs of various functions. Functions from `utilities` are shown in yellow in the example function pipeline below.\n",
    "![alt text](pictures/function_pipeline.png)"
   ]
  },
  {
   "cell_type": "markdown",
   "metadata": {},
   "source": [
    "### Importing necessary modules"
   ]
  },
  {
   "cell_type": "code",
   "execution_count": 1,
   "metadata": {},
   "outputs": [],
   "source": [
    "import numpy as np\n",
    "from alignedHierarchies.utilities import *\n",
    "from alignedHierarchies.utilities import __find_song_pattern"
   ]
  },
  {
   "cell_type": "markdown",
   "metadata": {},
   "source": [
    "## create_sdm\n",
    "\n",
    "Creates a self-dissimilarity matrix; this matrix is found by creating audio shingles from feature vectors, and finding cosine distance between shingles.\n",
    "\n",
    "The inputs for the function are:\n",
    "- __fv_mat__ (np.ndarray): a matrix of feature vectors where each column is a timestep and each row includes feature information i.e. an array of 144 columns/beats and 12 rows corresponding to chroma values.\n",
    "- __num_fv_per_shingle__ (int): the number of feature vectors per audio shingle.\n",
    "\n",
    "The outputs for the function are:\n",
    "- __self_dissim_mat__ (np.ndarray): a self dissimilarity matrix with paired cosine distances between shingles."
   ]
  },
  {
   "cell_type": "code",
   "execution_count": 20,
   "metadata": {},
   "outputs": [
    {
     "name": "stdout",
     "output_type": "stream",
     "text": [
      "The input matrix of feature vectors is:\n",
      " [[0.  0.5 0.  0.  0.  1.  0.  0. ]\n",
      " [0.  2.  0.  0.  0.  0.  0.  0. ]\n",
      " [0.  0.  0.  0.  0.  0.  3.  0. ]\n",
      " [0.  3.  0.  0.  2.  0.  0.  0. ]\n",
      " [0.  1.5 0.  0.  5.  0.  0.  0. ]]\n",
      "The number of feature vectors per audio shingles is: 3\n"
     ]
    }
   ],
   "source": [
    "my_data = np.array([[0,0.5,0,0,0,1,0,0],\n",
    "                    [0,2,0,0,0,0,0,0],\n",
    "                    [0,0,0,0,0,0,3,0],\n",
    "                    [0,3,0,0,2,0,0,0],\n",
    "                    [0,1.5,0,0,5,0,0,0]])\n",
    "\n",
    "num_fv_per_shingle = 3\n",
    "\n",
    "print('The input matrix of feature vectors is:\\n', my_data)\n",
    "print('The number of feature vectors per audio shingles is:', num_fv_per_shingle)"
   ]
  },
  {
   "cell_type": "code",
   "execution_count": 21,
   "metadata": {},
   "outputs": [
    {
     "name": "stdout",
     "output_type": "stream",
     "text": [
      "The resulting self-dissimilarity matrix is:\n",
      " [[0.         1.         1.         0.37395249 0.9796637  1.        ]\n",
      " [1.         0.         1.         1.         0.45092001 0.95983903]\n",
      " [1.         1.         0.         1.         1.         1.        ]\n",
      " [0.37395249 1.         1.         0.         1.         1.        ]\n",
      " [0.9796637  0.45092001 1.         1.         0.         1.        ]\n",
      " [1.         0.95983903 1.         1.         1.         0.        ]]\n"
     ]
    }
   ],
   "source": [
    "output = create_sdm(my_data, num_fv_per_shingle)\n",
    "print('The resulting self-dissimilarity matrix is:\\n', output)"
   ]
  },
  {
   "cell_type": "markdown",
   "metadata": {},
   "source": [
    "## find_initial_repeats\n",
    "\n",
    "Identifies all repeated structures in a sequential data stream which are represented as diagonals in thresh_mat and then stores the pairs of repeats that correspond to each repeated structure in a list.\n",
    "\n",
    "The inputs for the function are:\n",
    "- __thresh_mat__ (np.ndarray): a thresholded matrix from which diagonals are extracted.\n",
    "- __bandwidth_vec__ (np.ndarray): a vector of lengths of diagonals to be found.\n",
    "- __thresh_bw__ (int): the smallest allowed diagonal length.\n",
    "\n",
    "The outputs for the function are:\n",
    "- __all_lst__ (np.ndarray): pairs of repeats that correspond to diagonals in _thresh\\_mat_."
   ]
  },
  {
   "cell_type": "code",
   "execution_count": 22,
   "metadata": {},
   "outputs": [
    {
     "name": "stdout",
     "output_type": "stream",
     "text": [
      "The thresholded matrix is:\n",
      " [[1 0 0 1 0 0 0 1 0 0]\n",
      " [0 1 0 0 1 1 0 0 1 0]\n",
      " [0 0 1 0 0 1 1 0 0 1]\n",
      " [1 0 0 1 0 0 1 1 0 0]\n",
      " [0 1 0 0 1 0 1 0 0 0]\n",
      " [0 1 1 0 0 1 0 1 1 0]\n",
      " [0 0 1 1 1 0 1 0 1 0]\n",
      " [1 0 0 1 0 1 0 1 0 1]\n",
      " [0 1 0 0 0 1 1 0 1 0]\n",
      " [0 0 1 0 0 0 0 1 0 1]]\n",
      "The lengths of diagonals to be found are: [ 1  2  3  4  5  6  7  8  9 10]\n",
      "The smalled allowed diagonal length is: 0\n"
     ]
    }
   ],
   "source": [
    "thresh_mat = np.array([[1,0,0,1,0,0,0,1,0,0],\n",
    "                       [0,1,0,0,1,1,0,0,1,0],\n",
    "                       [0,0,1,0,0,1,1,0,0,1],\n",
    "                       [1,0,0,1,0,0,1,1,0,0],\n",
    "                       [0,1,0,0,1,0,1,0,0,0],\n",
    "                       [0,1,1,0,0,1,0,1,1,0],\n",
    "                       [0,0,1,1,1,0,1,0,1,0],\n",
    "                       [1,0,0,1,0,1,0,1,0,1],\n",
    "                       [0,1,0,0,0,1,1,0,1,0],\n",
    "                       [0,0,1,0,0,0,0,1,0,1]])\n",
    "\n",
    "bandwidth_vec = np.array([1,2,3,4,5,6,7,8,9,10])\n",
    "thresh_bw = 0\n",
    "\n",
    "print('The thresholded matrix is:\\n',thresh_mat)\n",
    "print('The lengths of diagonals to be found are:',bandwidth_vec)\n",
    "print('The smalled allowed diagonal length is:',thresh_bw)"
   ]
  },
  {
   "cell_type": "code",
   "execution_count": 23,
   "metadata": {},
   "outputs": [
    {
     "name": "stdout",
     "output_type": "stream",
     "text": [
      "The pairs of repeats are:\n",
      " [[ 6  6  9  9  1]\n",
      " [ 5  6  7  8  2]\n",
      " [ 7  8  9 10  2]\n",
      " [ 1  3  4  6  3]\n",
      " [ 2  4  5  7  3]\n",
      " [ 2  4  6  8  3]\n",
      " [ 1  3  8 10  3]\n",
      " [ 1 10  1 10 10]]\n"
     ]
    }
   ],
   "source": [
    "output = find_initial_repeats(thresh_mat,bandwidth_vec,thresh_bw)\n",
    "\n",
    "print(\"The pairs of repeats are:\\n\",output)"
   ]
  },
  {
   "cell_type": "markdown",
   "metadata": {},
   "source": [
    "## stretch_diags\n",
    "\n",
    "Creates binary matrix with full length diagonals from binary matrix of diagonal starts and length of diagonals.\n",
    "        \n",
    "The inputs for the function are:\n",
    "- __thresh_diags__ (np.ndarray): a binary matrix where entries equal to 1 signal the existence of a diagonal.\n",
    "- __band_width__ (int): the length of encoded diagonals.\n",
    "\n",
    "The outputs for the function are:\n",
    "- __stretch_diag_mat__ (np.ndarray): a logical matrix with diagonals of length _band\\_width_ starting at each entry prescribed in _thresh\\_diag_."
   ]
  },
  {
   "cell_type": "code",
   "execution_count": 24,
   "metadata": {},
   "outputs": [
    {
     "name": "stdout",
     "output_type": "stream",
     "text": [
      "The input matrix is:\n",
      " [[0 0 1 0 0]\n",
      " [0 1 0 0 0]\n",
      " [0 0 1 0 0]\n",
      " [0 0 0 0 0]\n",
      " [0 0 0 0 0]]\n",
      "The length of the encoded diagonals is: 3\n"
     ]
    }
   ],
   "source": [
    "thresh_diags = np.matrix([[0,0,1,0,0],\n",
    "                         [0,1,0,0,0],\n",
    "                         [0,0,1,0,0],\n",
    "                         [0,0,0,0,0],\n",
    "                         [0,0,0,0,0]])\n",
    "\n",
    "band_width = 3\n",
    "\n",
    "print(\"The input matrix is:\\n\",thresh_diags)\n",
    "print(\"The length of the encoded diagonals is:\",band_width)"
   ]
  },
  {
   "cell_type": "code",
   "execution_count": 25,
   "metadata": {},
   "outputs": [
    {
     "name": "stdout",
     "output_type": "stream",
     "text": [
      "The output matrix is:\n",
      " [[False False False False False False False]\n",
      " [False  True False False False False False]\n",
      " [ True False  True False False False False]\n",
      " [False  True False  True False False False]\n",
      " [False False  True False  True False False]\n",
      " [False False False False False False False]\n",
      " [False False False False False False False]]\n"
     ]
    }
   ],
   "source": [
    "stretched_diagonal = stretch_diags(thresh_diags,band_width)\n",
    "\n",
    "print(\"The output matrix is:\\n\",stretched_diagonal)"
   ]
  },
  {
   "cell_type": "markdown",
   "metadata": {},
   "source": [
    "## add_annotations\n",
    "\n",
    "Adds annotations to each pair of repeated structures according to their length and order of occurence to differentiate between different repeats of the same length. `add_annotations` is called after a function, such as [`find_complete_list`](../ah/blob/master/vignettes/search_vignette.ipynb) creates a matrix representation of pairs of repeats, _input\\_mat_. Once the list of pairs of repeats is generated, `add_annotations` first creates a binary matrix that denotes each repeat. `__find_song_pattern` uses this information to create a single row in which entries represent a time step and the repeat group that time step is a member of. Then, annotation markers are added to pairs of repeats by looping over all possible repeat lengths in ascending order. For each repeat length, the annotations are added in another loop, checking whether each repeat already has an anotation assigned. \n",
    "\n",
    "The inputs for the function are:\n",
    "- __input_mat__ (np.ndarray): pairs of repeats. The first two columns refer to the first repeat of the pair. The third and fourth columns refer to the second repeat of the pair. The fifth column refers to the repeat lengths. The sixth column contains any previous annotations, which will be removed.\n",
    "- __song_length__ (int): the number of shingles in the song.\n",
    "\n",
    "The outputs for the function are:\n",
    "- __anno_list__ (np.ndarray): pairs of repeats with annotations marked. "
   ]
  },
  {
   "cell_type": "code",
   "execution_count": 26,
   "metadata": {},
   "outputs": [
    {
     "name": "stdout",
     "output_type": "stream",
     "text": [
      "The input array is: \n",
      " [[ 2  5  8 11  4  0]\n",
      " [ 7 10 14 17  4  0]\n",
      " [ 2  5 15 18  4  0]\n",
      " [ 8 11 15 18  4  0]\n",
      " [ 9 12 16 19  4  0]]\n",
      "The number of shingles is: 19\n"
     ]
    }
   ],
   "source": [
    "input_mat =np.array([[2,5,8,11,4,0],\n",
    "                     [7,10,14,17,4,0],\n",
    "                     [2,5,15,18,4,0],\n",
    "                     [8,11,15,18,4,0],\n",
    "                     [9,12,16,19,4,0]])\n",
    "\n",
    "song_length = 19\n",
    "\n",
    "print(\"The input array is: \\n\", input_mat)\n",
    "print(\"The number of shingles is:\", song_length)"
   ]
  },
  {
   "cell_type": "code",
   "execution_count": 27,
   "metadata": {},
   "outputs": [
    {
     "name": "stdout",
     "output_type": "stream",
     "text": [
      "The array of repeats with annotations is:\n",
      " [[ 2  5  8 11  4  1]\n",
      " [ 2  5 15 18  4  1]\n",
      " [ 8 11 15 18  4  1]\n",
      " [ 7 10 14 17  4  2]\n",
      " [ 9 12 16 19  4  3]]\n"
     ]
    }
   ],
   "source": [
    "annotated_array = add_annotations(input_mat, song_length)\n",
    "print(\"The array of repeats with annotations is:\\n\", annotated_array)"
   ]
  },
  {
   "cell_type": "markdown",
   "metadata": {},
   "source": [
    "## \\_\\_find_song_pattern\n",
    "\n",
    "Decodes _thresh\\_diags_ which contains the locations or beats of when repeats begin to create a single row in which entries represent a time step and the repeat group that time step is a member of.\n",
    "\n",
    "The inputs of this functions is: \n",
    "\n",
    "- **thresh\\_diags** (np.ndarray): binary matrix with 1's at the start of each repeat pair and 0's elsewhere. \n",
    "\n",
    "The output for this function is: \n",
    "\n",
    "- **song\\_pattern** (np.ndarray): rows where each entry represents a time step and the group that the time step is a member of."
   ]
  },
  {
   "cell_type": "code",
   "execution_count": 14,
   "metadata": {},
   "outputs": [
    {
     "name": "stdout",
     "output_type": "stream",
     "text": [
      "The input matrix is:\n",
      " [[0 0 0 0 0 0 0 0 0 0 0 0 0 0 0 0 0 0 0]\n",
      " [0 0 0 0 0 0 0 1 0 0 0 0 0 0 1 0 0 0 0]\n",
      " [0 0 0 0 0 0 0 0 0 0 0 0 0 0 0 0 0 0 0]\n",
      " [0 0 0 0 0 0 0 0 0 0 0 0 0 0 0 0 0 0 0]\n",
      " [0 0 0 0 0 0 0 0 0 0 0 0 0 0 0 0 0 0 0]\n",
      " [0 0 0 0 0 0 0 0 0 0 0 0 0 0 0 0 0 0 0]\n",
      " [0 0 0 0 0 0 0 0 0 0 0 0 0 1 0 0 0 0 0]\n",
      " [0 1 0 0 0 0 0 0 0 0 0 0 0 0 1 0 0 0 0]\n",
      " [0 0 0 0 0 0 0 0 0 0 0 0 0 0 0 1 0 0 0]\n",
      " [0 0 0 0 0 0 0 0 0 0 0 0 0 0 0 0 0 0 0]\n",
      " [0 0 0 0 0 0 0 0 0 0 0 0 0 0 0 0 0 0 0]\n",
      " [0 0 0 0 0 0 0 0 0 0 0 0 0 0 0 0 0 0 0]\n",
      " [0 0 0 0 0 0 0 0 0 0 0 0 0 0 0 0 0 0 0]\n",
      " [0 0 0 0 0 0 1 0 0 0 0 0 0 0 0 0 0 0 0]\n",
      " [0 1 0 0 0 0 0 1 0 0 0 0 0 0 0 0 0 0 0]\n",
      " [0 0 0 0 0 0 0 0 1 0 0 0 0 0 0 0 0 0 0]\n",
      " [0 0 0 0 0 0 0 0 0 0 0 0 0 0 0 0 0 0 0]\n",
      " [0 0 0 0 0 0 0 0 0 0 0 0 0 0 0 0 0 0 0]\n",
      " [0 0 0 0 0 0 0 0 0 0 0 0 0 0 0 0 0 0 0]]\n"
     ]
    }
   ],
   "source": [
    "thresh_diags = np.array([[0, 0, 0, 0, 0, 0, 0, 0, 0, 0, 0, 0, 0, 0, 0, 0, 0, 0, 0],\n",
    "                         [0, 0, 0, 0, 0, 0, 0, 1, 0, 0, 0, 0, 0, 0, 1, 0, 0, 0, 0],\n",
    "                         [0, 0, 0, 0, 0, 0, 0, 0, 0, 0, 0, 0, 0, 0, 0, 0, 0, 0, 0],\n",
    "                         [0, 0, 0, 0, 0, 0, 0, 0, 0, 0, 0, 0, 0, 0, 0, 0, 0, 0, 0],\n",
    "                         [0, 0, 0, 0, 0, 0, 0, 0, 0, 0, 0, 0, 0, 0, 0, 0, 0, 0, 0],\n",
    "                         [0, 0, 0, 0, 0, 0, 0, 0, 0, 0, 0, 0, 0, 0, 0, 0, 0, 0, 0],\n",
    "                         [0, 0, 0, 0, 0, 0, 0, 0, 0, 0, 0, 0, 0, 1, 0, 0, 0, 0, 0],\n",
    "                         [0, 1, 0, 0, 0, 0, 0, 0, 0, 0, 0, 0, 0, 0, 1, 0, 0, 0, 0],\n",
    "                         [0, 0, 0, 0, 0, 0, 0, 0, 0, 0, 0, 0, 0, 0, 0, 1, 0, 0, 0],\n",
    "                         [0, 0, 0, 0, 0, 0, 0, 0, 0, 0, 0, 0, 0, 0, 0, 0, 0, 0, 0],\n",
    "                         [0, 0, 0, 0, 0, 0, 0, 0, 0, 0, 0, 0, 0, 0, 0, 0, 0, 0, 0],\n",
    "                         [0, 0, 0, 0, 0, 0, 0, 0, 0, 0, 0, 0, 0, 0, 0, 0, 0, 0, 0],\n",
    "                         [0, 0, 0, 0, 0, 0, 0, 0, 0, 0, 0, 0, 0, 0, 0, 0, 0, 0, 0],\n",
    "                         [0, 0, 0, 0, 0, 0, 1, 0, 0, 0, 0, 0, 0, 0, 0, 0, 0, 0, 0],\n",
    "                         [0, 1, 0, 0, 0, 0, 0, 1, 0, 0, 0, 0, 0, 0, 0, 0, 0, 0, 0],\n",
    "                         [0, 0, 0, 0, 0, 0, 0, 0, 1, 0, 0, 0, 0, 0, 0, 0, 0, 0, 0],\n",
    "                         [0, 0, 0, 0, 0, 0, 0, 0, 0, 0, 0, 0, 0, 0, 0, 0, 0, 0, 0],\n",
    "                         [0, 0, 0, 0, 0, 0, 0, 0, 0, 0, 0, 0, 0, 0, 0, 0, 0, 0, 0],\n",
    "                         [0, 0, 0, 0, 0, 0, 0, 0, 0, 0, 0, 0, 0, 0, 0, 0, 0, 0, 0]])\n",
    "\n",
    "print(\"The input matrix is:\\n\", thresh_diags)"
   ]
  },
  {
   "cell_type": "code",
   "execution_count": 15,
   "metadata": {},
   "outputs": [
    {
     "name": "stdout",
     "output_type": "stream",
     "text": [
      "The song pattern is:\n",
      " [0 1 0 0 0 0 2 1 3 0 0 0 0 2 1 3 0 0 0]\n"
     ]
    }
   ],
   "source": [
    "song_pattern = __find_song_pattern(thresh_diags)\n",
    "\n",
    "print(\"The song pattern is:\\n\", song_pattern)"
   ]
  },
  {
   "cell_type": "markdown",
   "metadata": {},
   "source": [
    "## reconstruct_full_block\n",
    "\n",
    "Creates a record of when pairs of repeated structures occur, from the first beat in the song to the end. This record is a binary matrix with a block of 1's for each repeat encoded in _pattern\\_mat_ whose length is encoded in _pattern\\_key_. By looping over all rows of _pattern\\_mat_, `reconstruct_full_block` reconstructs each row using the _pattern\\_key_. \n",
    "\n",
    "For each row of _pattern\\_mat_, a new row is created for _pattern\\_block_ by looping over the same row of _pattern\\_mat_ and shifting the position of 1's the number of times equivalent to the length of the repeat, storing each unique row with shifted values in a separate array. The sum of all of the shifted rows is then taken along the x-axis, thus creating a row that represents where each repeat occurs with blocks of 1's.\n",
    "\n",
    "For example, if the row in _pattern\\_mat_ is [0 0 1 0 0 0 0 0 1 0 0 0 1 0 0], with a repeat length of 3, then new rows created by the for loop are:\n",
    "<br><br>\n",
    "<center>[0 0 1 0 0 0 0 0 1 0 0 0 1 0 0]<br>\n",
    "[0 0 0 1 0 0 0 0 0 1 0 0 0 1 0]<br>\n",
    "[0 0 0 0 1 0 0 0 0 0 1 0 0 0 1]<br></center><br> \n",
    "\n",
    "These rows are then summed along the y-axis to become: [0 0 1 1 1 0 0 0 1 1 1 0 1 1 1] This is then appended to the output _pattern\\_block_.\n",
    "\n",
    "The inputs for the function are:\n",
    "- __pattern_mat__ (np.ndarray): a binary matrix with 1's where repeats begin and 0's otherwise.\n",
    "- __pattern_key__ (int): the number of feature vectors per audio shingle.\n",
    "\n",
    "The outputs for the function are:\n",
    "- __pattern_block__ (np.ndarray): a binary matrix representation for _pattern\\_mat_ with blocks of 1's equal to the length's prescribed in _pattern\\_key_."
   ]
  },
  {
   "cell_type": "code",
   "execution_count": 16,
   "metadata": {},
   "outputs": [
    {
     "name": "stdout",
     "output_type": "stream",
     "text": [
      "The input binary matrix is:\n",
      " [[0 0 0 0 1 0 0 0 0 1]\n",
      " [0 1 0 0 0 0 0 1 0 0]\n",
      " [0 0 1 0 0 0 0 0 1 0]\n",
      " [1 0 0 0 0 0 1 0 0 0]\n",
      " [1 0 0 0 0 0 1 0 0 0]]\n",
      "The input pattern key is:\n",
      " [1 2 2 3 4]\n"
     ]
    }
   ],
   "source": [
    "P = np.array([[0,0,0,0,1,0,0,0,0,1],\n",
    "              [0,1,0,0,0,0,0,1,0,0],\n",
    "              [0,0,1,0,0,0,0,0,1,0],\n",
    "              [1,0,0,0,0,0,1,0,0,0],\n",
    "              [1,0,0,0,0,0,1,0,0,0]])\n",
    "\n",
    "K = np.array([1,2,2,3,4])\n",
    "\n",
    "print(\"The input binary matrix is:\\n\", P)\n",
    "print(\"The input pattern key is:\\n\", K)"
   ]
  },
  {
   "cell_type": "code",
   "execution_count": 17,
   "metadata": {},
   "outputs": [
    {
     "name": "stdout",
     "output_type": "stream",
     "text": [
      "The reconstructed full block is:\n",
      " [[0 0 0 0 1 0 0 0 0 1]\n",
      " [0 1 1 0 0 0 0 1 1 0]\n",
      " [0 0 1 1 0 0 0 0 1 1]\n",
      " [1 1 1 0 0 0 1 1 1 0]\n",
      " [1 1 1 1 0 0 1 1 1 1]]\n"
     ]
    }
   ],
   "source": [
    "output = reconstruct_full_block(P,K)\n",
    "print(\"The reconstructed full block is:\\n\",output)"
   ]
  },
  {
   "cell_type": "markdown",
   "metadata": {},
   "source": [
    "## reformat\n",
    "\n",
    "This function is helpful when writing example inputs for aligned hiearchies. It first finds the starting indices of the repeated structures row by row, and assigns the time steps of the repeated structures based on starting indices.\n",
    "        \n",
    "The inputs for the function are:\n",
    "- __pattern_mat__ (np.ndarray): binary array with 1's where repeats start and 0's otherwise \n",
    "- __pattern_key__ (np.ndarray): array with the lengths of each repeated structure in pattern_mat\n",
    "\n",
    "The outputs for the function are:\n",
    "- __info_mat__ (np.ndarray): array with the time steps of when the pairs of repeated structures start and end organized"
   ]
  },
  {
   "cell_type": "code",
   "execution_count": 18,
   "metadata": {},
   "outputs": [
    {
     "name": "stdout",
     "output_type": "stream",
     "text": [
      "The input matrix is:\n",
      " [[0 0 0 0 1 0 0 0 0 1]\n",
      " [0 1 0 0 0 0 0 1 0 0]\n",
      " [0 0 1 0 0 0 0 0 1 0]\n",
      " [1 0 0 0 0 0 1 0 0 0]\n",
      " [1 0 0 0 0 0 1 0 0 0]]\n",
      "The length of repeated structure is: [1 2 2 3 4]\n"
     ]
    }
   ],
   "source": [
    "pattern_mat = np.array([[0,0,0,0,1,0,0,0,0,1],\n",
    "              [0,1,0,0,0,0,0,1,0,0],\n",
    "              [0,0,1,0,0,0,0,0,1,0],\n",
    "              [1,0,0,0,0,0,1,0,0,0],\n",
    "              [1,0,0,0,0,0,1,0,0,0]])\n",
    "\n",
    "pattern_key = np.array([1,2,2,3,4])\n",
    "print(\"The input matrix is:\\n\",pattern_mat)\n",
    "print(\"The length of repeated structure is:\",pattern_key)"
   ]
  },
  {
   "cell_type": "code",
   "execution_count": 19,
   "metadata": {},
   "outputs": [
    {
     "name": "stdout",
     "output_type": "stream",
     "text": [
      "The output matrix is:\n",
      " [[ 5  5 10 10  1]\n",
      " [ 2  3  8  9  2]\n",
      " [ 3  4  9 10  2]\n",
      " [ 1  3  7  9  3]\n",
      " [ 1  4  7 10  4]]\n"
     ]
    }
   ],
   "source": [
    "output = reformat(pattern_mat,pattern_key)\n",
    "print(\"The output matrix is:\\n\",output)"
   ]
  }
 ],
 "metadata": {
  "kernelspec": {
   "display_name": "Python 3",
   "language": "python",
   "name": "python3"
  },
  "language_info": {
   "codemirror_mode": {
    "name": "ipython",
    "version": 3
   },
   "file_extension": ".py",
   "mimetype": "text/x-python",
   "name": "python",
   "nbconvert_exporter": "python",
   "pygments_lexer": "ipython3",
   "version": "3.9.2"
  }
 },
 "nbformat": 4,
 "nbformat_minor": 4
}