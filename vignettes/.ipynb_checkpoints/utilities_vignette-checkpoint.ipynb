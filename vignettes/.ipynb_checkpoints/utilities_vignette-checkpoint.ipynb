{
 "cells": [
  {
   "cell_type": "markdown",
   "metadata": {},
   "source": [
    "# The Utilities Module\n",
    "\n",
    "The `utilities` module of the `ah` package holds functions commonly called by other modules in order for the entire package to run smoothly.\n",
    "`Utilities` includes the following functions:\n",
    "- __add_annotations__: Adds annotations to each pair of repeated structures \n",
    "    according to their length and order of occurence. \n",
    "- __create_sdm__: Creates a self-dissimilarity matrix; this matrix is found \n",
    "    by creating audio shingles from feature vectors, and finding cosine \n",
    "    distance between shingles.\n",
    "- __find_initial_repeats__: Finds all diagonals present in thresh_mat, \n",
    "    removing each diagonal as it is found.\n",
    "- __reconstruct_full_block__: Creates a record of when pairs of repeated\n",
    "    structures occur, from the first beat in the song to the last beat of the\n",
    "    song. Pairs of repeated structures are marked with 1's.\n",
    "- __stretch_diags__: Fill out diagonals in binary self dissimilarity matrix\n",
    "    from diagonal starts and lengths.\n",
    "    \n",
    "These functions are called multiple times throughout the package to reformat the outputs of various functions. Functions from `utilities` are shown in yellow in the example function pipeline below.\n",
    "![alt text](function_pipeline.png)"
   ]
  },
  {
   "cell_type": "markdown",
   "metadata": {},
   "source": [
    "### Importing necessary modules"
   ]
  },
  {
   "cell_type": "code",
   "execution_count": 3,
   "metadata": {},
   "outputs": [],
   "source": [
    "import numpy as np\n",
    "from utilities import *"
   ]
  },
  {
   "cell_type": "markdown",
   "metadata": {},
   "source": [
    "## add_annotations\n",
    "\n",
    "Adds annotations to each pair of repeated structures according to their length and order of occurence to differentiate between different repeats of the same length. This function is called after a matrix denoting the repeats is created by functions such as `find_complete_list`. Once a list of pairs of repeats is generated, `add_annotations` first creates a binary matrix that denotes each repeat. `__find_song_pattern` uses this information to create a single row in which entries represent a time step and the repeat group that time step is a member of. Then, annotation markers are added to pairs of repeats by looping over all possible repeat lengths in ascending order. For each repeat length, the annotations are added in another for loop, checking whether each repeat already has an anotation assigned. \n",
    "\n",
    "\n",
    "The inputs for the function are:\n",
    "- __input_mat__: an array containing pairs of repeats. The first two columns refer to the first repeat of the pair. The third and fourth columns refer to the second repeat of the pair. The fifth column refers to the repeat lengths. The sixth column contains any previous annotations, which will be removed.\n",
    "- __song_length__: an integer denoting the number of shingles in the song\n",
    "\n",
    "The outputs for the function are:\n",
    "- __anno_list__: an array of pairs of repeats with annotations marked. "
   ]
  },
  {
   "cell_type": "code",
   "execution_count": 4,
   "metadata": {},
   "outputs": [
    {
     "name": "stdout",
     "output_type": "stream",
     "text": [
      "The input array is: \n",
      " [[ 2  5  8 11  4  0]\n",
      " [ 7 10 14 17  4  0]\n",
      " [ 2  5 15 18  4  0]\n",
      " [ 8 11 15 18  4  0]\n",
      " [ 9 12 16 19  4  0]]\n",
      "The number of shingles is: 19\n"
     ]
    }
   ],
   "source": [
    "input_mat =np.array([[2,5,8,11,4,0],\n",
    "[7,10,14,17,4,0],\n",
    "[2,5,15,18,4,0],\n",
    "[8,11,15,18,4,0],\n",
    "[9,12,16,19,4,0]])\n",
    "\n",
    "song_length = 19\n",
    "\n",
    "print(\"The input array is: \\n\",input_mat)\n",
    "print(\"The number of shingles is:\",song_length)"
   ]
  },
  {
   "cell_type": "code",
   "execution_count": 5,
   "metadata": {},
   "outputs": [
    {
     "name": "stdout",
     "output_type": "stream",
     "text": [
      "The array of repeats with annotations is:\n",
      " [[ 2  5  8 11  4  1]\n",
      " [ 2  5 15 18  4  1]\n",
      " [ 8 11 15 18  4  1]\n",
      " [ 7 10 14 17  4  2]\n",
      " [ 9 12 16 19  4  3]]\n"
     ]
    }
   ],
   "source": [
    "annotated_array = add_annotations(input_mat,song_length)\n",
    "print(\"The array of repeats with annotations is:\\n\",annotated_array)"
   ]
  },
  {
   "cell_type": "markdown",
   "metadata": {},
   "source": [
    "## create_sdm\n",
    "\n",
    "Creates a self-dissimilarity matrix; this matrix is found by creating audio shingles from feature vectors, and finding cosine distance between shingles.\n",
    "\n",
    "The inputs for the function are:\n",
    "- __fv_mat__: a matrix of feature vectors where each column is a timestep and each row includes feature information i.e. an array of 144 columns/beats and 12 rows corresponding to chroma values\n",
    "- __num_fv_per_shingle__: an integer denoting the number of feature vectors per audio shingle\n",
    "\n",
    "The outputs for the function are:\n",
    "- __self_dissim_mat__: a self dissimilarity matrix with paired cosine distances between shingles"
   ]
  },
  {
   "cell_type": "code",
   "execution_count": 6,
   "metadata": {},
   "outputs": [
    {
     "name": "stdout",
     "output_type": "stream",
     "text": [
      "The input matrix of feature vectors is:\n",
      " [[0.  0.5 0.  0.  0.  1.  0.  0. ]\n",
      " [0.  2.  0.  0.  0.  0.  0.  0. ]\n",
      " [0.  0.  0.  0.  0.  0.  3.  0. ]\n",
      " [0.  3.  0.  0.  2.  0.  0.  0. ]\n",
      " [0.  1.5 0.  0.  5.  0.  0.  0. ]]\n",
      "The number of feature vectors per audio shingles is: 3\n"
     ]
    }
   ],
   "source": [
    "my_data = np.array([[0,0.5,0,0,0,1,0,0],\n",
    "                    [0,2,0,0,0,0,0,0],\n",
    "                    [0,0,0,0,0,0,3,0],\n",
    "                    [0,3,0,0,2,0,0,0],\n",
    "                    [0,1.5,0,0,5,0,0,0]])\n",
    "\n",
    "num_fv_per_shingle = 3\n",
    "\n",
    "print('The input matrix of feature vectors is:\\n', my_data)\n",
    "print('The number of feature vectors per audio shingles is:',num_fv_per_shingle)"
   ]
  },
  {
   "cell_type": "code",
   "execution_count": 7,
   "metadata": {},
   "outputs": [
    {
     "name": "stdout",
     "output_type": "stream",
     "text": [
      "The resulting self-dissimilarity matrix is:\n",
      " [[0.         1.         1.         0.37395249 0.9796637  1.        ]\n",
      " [1.         0.         1.         1.         0.45092001 0.95983903]\n",
      " [1.         1.         0.         1.         1.         1.        ]\n",
      " [0.37395249 1.         1.         0.         1.         1.        ]\n",
      " [0.9796637  0.45092001 1.         1.         0.         1.        ]\n",
      " [1.         0.95983903 1.         1.         1.         0.        ]]\n"
     ]
    }
   ],
   "source": [
    "output = create_sdm(my_data,num_fv_per_shingle)\n",
    "print('The resulting self-dissimilarity matrix is:\\n',output)"
   ]
  },
  {
   "cell_type": "markdown",
   "metadata": {},
   "source": [
    "## find_initial_repeats\n",
    "\n",
    "Identifies all repeated structures in a sequential data stream which are represented as diagonals in thresh_mat and then stores the pairs of repeats that correspond to each repeated structure in a list.\n",
    "\n",
    "The inputs for the function are:\n",
    "- __thresh_mat__: a thresholded matrix from which diagonals are extracted\n",
    "- __bandwidth_vec__: a vector of lengths of diagonals to be found\n",
    "- __thresh_bw__: an integer indicating the smallest allowed diagonal length\n",
    "\n",
    "The outputs for the function are:\n",
    "- __all_lst__: an array of pairs of repeats that correspond to diagonals in thresh_mat"
   ]
  },
  {
   "cell_type": "code",
   "execution_count": 8,
   "metadata": {},
   "outputs": [
    {
     "name": "stdout",
     "output_type": "stream",
     "text": [
      "The thresholded matrix is:\n",
      " [[1 0 0 1 0 0 0 1 0 0]\n",
      " [0 1 0 0 1 1 0 0 1 0]\n",
      " [0 0 1 0 0 1 1 0 0 1]\n",
      " [1 0 0 1 0 0 1 1 0 0]\n",
      " [0 1 0 0 1 0 1 0 0 0]\n",
      " [0 1 1 0 0 1 0 1 1 0]\n",
      " [0 0 1 1 1 0 1 0 1 0]\n",
      " [1 0 0 1 0 1 0 1 0 1]\n",
      " [0 1 0 0 0 1 1 0 1 0]\n",
      " [0 0 1 0 0 0 0 1 0 1]]\n",
      "The lengths of diagonals to be found are: [ 1  2  3  4  5  6  7  8  9 10]\n",
      "The smalled allowed diagonal length is: 0\n"
     ]
    }
   ],
   "source": [
    "thresh_mat = np.array([[1,0,0,1,0,0,0,1,0,0],\n",
    "                       [0,1,0,0,1,1,0,0,1,0],\n",
    "                       [0,0,1,0,0,1,1,0,0,1],\n",
    "                       [1,0,0,1,0,0,1,1,0,0],\n",
    "                       [0,1,0,0,1,0,1,0,0,0],\n",
    "                       [0,1,1,0,0,1,0,1,1,0],\n",
    "                       [0,0,1,1,1,0,1,0,1,0],\n",
    "                       [1,0,0,1,0,1,0,1,0,1],\n",
    "                       [0,1,0,0,0,1,1,0,1,0],\n",
    "                       [0,0,1,0,0,0,0,1,0,1]])\n",
    "\n",
    "bandwidth_vec = np.array([1,2,3,4,5,6,7,8,9,10])\n",
    "thresh_bw = 0\n",
    "\n",
    "print('The thresholded matrix is:\\n',thresh_mat)\n",
    "print('The lengths of diagonals to be found are:',bandwidth_vec)\n",
    "print('The smalled allowed diagonal length is:',thresh_bw)"
   ]
  },
  {
   "cell_type": "code",
   "execution_count": 9,
   "metadata": {},
   "outputs": [
    {
     "name": "stdout",
     "output_type": "stream",
     "text": [
      "The pairs of repeats are:\n",
      " [[ 6  6  9  9  1]\n",
      " [ 5  6  7  8  2]\n",
      " [ 7  8  9 10  2]\n",
      " [ 1  3  4  6  3]\n",
      " [ 2  4  5  7  3]\n",
      " [ 2  4  6  8  3]\n",
      " [ 1  3  8 10  3]\n",
      " [ 1 10  1 10 10]]\n"
     ]
    }
   ],
   "source": [
    "output = find_initial_repeats(thresh_mat,bandwidth_vec,thresh_bw)\n",
    "\n",
    "print(\"The pairs of repeats are:\\n\",output)"
   ]
  },
  {
   "cell_type": "markdown",
   "metadata": {},
   "source": [
    "## reconstruct_full_block\n",
    "\n",
    "Creates a record of when pairs of repeated structures occur, from the first beat in the song to the end. This record is a binary matrix with a block of 1's for each repeat encoded in pattern_mat whose length is encoded in pattern_key. By looping over all rows of pattern_mat, `reconstruct_full_block` reconstructs each row using the pattern_key. \n",
    "\n",
    "For each row of pattern_mat, a new row is created for pattern_block by looping over the same row of pattern_mat and shifting the position of 1's the number of times equivalent to the length of the repeat, storing each unique row with shifted values in a separate array. The sum of all of the shifted rows is then taken along the x axis, thus creating a row that represents where each repeat occurs with blocks of 1's.\n",
    "\n",
    "For example, if the row in pattern_mat is [0 0 1 0 0 0 0 0 1 0 0 0 1 0 0], with a repeat length of 3, the new rows created by the for loop are:<br>\n",
    "[0 0 1 0 0 0 0 0 1 0 0 0 1 0 0]<br>\n",
    "[0 0 0 1 0 0 0 0 0 1 0 0 0 1 0]<br>\n",
    "[0 0 0 0 1 0 0 0 0 0 1 0 0 0 1]<br>\n",
    "These rows are then summed along the y axis to become: [0 0 1 1 1 0 0 0 1 1 1 0 1 1 1] This is then appended to the output pattern_block.\n",
    "\n",
    "\n",
    "The inputs for the function are:\n",
    "- __pattern_mat__: a binary matrix with 1's where repeats begin and 0's otherwise\n",
    "- __pattern_key__: an integer denoting the number of feature vectors per audio shingle\n",
    "\n",
    "The outputs for the function are:\n",
    "- __pattern_block__: a binary matrix representation for pattern_mat with blocks of 1's equal to the length's prescribed in pattern_key"
   ]
  },
  {
   "cell_type": "code",
   "execution_count": 10,
   "metadata": {},
   "outputs": [
    {
     "name": "stdout",
     "output_type": "stream",
     "text": [
      "The input binary matrix is:\n",
      " [[0 0 0 0 1 0 0 0 0 1]\n",
      " [0 1 0 0 0 0 0 1 0 0]\n",
      " [0 0 1 0 0 0 0 0 1 0]\n",
      " [1 0 0 0 0 0 1 0 0 0]\n",
      " [1 0 0 0 0 0 1 0 0 0]]\n",
      "The input pattern key is:\n",
      " [1 2 2 3 4]\n"
     ]
    }
   ],
   "source": [
    "P = np.array([[0,0,0,0,1,0,0,0,0,1],\n",
    "              [0,1,0,0,0,0,0,1,0,0],\n",
    "              [0,0,1,0,0,0,0,0,1,0],\n",
    "              [1,0,0,0,0,0,1,0,0,0],\n",
    "              [1,0,0,0,0,0,1,0,0,0]])\n",
    "\n",
    "K = np.array([1,2,2,3,4])\n",
    "\n",
    "print(\"The input binary matrix is:\\n\",P)\n",
    "print(\"The input pattern key is:\\n\",K)"
   ]
  },
  {
   "cell_type": "code",
   "execution_count": 11,
   "metadata": {},
   "outputs": [
    {
     "name": "stdout",
     "output_type": "stream",
     "text": [
      "The reconstructed full block is:\n",
      " [[0 0 0 0 1 0 0 0 0 1]\n",
      " [0 1 1 0 0 0 0 1 1 0]\n",
      " [0 0 1 1 0 0 0 0 1 1]\n",
      " [1 1 1 0 0 0 1 1 1 0]\n",
      " [1 1 1 1 0 0 1 1 1 1]]\n"
     ]
    }
   ],
   "source": [
    "output = reconstruct_full_block(P,K)\n",
    "print(\"The reconstructed full block is:\\n\",output)"
   ]
  },
  {
   "cell_type": "markdown",
   "metadata": {},
   "source": [
    "## stretch_diags\n",
    "\n",
    "Creates binary matrix with full length diagonals from binary matrix of diagonal starts and length of diagonals\n",
    "        \n",
    "The inputs for the function are:\n",
    "- __thresh_diags__: a binary matrix where entries equal to 1 signal the existence of a diagonal\n",
    "- __band_width__: the length of encoded diagonals\n",
    "\n",
    "The outputs for the function are:\n",
    "- __stretch_diag_mat__: a logical matrix with diagonals of length band_width starting at each entry prescribed in thresh_diag"
   ]
  },
  {
   "cell_type": "code",
   "execution_count": 23,
   "metadata": {},
   "outputs": [
    {
     "name": "stdout",
     "output_type": "stream",
     "text": [
      "The input matrix is:\n",
      " [[0 0 1 0 0]\n",
      " [0 1 0 0 0]\n",
      " [0 0 1 0 0]\n",
      " [0 0 0 0 0]\n",
      " [0 0 0 0 0]]\n",
      "The length of the encoded diagonals is: 3\n"
     ]
    }
   ],
   "source": [
    "thresh_diags = np.matrix([[0,0,1,0,0],\n",
    "                         [0,1,0,0,0],\n",
    "                         [0,0,1,0,0],\n",
    "                         [0,0,0,0,0],\n",
    "                         [0,0,0,0,0]])\n",
    "\n",
    "band_width = 3\n",
    "\n",
    "print(\"The input matrix is:\\n\",thresh_diags)\n",
    "print(\"The length of the encoded diagonals is:\",band_width)"
   ]
  },
  {
   "cell_type": "code",
   "execution_count": 24,
   "metadata": {},
   "outputs": [
    {
     "name": "stdout",
     "output_type": "stream",
     "text": [
      "The output matrix is:\n",
      " [[False False False False False False False]\n",
      " [False  True False False False False False]\n",
      " [ True False  True False False False False]\n",
      " [False  True False  True False False False]\n",
      " [False False  True False  True False False]\n",
      " [False False False False False False False]\n",
      " [False False False False False False False]]\n"
     ]
    }
   ],
   "source": [
    "stretched_diagonal = stretch_diags(thresh_diags,band_width)\n",
    "\n",
    "print(\"The output matrix is:\\n\",stretched_diagonal)"
   ]
  },
  {
   "cell_type": "code",
   "execution_count": null,
   "metadata": {},
   "outputs": [],
   "source": []
  },
  {
   "cell_type": "code",
   "execution_count": null,
   "metadata": {},
   "outputs": [],
   "source": []
  },
  {
   "cell_type": "code",
   "execution_count": null,
   "metadata": {},
   "outputs": [],
   "source": []
  }
 ],
 "metadata": {
  "kernelspec": {
   "display_name": "Python 3",
   "language": "python",
   "name": "python3"
  },
  "language_info": {
   "codemirror_mode": {
    "name": "ipython",
    "version": 3
   },
   "file_extension": ".py",
   "mimetype": "text/x-python",
   "name": "python",
   "nbconvert_exporter": "python",
   "pygments_lexer": "ipython3",
   "version": "3.7.6"
  }
 },
 "nbformat": 4,
 "nbformat_minor": 4
}
