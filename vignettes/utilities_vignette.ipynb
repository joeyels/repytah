{
 "cells": [
  {
   "cell_type": "markdown",
   "metadata": {},
   "source": [
    "# The Utilities Module\n",
    "\n",
    "The `utilities` module of the `ah` package holds functions commonly called by other modules in order to ...\n",
    "`Utilities` includes the following functions:\n",
    "- __add_annotations__: Adds annotations to each pair of repeated structures \n",
    "    according to their length and order of occurence. \n",
    "- __create_sdm__: Creates a self-dissimilarity matrix; this matrix is found \n",
    "    by creating audio shingles from feature vectors, and finding cosine \n",
    "    distance between shingles.\n",
    "- __find_initial_repeats__: Finds all diagonals present in thresh_mat, \n",
    "    removing each diagonal as it is found.\n",
    "- __reconstruct_full_block__: Creates a record of when pairs of repeated\n",
    "    structures occur, from the first beat in the song to the last beat of the\n",
    "    song. Pairs of repeated structures are marked with 1's.\n",
    "- __reformat__: (??)Transforms a binary matrix representation of when repeats \n",
    "    occur in a song into a list of repeated structures detailing the length\n",
    "    and occurence of each repeat. \n",
    "- __stretch_diags__: Fill out diagonals in binary self dissimilarity matrix\n",
    "    from diagonal starts and lengths "
   ]
  },
  {
   "cell_type": "markdown",
   "metadata": {},
   "source": [
    "### Importing necessary modules"
   ]
  },
  {
   "cell_type": "code",
   "execution_count": 13,
   "metadata": {},
   "outputs": [],
   "source": [
    "import numpy as np\n",
    "from utilities import *"
   ]
  },
  {
   "cell_type": "markdown",
   "metadata": {},
   "source": [
    "## add_annotations\n",
    "\n",
    "Adds annotations to each pair of repeated structures according to their length and order of occurence. \n",
    "\n",
    "The inputs for the function are:\n",
    "- __input_mat__: an array containing pairs of repeats. The first two columns refer to the first repeat of the pair. The third and fourth columns refer to the second repeat of the pair. The fifth column refers to the repeat lengths. The sixth column contains any previous annotations, which will be removed.\n",
    "- __song_length__: an integer denoting the number of shingles in the song\n",
    "\n",
    "The outputs for the function are:\n",
    "- __anno_list__: an array of pairs of repeats with annotations marked. "
   ]
  },
  {
   "cell_type": "code",
   "execution_count": 14,
   "metadata": {},
   "outputs": [
    {
     "name": "stdout",
     "output_type": "stream",
     "text": [
      "The input array is: [[ 2  5  8 11  4  0]\n",
      " [ 7 10 14 17  4  0]\n",
      " [ 2  5 15 18  4  0]\n",
      " [ 8 11 15 18  4  0]\n",
      " [ 9 12 16 19  4  0]]\n",
      "The number of shingles is: 19\n"
     ]
    }
   ],
   "source": [
    "input_mat =np.array([[2,5,8,11,4,0],\n",
    "[7,10,14,17,4,0],\n",
    "[2,5,15,18,4,0],\n",
    "[8,11,15,18,4,0],\n",
    "[9,12,16,19,4,0]])\n",
    "\n",
    "song_length = 19\n",
    "\n",
    "print(\"The input array is:\",input_mat)\n",
    "print(\"The number of shingles is:\",song_length)"
   ]
  },
  {
   "cell_type": "code",
   "execution_count": 15,
   "metadata": {},
   "outputs": [
    {
     "name": "stdout",
     "output_type": "stream",
     "text": [
      "The array of repeats with annotations is: [[ 2  5  8 11  4  1]\n",
      " [ 2  5 15 18  4  1]\n",
      " [ 8 11 15 18  4  1]\n",
      " [ 7 10 14 17  4  2]\n",
      " [ 9 12 16 19  4  3]]\n"
     ]
    }
   ],
   "source": [
    "annotated_array = add_annotations(input_mat,song_length)\n",
    "print(\"The array of repeats with annotations is:\",annotated_array)"
   ]
  },
  {
   "cell_type": "markdown",
   "metadata": {},
   "source": [
    "## create_sdm\n",
    "\n",
    "Creates a self-dissimilarity matrix; this matrix is found by creating audio shingles from feature vectors, and finding cosine distance between shingles.\n",
    "\n",
    "The inputs for the function are:\n",
    "- __fv_mat__: a matrix of feature vectors where each column is a timestep and each row includes feature information i.e. an array of 144 columns/beats and 12 rows corresponding to chroma values\n",
    "- __num_fv_per_shingle__: an integer denoting the number of feature vectors per audio shingle\n",
    "\n",
    "The outputs for the function are:\n",
    "- __self_dissim_mat__: a self dissimilarity matrix with paired cosine distances between shingles"
   ]
  },
  {
   "cell_type": "code",
   "execution_count": null,
   "metadata": {},
   "outputs": [],
   "source": []
  },
  {
   "cell_type": "code",
   "execution_count": null,
   "metadata": {},
   "outputs": [],
   "source": []
  },
  {
   "cell_type": "markdown",
   "metadata": {},
   "source": [
    "## find_initial_repeats\n",
    "\n",
    "Identifies all repeated structures in a sequential data stream which are represented as diagonals in thresh_mat and then stores the pairs of repeats that correspond to each repeated structure in a list.\n",
    "\n",
    "The inputs for the function are:\n",
    "- __thresh_mat__: a thresholded matrix from which diagonals are extracted\n",
    "- __bandwidth_vec__: a vector of lengths of diagonals to be found\n",
    "- __thresh_bw__: an integer indicating the smallest allowed diagonal length\n",
    "\n",
    "The outputs for the function are:\n",
    "- __all_lst__: an array of pairs of repeats that correspond to diagonals in thresh_mat"
   ]
  },
  {
   "cell_type": "code",
   "execution_count": null,
   "metadata": {},
   "outputs": [],
   "source": []
  },
  {
   "cell_type": "code",
   "execution_count": null,
   "metadata": {},
   "outputs": [],
   "source": []
  },
  {
   "cell_type": "markdown",
   "metadata": {},
   "source": [
    "## reconstruct_full_block\n",
    "\n",
    "Creates a record of when pairs of repeated structures occur, from the first beat in the song to the end. This record is a binary matrix with a block of 1's for each repeat encoded in pattern_mat whose length is encoded in pattern_key\n",
    "\n",
    "The inputs for the function are:\n",
    "- __pattern_mat__: a binary matrix with 1's where repeats begin and 0's otherwise\n",
    "- __pattern_key__: an integer denoting the number of feature vectors per audio shingle\n",
    "\n",
    "The outputs for the function are:\n",
    "- __pattern_block__: a binary matrix representation for pattern_mat with blocks of 1's equal to the length's prescribed in pattern_key"
   ]
  },
  {
   "cell_type": "code",
   "execution_count": null,
   "metadata": {},
   "outputs": [],
   "source": []
  },
  {
   "cell_type": "code",
   "execution_count": null,
   "metadata": {},
   "outputs": [],
   "source": []
  },
  {
   "cell_type": "markdown",
   "metadata": {},
   "source": [
    "## stretch_diags\n",
    "\n",
    "Creates binary matrix with full length diagonals from binary matrix of diagonal starts and length of diagonals\n",
    "        \n",
    "The inputs for the function are:\n",
    "- __thresh_diags__: a binary matrix where entries equal to 1 signal the existence of a diagonal\n",
    "- __band_width__: the length of encoded diagonals\n",
    "\n",
    "The outputs for the function are:\n",
    "- __stretch_diag_mat__: a logical matrix with diagonals of length band_width starting at each entry prescribed in thresh_diag"
   ]
  },
  {
   "cell_type": "code",
   "execution_count": 16,
   "metadata": {},
   "outputs": [
    {
     "name": "stdout",
     "output_type": "stream",
     "text": [
      "The input matrix is:\n",
      "[[0 0 1 0 0]\n",
      " [0 1 0 0 0]\n",
      " [0 0 1 0 0]\n",
      " [0 0 0 0 0]\n",
      " [0 0 0 0 0]]\n",
      "The length of the encoded diagonals is: 3\n"
     ]
    }
   ],
   "source": [
    "thresh_diags = np.matrix([[0,0,1,0,0],\n",
    "                         [0,1,0,0,0],\n",
    "                         [0,0,1,0,0],\n",
    "                         [0,0,0,0,0],\n",
    "                         [0,0,0,0,0]])\n",
    "\n",
    "band_width = 3\n",
    "\n",
    "print(\"The input matrix is:\")\n",
    "print(thresh_diags)\n",
    "print(\"The length of the encoded diagonals is:\",band_width)"
   ]
  },
  {
   "cell_type": "code",
   "execution_count": 17,
   "metadata": {},
   "outputs": [
    {
     "name": "stdout",
     "output_type": "stream",
     "text": [
      "The output matrix is:\n",
      "[[False False False False False False False]\n",
      " [False  True False False False False False]\n",
      " [ True False  True False False False False]\n",
      " [False  True False  True False False False]\n",
      " [False False  True False  True False False]\n",
      " [False False False False False False False]\n",
      " [False False False False False False False]]\n"
     ]
    }
   ],
   "source": [
    "stretched_diagonal = stretch_diags(thresh_diags,band_width)\n",
    "\n",
    "print(\"The output matrix is:\")\n",
    "print(stretched_diagonal)"
   ]
  },
  {
   "cell_type": "code",
   "execution_count": null,
   "metadata": {},
   "outputs": [],
   "source": []
  },
  {
   "cell_type": "code",
   "execution_count": null,
   "metadata": {},
   "outputs": [],
   "source": []
  },
  {
   "cell_type": "code",
   "execution_count": null,
   "metadata": {},
   "outputs": [],
   "source": []
  }
 ],
 "metadata": {
  "kernelspec": {
   "display_name": "Python 3",
   "language": "python",
   "name": "python3"
  },
  "language_info": {
   "codemirror_mode": {
    "name": "ipython",
    "version": 3
   },
   "file_extension": ".py",
   "mimetype": "text/x-python",
   "name": "python",
   "nbconvert_exporter": "python",
   "pygments_lexer": "ipython3",
   "version": "3.7.6"
  }
 },
 "nbformat": 4,
 "nbformat_minor": 4
}
