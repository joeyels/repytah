{
 "cells": [
  {
   "cell_type": "markdown",
   "id": "c64d906b",
   "metadata": {},
   "source": [
    "# The Run_SNLD Module\n",
    "\n",
    "The `run_SNLD` module of the `repytah-se` constructs and analyzes Start Normalized Length (SNL) Diagrams. The SNL diagrams are made from Aligned Hierarchies (AH) and based on Topological Data Analysis. The module allows the user to process directories that hold multiple files and process single files. \n",
    "\n",
    "SNLD Diagrams are better at comparing songs for the cover song detection task compared to Aligned Hierarchies, whose strength lies in visualization, and SE Diagrams, because they can compare songs of different lengths. \n",
    "\n"
   ]
  },
  {
   "cell_type": "markdown",
   "id": "77c8c6b3",
   "metadata": {},
   "source": [
    "## Pipeline\n",
    "\n",
    "The overall pipeline for `repytah-se` is shown below.\n",
    "\n",
    "<img src=\"pictures/SNLflow.jpg\" width=\"380\">\n",
    "\n",
    "\n",
    "\n",
    "To create a distance matrix from SE/SNL diagrams , it is recommended to provide multiple files.\n",
    "\n",
    "You can choose to start from chroma vector files, however you can also start from aligned hierarchies if you have already processed them. There is also the option to process a single file to SE/SNL diagrams or process a directory of multiple files to SE/SNL diagrams and distance matrices. There will be examples provided to help you with the possible options. "
   ]
  },
  {
   "cell_type": "markdown",
   "id": "1153bc9e",
   "metadata": {},
   "source": [
    "## Import Modules\n"
   ]
  },
  {
   "cell_type": "code",
   "execution_count": 1,
   "id": "e7aa544e",
   "metadata": {},
   "outputs": [],
   "source": [
    "import numpy as np\n",
    "import pandas as pd\n",
    "import persim\n",
    "import pkg_resources\n",
    "\n",
    "from run_SNLD import *\n"
   ]
  },
  {
   "cell_type": "markdown",
   "id": "642b75fd",
   "metadata": {},
   "source": [
    "## Processing a Single File\n",
    "\n",
    "This phase is the integration between `repytah` and `repytah-se`. We create aligned hierarchies from the chroma vectors of a music-based data stream (eg. a song) in `.csv` files. In this step, we choose a threshold value to filter out noise and a number of feature vectors per shingle for contextualization. If running multiple tests with the same threshold and number of feature vectors per shingle values, it is recommended to save the intermediate aligned hierarchies. Please note that while `repytah` contains methods to save aligned hierarchies as `.csv` or `.mat` files, the intermediate aligned hierarchies in this module will be saved in `.mat` format. \n",
    "\n",
    "For more on how aligned hierarchies are created, see `example_vignette.ipynb`.\n",
    "\n",
    "We are using Chopin's Mazurka Op.6, No.1 as input for this demonstration."
   ]
  },
  {
   "cell_type": "code",
   "execution_count": 2,
   "id": "de41c397",
   "metadata": {},
   "outputs": [
    {
     "name": "stdout",
     "output_type": "stream",
     "text": [
      "157\n"
     ]
    }
   ],
   "source": [
    "# starting from chroma vectors\n",
    "\n",
    "filepath = 'data/input.csv'\n",
    "num_fv_per_shingle = 12\n",
    "thresh = 0.02\n",
    "norm_type = \"std\"\n",
    "alpha = 1\n",
    "\n",
    "# default for isChroma is True\n",
    "SNL_diagram = get_SNLDs(filepath, num_fv_per_shingle, thresh, norm_type, alpha, isChroma=True, save=False)\n",
    "\n",
    "print(len(SNL_diagram))\n"
   ]
  },
  {
   "cell_type": "code",
   "execution_count": 3,
   "id": "e031266b",
   "metadata": {},
   "outputs": [
    {
     "name": "stdout",
     "output_type": "stream",
     "text": [
      "157\n"
     ]
    }
   ],
   "source": [
    "# starting from AH\n",
    "\n",
    "filepath ='data/input.mat'\n",
    "norm_type = \"std\"\n",
    "alpha = 1\n",
    "\n",
    "# these values don't matter since starting from AHs\n",
    "num_fv_per_shingle = 12\n",
    "thresh = 0.02\n",
    "\n",
    "SNL_diagram = get_SNLDs(filepath, num_fv_per_shingle, thresh, norm_type, alpha, isChroma=False, save=False)\n",
    "\n",
    "print(len(SNL_diagram))\n",
    "\n",
    "\n"
   ]
  },
  {
   "cell_type": "markdown",
   "id": "67e905a9",
   "metadata": {},
   "source": [
    "## Processing Multiple Files\n",
    "\n",
    "This module is based on Chopin's Mazurka Dataset, which has expanded and nonexpanded forms for each piece. Thus, the data directories are set up as below. For the smoothest running out of the box, it is recommended that you also organize your files in this fashion, but modified for your purposes.\n",
    "\n",
    "Before running, the directory should look like this:\n",
    "<img src=\"pictures/begin_directoryascii.png\" width=\"300\">\n",
    "\n",
    "If saving intermediate Aligned Hierarchies, the directory will look like this:\n",
    "<img src=\"pictures/after_directoryascii.png\" width=\"380\">"
   ]
  },
  {
   "cell_type": "code",
   "execution_count": 4,
   "id": "382a601a",
   "metadata": {},
   "outputs": [
    {
     "name": "stdout",
     "output_type": "stream",
     "text": [
      "There are 4 total SE diagrams in data/chroma_vectors\n",
      "The classes are: ['\\\\expanded', '\\\\nonexpanded']\n",
      "The labels for each SE diagram are: [['mazurka06-1', 'mazurka06-2'], ['mazurka06-1', 'mazurka06-2']]\n"
     ]
    }
   ],
   "source": [
    "dir_path ='data/chroma_vectors' # can also start from AHs\n",
    "\n",
    "num_fv_per_shingle = 12\n",
    "thresh = 0.02\n",
    "norm_type = \"std\"\n",
    "alpha = 1\n",
    "\n",
    "# print(dirs)\n",
    "SNLD_directory = None\n",
    "SNLD_all = get_SNLD_directory(dir_path, num_fv_per_shingle, thresh, norm_type, alpha, isChroma=True, save=False)\n",
    "print(\"There are {} total SE diagrams in {}\".format((len(SNLD_all.SNLDs) * len(SNLD_all.SNLDs[0])), dir_path))\n",
    "print(\"The classes are:\", SNLD_all.className)\n",
    "print(\"The labels for each SE diagram are:\", SNLD_all.labels)\n"
   ]
  },
  {
   "cell_type": "markdown",
   "id": "bad63ac9",
   "metadata": {},
   "source": [
    "## get_dist_mat\n",
    "\n",
    "This function is used to pairwise compare songs. However, it is recommended to do this with SNL Diagrams instead of SE diagrams because in SNL Diagrams, you can compare two songs of different length. \n",
    "\n",
    "There are two distance metrics to choose from, `'b'` for [bottleneck distance](https://en.wikipedia.org/wiki/Topological_data_analysis) and `'w'` for [Wasserstein distance](https://en.wikipedia.org/wiki/Wasserstein_metric). \n",
    "\n",
    "With a matching truth matrix, you could implement a [kNN](https://en.wikipedia.org/wiki/K-nearest_neighbors_algorithm)."
   ]
  },
  {
   "cell_type": "code",
   "execution_count": 5,
   "id": "f2b5e9c6",
   "metadata": {},
   "outputs": [
    {
     "name": "stdout",
     "output_type": "stream",
     "text": [
      "Distance matrix:\n",
      "[[   0.         2761.42577757 2560.66138326 3040.75517384]\n",
      " [2761.42577757    0.          256.85147665  297.78114228]\n",
      " [2560.66138326  256.85147665    0.          487.35995357]\n",
      " [3040.75517384  297.78114228  487.35995357    0.        ]]\n",
      "\n",
      "Labels:\n",
      "['mazurka06-1', 'mazurka06-2', 'mazurka06-1', 'mazurka06-2']\n"
     ]
    }
   ],
   "source": [
    "D, labels = get_dist_mat(SNLD_all, metric='w')\n",
    "\n",
    "print(\"Distance matrix:\")\n",
    "print(D)\n",
    "\n",
    "# note that because our directory contained expanded and nonexpanded\n",
    "# versions of the same song, there are duplicate names in labels\n",
    "print(\"\\nLabels:\")\n",
    "print(labels)"
   ]
  }
 ],
 "metadata": {
  "kernelspec": {
   "display_name": "Python 3 (ipykernel)",
   "language": "python",
   "name": "python3"
  },
  "language_info": {
   "codemirror_mode": {
    "name": "ipython",
    "version": 3
   },
   "file_extension": ".py",
   "mimetype": "text/x-python",
   "name": "python",
   "nbconvert_exporter": "python",
   "pygments_lexer": "ipython3",
   "version": "3.10.4"
  }
 },
 "nbformat": 4,
 "nbformat_minor": 5
}
